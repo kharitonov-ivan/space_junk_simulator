{
 "cells": [
  {
   "cell_type": "markdown",
   "metadata": {
    "colab_type": "text",
    "id": "view-in-github"
   },
   "source": [
    "<a href=\"https://colab.research.google.com/github/neer201/space_junk_simulator/blob/master/1%20-%20Debug%20processing.ipynb\" target=\"_parent\"><img src=\"https://colab.research.google.com/assets/colab-badge.svg\" alt=\"Open In Colab\"/></a>"
   ]
  },
  {
   "cell_type": "markdown",
   "metadata": {
    "colab_type": "text",
    "id": "cBTbyaaQV7tO"
   },
   "source": [
    "Стадия I\n",
    "\n",
    "Программа принимает на вход скорости и координаты космических объектов и рассчитывает их положение и\n",
    "скорость в зависимости от времени методом численного решения уравнений Ньютона. Обоснован выбор\n",
    "разностной схемы и шага интеграции, требуемая точность - 10 cм за неделю. Расчёт на GPU\n",
    "Все расчёты в системе единиц СИ. Чтобы так не получилось.\n",
    "\n",
    "\n",
    "\n",
    "В коде есть интерфейс для простого добавления новых сил, действующих на объекты. Силы могут зависеть от\n",
    "времени, скорости и координат объекта, параметров объекта. В нём реализована элементарная модель\n",
    "гравитации, где Земля - шар.\n",
    "\n",
    "Есть визуализатор, для заданных id объектов и интервалу времени, рисующий их траекторию картинкой. В отчёте\n",
    "есть траектории 10 случайных объектов на протяжении суток."
   ]
  },
  {
   "cell_type": "code",
   "execution_count": 0,
   "metadata": {
    "colab": {},
    "colab_type": "code",
    "id": "len3Zg2HV7tR"
   },
   "outputs": [],
   "source": [
    "import csv\n",
    "import numpy as np\n",
    "import numpy as np"
   ]
  },
  {
   "cell_type": "markdown",
   "metadata": {
    "colab_type": "text",
    "id": "j2ioyIb9V7tU"
   },
   "source": [
    "# Генератор входных данных"
   ]
  },
  {
   "cell_type": "markdown",
   "metadata": {
    "colab_type": "text",
    "id": "qO_2PSE7V7tV"
   },
   "source": [
    "Есть код, генерирующий случайные начальные условия для 21000 объектов. Круговые орбиты, высота\n",
    "распределена по Гауссу, средняя 800 км, дисперсия 200 км, плоскости - равномерно. Размеры объектов от 1 см до\n",
    "10 м, распределены с pdf = 1/object_size\n",
    "\n",
    "Формат данных для каждого обьекта\n",
    "\n",
    "- ```object_id```\n",
    "- ```position```\n",
    "- ```size```\n",
    "- ```motion_vector```\n",
    "\n",
    "Допустим мы напишем генератор на python и данные по обьектам будем просто писать в csv файл."
   ]
  },
  {
   "cell_type": "markdown",
   "metadata": {
    "colab_type": "text",
    "id": "pPKRQs4sV7tV"
   },
   "source": [
    "https://upload.wikimedia.org/wikipedia/commons/2/24/Orbital_state_vectors.png\n",
    "\n",
    "https://upload.wikimedia.org/wikipedia/commons/c/c0/Spherical_with_grid.svg"
   ]
  },
  {
   "cell_type": "code",
   "execution_count": 0,
   "metadata": {
    "colab": {},
    "colab_type": "code",
    "id": "4IhrSipdV7tW"
   },
   "outputs": [],
   "source": [
    "def spherical_to_decart(radius, theta, phi):\n",
    "    x = radius * np.sin(theta) * np.cos(phi)\n",
    "    y = radius * np.sin(theta) * np.sin(phi)\n",
    "    z = radius * np.cos(theta)\n",
    "    return x, y, z\n",
    "\n",
    "\n",
    "def decart_to_spherical(x, y, z):\n",
    "    r = np.sqrt(x**2 + y**2 + z**2)\n",
    "    theta = np.arccos(z/r)\n",
    "    phi = np.arctan(y / x)\n",
    "    return r, theta, phi\n"
   ]
  },
  {
   "cell_type": "code",
   "execution_count": 0,
   "metadata": {
    "colab": {},
    "colab_type": "code",
    "id": "JXjkukCeV7tY"
   },
   "outputs": [],
   "source": [
    "def draw_random_number_from_pdf(pdf, interval, pdfmax=1, integers=False, max_iterations=10000):\n",
    "    \"\"\"\n",
    "    Draws a random number from given probability density function.\n",
    "\n",
    "    Parameters\n",
    "    ----------\n",
    "        pdf       -- the function pointer to a probability density function of form P = pdf(x)\n",
    "        interval  -- the resulting random number is restricted to this interval\n",
    "        pdfmax    -- the maximum of the probability density function\n",
    "        integers  -- boolean, indicating if the result is desired as integer\n",
    "        max_iterations -- maximum number of 'tries' to find a combination of random numbers (rand_x, rand_y) located below the function value calc_y = pdf(rand_x).\n",
    "\n",
    "    returns a single random number according the pdf distribution.\n",
    "    \"\"\"\n",
    "    for i in range(max_iterations):\n",
    "        if integers == True:\n",
    "            rand_x = np.random.randint(interval[0], interval[1])\n",
    "        else:\n",
    "            # (b - a) * random_sample() + a\n",
    "            rand_x = (interval[1] - interval[0]) * \\\n",
    "                np.random.random(1) + interval[0]\n",
    "\n",
    "        rand_y = pdfmax * np.random.random(1)\n",
    "        calc_y = pdf(rand_x)\n",
    "\n",
    "        if (rand_y <= calc_y):\n",
    "            return rand_x\n",
    "\n",
    "    raise Exception(\"Could not find a matching random number within pdf in \" +\n",
    "                    max_iterations + \" iterations.\")\n",
    "\n"
   ]
  },
  {
   "cell_type": "code",
   "execution_count": 0,
   "metadata": {
    "colab": {},
    "colab_type": "code",
    "id": "-8vWIwRIV7ta"
   },
   "outputs": [],
   "source": [
    "def generate_object_states(object_count=100,\n",
    "                           orbit_type='circle',\n",
    "                           orbit_altitude_mean=800000,\n",
    "                           orbit_altitude_var=200000,\n",
    "                           object_min_size=0.1,\n",
    "                           object_max_size=10.0) -> 'list of object parameters':\n",
    "   \n",
    "  \n",
    "\n",
    "    \"\"\"Generate object position\"\"\"\n",
    "    mu, sigma, size = orbit_altitude_mean, orbit_altitude_var, object_count\n",
    "    altitudes = np.random.normal(mu, sigma, size)\n",
    "\n",
    "    thetas_0 = np.random.uniform(0, 2*np.pi, size=object_count)\n",
    "    phis_0 = np.random.uniform(0, 2*np.pi, size=object_count)\n",
    "    \n",
    "    \n",
    "    \"\"\"Generate speed vector\"\"\"\n",
    "\n",
    "    \"\"\"Generate object sizes\"\"\"\n",
    "    sizes = [draw_random_number_from_pdf(lambda x: 1 / x, [object_min_size, object_max_size])[0]\n",
    "             for _ in range(object_count)]\n",
    "\n",
    "    object_list = []\n",
    "    for object_idx, altitude, theta_0, phi_0, size in zip(\n",
    "            range(object_count), altitudes, thetas_0, phis_0, sizes):\n",
    "        x_0, y_0, z_0 = spherical_to_decart(altitude, theta_0, phi_0)\n",
    "        \n",
    "        \n",
    "        eps = 0.000000001*np.pi\n",
    "        theta_1 = np.random.uniform(theta_0 - eps, theta_0 + eps, size=1)\n",
    "        phi_1 = np.random.uniform(phi_0 - eps, phi_0 + eps, size=1)\n",
    "        x_1, y_1, z_1 = spherical_to_decart(altitude, theta_1, phi_1)\n",
    "       \n",
    "        \n",
    "        vx_0 = x_1 - x_0\n",
    "        vy_0 = y_1 - y_0\n",
    "        vz_0 = z_1 - z_0\n",
    "        \n",
    "      \n",
    "        \n",
    "        object_list.append({'time': 0.0,\n",
    "                            'object_id': object_idx,\n",
    "                            'x': x_0,\n",
    "                            'y': y_0,\n",
    "                            'z': z_0,\n",
    "                            'vx' : vx_0[0],\n",
    "                            'vy' : vy_0[0],\n",
    "                            'vz' : vz_0[0],\n",
    "                            'size': size})\n",
    "\n",
    "    return object_list"
   ]
  },
  {
   "cell_type": "code",
   "execution_count": 0,
   "metadata": {
    "colab": {},
    "colab_type": "code",
    "id": "bfm_hFLVV7tc"
   },
   "outputs": [],
   "source": [
    "def generates_objects_in_file(filename,\n",
    "                              object_count=100,\n",
    "                              orbit_type='circle',\n",
    "                              orbit_altitude_mean=800000,\n",
    "                              orbit_altitude_var=200000,\n",
    "                              object_min_size=0.1,\n",
    "                              object_max_size=10.0):\n",
    "    object_list = generate_object_states(object_count, orbit_type, orbit_altitude_mean,\n",
    "                                            orbit_altitude_var, object_min_size, object_max_size)\n",
    "    time = 0\n",
    "    with open(filename, 'w', newline='') as csvfile:\n",
    "        spamwriter = csv.writer(csvfile, delimiter=' ',\n",
    "                                quotechar='|', quoting=csv.QUOTE_MINIMAL)\n",
    "        for space_object in object_list:\n",
    "            spamwriter.writerow([time,\n",
    "                                 space_object['object_id'],\n",
    "                                 space_object['x'],\n",
    "                                 space_object['y'],\n",
    "                                 space_object['z'],\n",
    "                                 space_object['vx'],\n",
    "                                 space_object['vy'],\n",
    "                                 space_object['vz'],\n",
    "                                 space_object['size']])\n",
    "    return -1"
   ]
  },
  {
   "cell_type": "code",
   "execution_count": 95,
   "metadata": {
    "colab": {
     "base_uri": "https://localhost:8080/",
     "height": 34
    },
    "colab_type": "code",
    "id": "pAmcYm2IV7te",
    "outputId": "af817764-28f6-4c3c-b393-bb44931d2769"
   },
   "outputs": [
    {
     "data": {
      "text/plain": [
       "-1"
      ]
     },
     "execution_count": 95,
     "metadata": {
      "tags": []
     },
     "output_type": "execute_result"
    }
   ],
   "source": [
    "generates_objects_in_file('objects.csv', object_count=1)"
   ]
  },
  {
   "cell_type": "code",
   "execution_count": 96,
   "metadata": {
    "colab": {
     "base_uri": "https://localhost:8080/",
     "height": 54
    },
    "colab_type": "code",
    "id": "owlRj4M8V7tj",
    "outputId": "1043fe76-d4b0-4ee0-d8b5-9f8259ba6cdf"
   },
   "outputs": [
    {
     "name": "stdout",
     "output_type": "stream",
     "text": [
      "0 0 -293137.5073949523 289384.7320252186 -822435.2375066729 -0.0017002025851979852 0.0006797147216275334 0.0008451633621007204 2.377887561148939\r\n"
     ]
    }
   ],
   "source": [
    "!head objects.csv"
   ]
  },
  {
   "cell_type": "code",
   "execution_count": 0,
   "metadata": {
    "colab": {},
    "colab_type": "code",
    "id": "g_0v_3BBV7tl"
   },
   "outputs": [],
   "source": [
    "def randint_with_dist(pdf):\n",
    "    choices = []\n",
    "    for index, value in enumerate(pdf):\n",
    "        choices.extend(index for _ in range(value))\n",
    "    return random.choice(choices)"
   ]
  },
  {
   "cell_type": "code",
   "execution_count": 0,
   "metadata": {
    "colab": {},
    "colab_type": "code",
    "id": "SSwHLLOgV7to"
   },
   "outputs": [],
   "source": []
  },
  {
   "cell_type": "markdown",
   "metadata": {
    "colab_type": "text",
    "id": "MbNqY5kWV7tq"
   },
   "source": [
    "# Forces\n"
   ]
  },
  {
   "cell_type": "code",
   "execution_count": 98,
   "metadata": {
    "colab": {
     "base_uri": "https://localhost:8080/",
     "height": 51
    },
    "colab_type": "code",
    "id": "zuHQUMycV7tq",
    "outputId": "0fbc1c05-06c8-40dc-e1bf-e3a470e833e4"
   },
   "outputs": [
    {
     "name": "stdout",
     "output_type": "stream",
     "text": [
      " G = 6.67408e-11 \n",
      " M = 5.972e+24\n"
     ]
    }
   ],
   "source": [
    "G = 6.67408e-11\n",
    "M = 5.972e24\n",
    "\n",
    "print(' G =', G, '\\n', 'M =', M)"
   ]
  },
  {
   "cell_type": "code",
   "execution_count": 99,
   "metadata": {
    "colab": {
     "base_uri": "https://localhost:8080/",
     "height": 34
    },
    "colab_type": "code",
    "id": "AmlkH12aV7tt",
    "outputId": "e76a0253-7f94-4606-cc53-44b085684f87"
   },
   "outputs": [
    {
     "data": {
      "text/plain": [
       "398576057600000.06"
      ]
     },
     "execution_count": 99,
     "metadata": {
      "tags": []
     },
     "output_type": "execute_result"
    }
   ],
   "source": [
    "G*M"
   ]
  },
  {
   "cell_type": "code",
   "execution_count": 0,
   "metadata": {
    "colab": {},
    "colab_type": "code",
    "id": "thuZR1lYV7tw"
   },
   "outputs": [],
   "source": [
    "objects = generate_object_states(1)"
   ]
  },
  {
   "cell_type": "code",
   "execution_count": 101,
   "metadata": {
    "colab": {
     "base_uri": "https://localhost:8080/",
     "height": 54
    },
    "colab_type": "code",
    "id": "RF4kLH46V7ty",
    "outputId": "43d549d4-b91b-4fa5-872b-46a31441cb8c"
   },
   "outputs": [
    {
     "name": "stdout",
     "output_type": "stream",
     "text": [
      "[{'time': 0.0, 'object_id': 0, 'x': -724983.0971898556, 'y': -435851.0969774283, 'z': 73663.67307819967, 'vx': 0.0007655603112652898, 'vy': -0.0012959454907104373, 'vz': -0.00013332258095033467, 'size': 1.333611942806206}]\n"
     ]
    }
   ],
   "source": [
    "print(objects)"
   ]
  },
  {
   "cell_type": "code",
   "execution_count": 0,
   "metadata": {
    "colab": {},
    "colab_type": "code",
    "id": "52yfT9n8V7t1"
   },
   "outputs": [],
   "source": [
    "def get_forces_of_batch():\n",
    "    accels_batch = []\n",
    "    for space_object in batch:\n",
    "        ax_1, ay_1, az_1 = get_accels(space_object)\n",
    "        accels_batch.append([ax_1, ay_1, az_1])\n",
    "        \n",
    "    return accels_batch"
   ]
  },
  {
   "cell_type": "code",
   "execution_count": 0,
   "metadata": {
    "colab": {},
    "colab_type": "code",
    "id": "IchnaK8RV7t3"
   },
   "outputs": [],
   "source": [
    "def get_accels(x0, y0, z0, vx0, vy0, vz0, ax0=0, ay0=0, az0=0, time=0, forces = 'simple_gravity'):\n",
    "    forces_set = ['simple_gravity']\n",
    "    ax, ay, az = 0,0,0\n",
    "    if forces  in forces_set:\n",
    "        radius = np.sqrt(x0**2 + y0**2 + z0**2)\n",
    "        gravity_part = (G * M) / radius\n",
    "        ax, ay, az = [- gravity_part * vector for vector in [x0, y0, z0]]\n",
    "        \n",
    "    return  ax, ay, az"
   ]
  },
  {
   "cell_type": "markdown",
   "metadata": {
    "colab_type": "text",
    "id": "eoeAvLfuV7t6"
   },
   "source": [
    "# ODE Solver (RK4 in 3d)"
   ]
  },
  {
   "cell_type": "code",
   "execution_count": 104,
   "metadata": {
    "colab": {
     "base_uri": "https://localhost:8080/",
     "height": 34
    },
    "colab_type": "code",
    "id": "2cbvsgXcV7t8",
    "outputId": "0799fa92-129b-430e-c159-e751744d44c6"
   },
   "outputs": [
    {
     "data": {
      "text/plain": [
       "0.0005"
      ]
     },
     "execution_count": 104,
     "metadata": {
      "tags": []
     },
     "output_type": "execute_result"
    }
   ],
   "source": [
    "0.001/2.0"
   ]
  },
  {
   "cell_type": "code",
   "execution_count": 0,
   "metadata": {
    "colab": {},
    "colab_type": "code",
    "id": "BCoEs9ivV7uA"
   },
   "outputs": [],
   "source": [
    "def rk4_step(time, x0, y0, z0, vx0, vy0, vz0, timestep):\n",
    "\n",
    "    dt = timestep * 2.0\n",
    "    dt2 = timestep   # half of timestep\n",
    "\n",
    "    ax0, ay0, az0 = get_accels(x0, y0, z0, vx0, vy0, vz0)\n",
    "\n",
    "    # RK4 Calc k1, l1 vars\n",
    "    kx1 = ax0 * dt2\n",
    "    ky1 = ay0 * dt2\n",
    "    kz1 = az0 * dt2\n",
    "\n",
    "    lx1 = vx0 * dt2\n",
    "    ly1 = vy0 * dt2\n",
    "    lz1 = vz0 * dt2\n",
    "\n",
    "    ax1, ay1, az1 = get_accels(x0 + lx1, y0 + ly1, z0 + lz1, vx0 + kx1,\n",
    "                               vy0 + ky1, vz0 + kz1)\n",
    "\n",
    "    # RK4 Calc k2, l2  vars\n",
    "    kx2 = ax1 * dt2\n",
    "    ky2 = ay1 * dt2\n",
    "    kz2 = az1 * dt2\n",
    "\n",
    "    lx2 = (vx0 + kx1) * dt2\n",
    "    ly2 = (vy0 + ky1) * dt2\n",
    "    lz2 = (vz0 + kz1) * dt2\n",
    "\n",
    "    ax2, ay2, az2 = get_accels(x0 + lx2, y0 + ly2, z0 + lz2, vx0 + kx2,\n",
    "                               vy0 + ky2, vz0 + kz2)\n",
    "\n",
    "    # RK4 Calc k3, l3  vars\n",
    "    kx3 = ax2 * dt\n",
    "    ky3 = ay2 * dt\n",
    "    kz3 = az2 * dt\n",
    "\n",
    "    lx3 = (vx0 + kx2) * dt\n",
    "    ly3 = (vy0 + ky2) * dt\n",
    "    lz3 = (vz0 + kz2) * dt\n",
    "\n",
    "    ax3, ay3, az3 = get_accels(x0 + lx3, y0 + ly3, z0 + lz3, vx0 + kx3,\n",
    "                               vy0 + ky3, vz0 + kz3)\n",
    "\n",
    "    # RK4 Calc k3, l3  vars\n",
    "    kx4 = ax3 * dt2\n",
    "    ky4 = ay3 * dt2\n",
    "    kz4 = az3 * dt2\n",
    "\n",
    "    lx4 = (vx0 + kx3) * dt2\n",
    "    ly4 = (vy0 + ky3) * dt2\n",
    "    lz4 = (vz0 + kz3) * dt2\n",
    "\n",
    "    x_step = x0 + (lx1 + 2.0 * lx2 + lx3 + lx4) / 3.0\n",
    "    y_step = y0 + (ly1 + 2.0 * ly2 + ly3 + ly4) / 3.0\n",
    "    z_step = z0 + (lz1 + 2.0 * lz2 + lz3 + lz4) / 3.0\n",
    "\n",
    "    vx_step = vx0 + (kx1 + 2.0 * kx2 + kx3 + kx4) / 3.0\n",
    "    vy_step = vy0 + (ky1 + 2.0 * ky2 + ky3 + ky4) / 3.0\n",
    "    vz_step = vz0 + (kz1 + 2.0 * kz2 + kz3 + kz4) / 3.0\n",
    "\n",
    "    return x_step, y_step, z_step, vx_step, vy_step, vz_step"
   ]
  },
  {
   "cell_type": "code",
   "execution_count": 0,
   "metadata": {
    "colab": {},
    "colab_type": "code",
    "id": "3k3GzcX1V7uD"
   },
   "outputs": [],
   "source": []
  },
  {
   "cell_type": "markdown",
   "metadata": {
    "colab_type": "text",
    "id": "F9ZSo-ZhV7uF"
   },
   "source": [
    "# Визуализация"
   ]
  },
  {
   "cell_type": "code",
   "execution_count": 0,
   "metadata": {
    "colab": {},
    "colab_type": "code",
    "id": "jqsS-XoZV7uG"
   },
   "outputs": [],
   "source": [
    "space_objects = generate_object_states(2)"
   ]
  },
  {
   "cell_type": "code",
   "execution_count": 107,
   "metadata": {
    "colab": {
     "base_uri": "https://localhost:8080/",
     "height": 71
    },
    "colab_type": "code",
    "id": "u0a8wcW8V7uI",
    "outputId": "c020aaea-e238-4b11-a7d5-3f04bd688cd6"
   },
   "outputs": [
    {
     "name": "stdout",
     "output_type": "stream",
     "text": [
      "{'time': 0.0, 'object_id': 0, 'x': 25217.424362950926, 'y': -496457.41386781185, 'z': 650671.2495281389, 'vx': 0.0014348032818816137, 'vy': -0.00088002800475806, 'vz': -0.0007270622299984097, 'size': 5.933089989621293}\n",
      "{'time': 0.0, 'object_id': 1, 'x': 32607.467348780316, 'y': 111403.94605749802, 'z': 807973.5680421025, 'vx': 0.00011244734560023062, 'vy': 0.0003848432534141466, 'vz': -5.760055501013994e-05, 'size': 0.8289531015153386}\n"
     ]
    }
   ],
   "source": [
    "for space_object in space_objects:\n",
    "    print(space_object)"
   ]
  },
  {
   "cell_type": "code",
   "execution_count": 0,
   "metadata": {
    "colab": {},
    "colab_type": "code",
    "id": "vRFiEUEbV7uL"
   },
   "outputs": [],
   "source": [
    "import numpy as np\n",
    "from mpl_toolkits.mplot3d import Axes3D\n",
    "import matplotlib.pyplot as plt\n",
    "from IPython.display import clear_output\n",
    "\n",
    "%matplotlib inline"
   ]
  },
  {
   "cell_type": "code",
   "execution_count": 109,
   "metadata": {
    "colab": {
     "base_uri": "https://localhost:8080/",
     "height": 737
    },
    "colab_type": "code",
    "id": "1up2oIzoV7uN",
    "outputId": "2ddcccc8-6209-4bcc-ae50-6131a5b28f0a"
   },
   "outputs": [
    {
     "name": "stderr",
     "output_type": "stream",
     "text": [
      "  0%|          | 29/10000 [00:00<00:35, 283.41it/s]"
     ]
    },
    {
     "name": "stdout",
     "output_type": "stream",
     "text": [
      "{'time': 0.0, 'object_id': 0, 'x': 25217.424362950926, 'y': -496457.41386781185, 'z': 650671.2495281389, 'vx': 0.0014348032818816137, 'vy': -0.00088002800475806, 'vz': -0.0007270622299984097, 'size': 5.933089989621293}\n"
     ]
    },
    {
     "name": "stderr",
     "output_type": "stream",
     "text": [
      "100%|██████████| 10000/10000 [00:22<00:00, 438.07it/s]\n"
     ]
    },
    {
     "data": {
      "image/png": "[encoded data removed]",
      "text/plain": [
       "<Figure size 864x864 with 1 Axes>"
      ]
     },
     "metadata": {
      "tags": []
     },
     "output_type": "display_data"
    }
   ],
   "source": [
    "from tqdm import trange\n",
    "simulation_steps = 10000\n",
    "time_step = 0.001  # s\n",
    "simulation_history = []\n",
    "\n",
    "plt.figure(figsize=(12,12))\n",
    "ax = plt.axes(projection='3d')\n",
    "\n",
    "for space_object in space_objects[:1]:\n",
    "    print(space_object)\n",
    "    time0 = space_object['time']\n",
    "    x0, y0, z0, vx0, vy0, vz0 = [space_object[var] \\\n",
    "                                 for var in ('x', 'y', 'z', 'vx', 'vy', 'vz')]\n",
    "    # vx0, vy0, vz0 = 0,0,0\n",
    "    objects_steps = []\n",
    "    for simulation_step in trange(simulation_steps):\n",
    "        \n",
    "    \n",
    "        x1, y1, z1, vx1, vy1, vz1 = rk4_step(time0+simulation_step*time_step, \n",
    "                                             x0, y0, z0, vx0, vy0, vz0,\n",
    "                                             timestep=time_step)\n",
    "       \n",
    "       \n",
    "        object_step = dict()\n",
    "        \n",
    "        object_step['x'] = x1\n",
    "        object_step['y'] = y1\n",
    "        object_step['z'] = z1\n",
    "        object_step['vx'] = vx1\n",
    "        object_step['vy'] = vy1\n",
    "        object_step['vz'] = vz1\n",
    "        objects_steps.append(object_step)\n",
    "        \n",
    "        x0, y0, z0, vx0, vy0, vz0 =  x1, y1, z1, vx1, vy1, vz1\n",
    "        ax.scatter3D( x1, y1, z1)\n",
    "\n",
    "    simulation_history.append(objects_steps)"
   ]
  },
  {
   "cell_type": "code",
   "execution_count": 0,
   "metadata": {
    "colab": {},
    "colab_type": "code",
    "id": "DLSewbylV7uQ",
    "outputId": "30d1f232-ae08-4a57-c311-dea012075816"
   },
   "outputs": [
    {
     "name": "stdout",
     "output_type": "stream",
     "text": [
      "-12782116.589295072 250687789.2148399 85601461.68920903\n",
      "24542.94860940799 -481345.7472835779 -164363.40872445703\n",
      "-12782116.965323579 250687789.1704056 85601461.76318787\n",
      "24543.06830949895 -481345.7331379056 -164363.43227651715\n",
      "-12782287.86683421 250687768.97408888 85601495.38961734\n"
     ]
    }
   ],
   "source": [
    "for object_step in objects_steps[:5]:\n",
    "    print(object_step['x'], object_step['y'], object_step['z'])\n",
    "       "
   ]
  },
  {
   "cell_type": "code",
   "execution_count": 0,
   "metadata": {
    "colab": {},
    "colab_type": "code",
    "id": "-wdyWeodV7uT",
    "outputId": "655a66c8-f5ad-4cda-e48d-a4771c600aa1"
   },
   "outputs": [
    {
     "data": {
      "image/png": "[encoded data removed]",
      "text/plain": [
       "<Figure size 864x864 with 1 Axes>"
      ]
     },
     "metadata": {
      "needs_background": "light",
      "tags": []
     },
     "output_type": "display_data"
    }
   ],
   "source": [
    "\n",
    "\n",
    "# To prevent automatic figure display when execution of the cell ends\n",
    "%config InlineBackend.close_figures=False \n",
    "\n",
    "\n",
    "plt.figure(figsize=(12,12))\n",
    "ax = plt.axes(projection='3d')\n",
    "\n",
    "for object_step in objects_steps:\n",
    "    ax.scatter3D(object_step['x'], object_step['y'], object_step['z'])\n",
    "plt.show()"
   ]
  },
  {
   "cell_type": "code",
   "execution_count": 0,
   "metadata": {
    "colab": {},
    "colab_type": "code",
    "id": "xHgl1kNuV7uV"
   },
   "outputs": [],
   "source": []
  },
  {
   "cell_type": "code",
   "execution_count": 0,
   "metadata": {
    "colab": {},
    "colab_type": "code",
    "id": "1C4pqStVV7uX",
    "outputId": "d238491a-f9f9-453a-c553-11b692f577d4"
   },
   "outputs": [
    {
     "ename": "ValueError",
     "evalue": "could not convert string to float: '0 0 -187635.1169015475 574722.8334821202 559501.0452130205 0.0014652525132987648 0.00028180587105453014 0.00020191667135804892 2.2412468921504876'",
     "output_type": "error",
     "traceback": [
      "\u001b[0;31m---------------------------------------------------------------------------\u001b[0m",
      "\u001b[0;31mValueError\u001b[0m                                Traceback (most recent call last)",
      "\u001b[0;32m<ipython-input-23-c61341a33b8c>\u001b[0m in \u001b[0;36m<module>\u001b[0;34m\u001b[0m\n\u001b[1;32m      5\u001b[0m     \u001b[0mcsv_reader\u001b[0m \u001b[0;34m=\u001b[0m \u001b[0mcsv\u001b[0m\u001b[0;34m.\u001b[0m\u001b[0mreader\u001b[0m\u001b[0;34m(\u001b[0m\u001b[0mcsv_file\u001b[0m\u001b[0;34m,\u001b[0m \u001b[0mdelimiter\u001b[0m\u001b[0;34m=\u001b[0m\u001b[0;34m','\u001b[0m\u001b[0;34m,\u001b[0m \u001b[0mquoting\u001b[0m\u001b[0;34m=\u001b[0m\u001b[0mcsv\u001b[0m\u001b[0;34m.\u001b[0m\u001b[0mQUOTE_NONNUMERIC\u001b[0m\u001b[0;34m)\u001b[0m\u001b[0;34m\u001b[0m\u001b[0;34m\u001b[0m\u001b[0m\n\u001b[1;32m      6\u001b[0m     \u001b[0mline_count\u001b[0m \u001b[0;34m=\u001b[0m \u001b[0;36m0\u001b[0m\u001b[0;34m\u001b[0m\u001b[0;34m\u001b[0m\u001b[0m\n\u001b[0;32m----> 7\u001b[0;31m     \u001b[0;32mfor\u001b[0m \u001b[0mrow\u001b[0m \u001b[0;32min\u001b[0m \u001b[0mcsv_reader\u001b[0m\u001b[0;34m:\u001b[0m\u001b[0;34m\u001b[0m\u001b[0;34m\u001b[0m\u001b[0m\n\u001b[0m\u001b[1;32m      8\u001b[0m         \u001b[0mprint\u001b[0m\u001b[0;34m(\u001b[0m\u001b[0mrow\u001b[0m\u001b[0;34m[\u001b[0m\u001b[0;36m0\u001b[0m\u001b[0;34m]\u001b[0m\u001b[0;34m)\u001b[0m\u001b[0;34m\u001b[0m\u001b[0;34m\u001b[0m\u001b[0m\n\u001b[1;32m      9\u001b[0m     \u001b[0mprint\u001b[0m\u001b[0;34m(\u001b[0m\u001b[0;34mf'Processed {line_count} lines.'\u001b[0m\u001b[0;34m)\u001b[0m\u001b[0;34m\u001b[0m\u001b[0;34m\u001b[0m\u001b[0m\n",
      "\u001b[0;31mValueError\u001b[0m: could not convert string to float: '0 0 -187635.1169015475 574722.8334821202 559501.0452130205 0.0014652525132987648 0.00028180587105453014 0.00020191667135804892 2.2412468921504876'"
     ]
    }
   ],
   "source": [
    "import csv\n",
    "object_list = []\n",
    "\n",
    "with open('objects.csv') as csv_file:\n",
    "    csv_reader = csv.reader(csv_file, delimiter=',', quoting=csv.QUOTE_NONNUMERIC)\n",
    "    line_count = 0\n",
    "    for row in csv_reader:\n",
    "        print(row[0])\n",
    "    print(f'Processed {line_count} lines.')"
   ]
  },
  {
   "cell_type": "code",
   "execution_count": 0,
   "metadata": {
    "colab": {},
    "colab_type": "code",
    "id": "g3bSEOoMV7uZ"
   },
   "outputs": [],
   "source": [
    "from matplotlib import pyplot\n",
    "from mpl_toolkits.mplot3d import Axes3D\n",
    "import random\n",
    "%matplotlib notebook\n",
    "\n",
    "fig = pyplot.figure()\n",
    "ax = Axes3D(fig)\n",
    "\n",
    "sequence_containing_x_vals = list(range(0, 100))\n",
    "sequence_containing_y_vals = list(range(0, 100))\n",
    "sequence_containing_z_vals = list(range(0, 100))\n",
    "\n",
    "random.shuffle(sequence_containing_x_vals)\n",
    "random.shuffle(sequence_containing_y_vals)\n",
    "random.shuffle(sequence_containing_z_vals)\n",
    "\n",
    "ax.scatter(sequence_containing_x_vals, sequence_containing_y_vals, sequence_containing_z_vals)\n",
    "pyplot.show()"
   ]
  },
  {
   "cell_type": "code",
   "execution_count": 0,
   "metadata": {
    "colab": {},
    "colab_type": "code",
    "id": "YXRIxu4RV7ua",
    "outputId": "c2104da4-1e94-4046-beb7-f35f9f0f78a9"
   },
   "outputs": [
    {
     "data": {
      "application/javascript": [
       "/* Put everything inside the global mpl namespace */\n",
       "window.mpl = {};\n",
       "\n",
       "\n",
       "mpl.get_websocket_type = function() {\n",
       "    if (typeof(WebSocket) !== 'undefined') {\n",
       "        return WebSocket;\n",
       "    } else if (typeof(MozWebSocket) !== 'undefined') {\n",
       "        return MozWebSocket;\n",
       "    } else {\n",
       "        alert('Your browser does not have WebSocket support.' +\n",
       "              'Please try Chrome, Safari or Firefox ≥ 6. ' +\n",
       "              'Firefox 4 and 5 are also supported but you ' +\n",
       "              'have to enable WebSockets in about:config.');\n",
       "    };\n",
       "}\n",
       "\n",
       "mpl.figure = function(figure_id, websocket, ondownload, parent_element) {\n",
       "    this.id = figure_id;\n",
       "\n",
       "    this.ws = websocket;\n",
       "\n",
       "    this.supports_binary = (this.ws.binaryType != undefined);\n",
       "\n",
       "    if (!this.supports_binary) {\n",
       "        var warnings = document.getElementById(\"mpl-warnings\");\n",
       "        if (warnings) {\n",
       "            warnings.style.display = 'block';\n",
       "            warnings.textContent = (\n",
       "                \"This browser does not support binary websocket messages. \" +\n",
       "                    \"Performance may be slow.\");\n",
       "        }\n",
       "    }\n",
       "\n",
       "    this.imageObj = new Image();\n",
       "\n",
       "    this.context = undefined;\n",
       "    this.message = undefined;\n",
       "    this.canvas = undefined;\n",
       "    this.rubberband_canvas = undefined;\n",
       "    this.rubberband_context = undefined;\n",
       "    this.format_dropdown = undefined;\n",
       "\n",
       "    this.image_mode = 'full';\n",
       "\n",
       "    this.root = $('<div/>');\n",
       "    this._root_extra_style(this.root)\n",
       "    this.root.attr('style', 'display: inline-block');\n",
       "\n",
       "    $(parent_element).append(this.root);\n",
       "\n",
       "    this._init_header(this);\n",
       "    this._init_canvas(this);\n",
       "    this._init_toolbar(this);\n",
       "\n",
       "    var fig = this;\n",
       "\n",
       "    this.waiting = false;\n",
       "\n",
       "    this.ws.onopen =  function () {\n",
       "            fig.send_message(\"supports_binary\", {value: fig.supports_binary});\n",
       "            fig.send_message(\"send_image_mode\", {});\n",
       "            if (mpl.ratio != 1) {\n",
       "                fig.send_message(\"set_dpi_ratio\", {'dpi_ratio': mpl.ratio});\n",
       "            }\n",
       "            fig.send_message(\"refresh\", {});\n",
       "        }\n",
       "\n",
       "    this.imageObj.onload = function() {\n",
       "            if (fig.image_mode == 'full') {\n",
       "                // Full images could contain transparency (where diff images\n",
       "                // almost always do), so we need to clear the canvas so that\n",
       "                // there is no ghosting.\n",
       "                fig.context.clearRect(0, 0, fig.canvas.width, fig.canvas.height);\n",
       "            }\n",
       "            fig.context.drawImage(fig.imageObj, 0, 0);\n",
       "        };\n",
       "\n",
       "    this.imageObj.onunload = function() {\n",
       "        fig.ws.close();\n",
       "    }\n",
       "\n",
       "    this.ws.onmessage = this._make_on_message_function(this);\n",
       "\n",
       "    this.ondownload = ondownload;\n",
       "}\n",
       "\n",
       "mpl.figure.prototype._init_header = function() {\n",
       "    var titlebar = $(\n",
       "        '<div class=\"ui-dialog-titlebar ui-widget-header ui-corner-all ' +\n",
       "        'ui-helper-clearfix\"/>');\n",
       "    var titletext = $(\n",
       "        '<div class=\"ui-dialog-title\" style=\"width: 100%; ' +\n",
       "        'text-align: center; padding: 3px;\"/>');\n",
       "    titlebar.append(titletext)\n",
       "    this.root.append(titlebar);\n",
       "    this.header = titletext[0];\n",
       "}\n",
       "\n",
       "\n",
       "\n",
       "mpl.figure.prototype._canvas_extra_style = function(canvas_div) {\n",
       "\n",
       "}\n",
       "\n",
       "\n",
       "mpl.figure.prototype._root_extra_style = function(canvas_div) {\n",
       "\n",
       "}\n",
       "\n",
       "mpl.figure.prototype._init_canvas = function() {\n",
       "    var fig = this;\n",
       "\n",
       "    var canvas_div = $('<div/>');\n",
       "\n",
       "    canvas_div.attr('style', 'position: relative; clear: both; outline: 0');\n",
       "\n",
       "    function canvas_keyboard_event(event) {\n",
       "        return fig.key_event(event, event['data']);\n",
       "    }\n",
       "\n",
       "    canvas_div.keydown('key_press', canvas_keyboard_event);\n",
       "    canvas_div.keyup('key_release', canvas_keyboard_event);\n",
       "    this.canvas_div = canvas_div\n",
       "    this._canvas_extra_style(canvas_div)\n",
       "    this.root.append(canvas_div);\n",
       "\n",
       "    var canvas = $('<canvas/>');\n",
       "    canvas.addClass('mpl-canvas');\n",
       "    canvas.attr('style', \"left: 0; top: 0; z-index: 0; outline: 0\")\n",
       "\n",
       "    this.canvas = canvas[0];\n",
       "    this.context = canvas[0].getContext(\"2d\");\n",
       "\n",
       "    var backingStore = this.context.backingStorePixelRatio ||\n",
       "\tthis.context.webkitBackingStorePixelRatio ||\n",
       "\tthis.context.mozBackingStorePixelRatio ||\n",
       "\tthis.context.msBackingStorePixelRatio ||\n",
       "\tthis.context.oBackingStorePixelRatio ||\n",
       "\tthis.context.backingStorePixelRatio || 1;\n",
       "\n",
       "    mpl.ratio = (window.devicePixelRatio || 1) / backingStore;\n",
       "\n",
       "    var rubberband = $('<canvas/>');\n",
       "    rubberband.attr('style', \"position: absolute; left: 0; top: 0; z-index: 1;\")\n",
       "\n",
       "    var pass_mouse_events = true;\n",
       "\n",
       "    canvas_div.resizable({\n",
       "        start: function(event, ui) {\n",
       "            pass_mouse_events = false;\n",
       "        },\n",
       "        resize: function(event, ui) {\n",
       "            fig.request_resize(ui.size.width, ui.size.height);\n",
       "        },\n",
       "        stop: function(event, ui) {\n",
       "            pass_mouse_events = true;\n",
       "            fig.request_resize(ui.size.width, ui.size.height);\n",
       "        },\n",
       "    });\n",
       "\n",
       "    function mouse_event_fn(event) {\n",
       "        if (pass_mouse_events)\n",
       "            return fig.mouse_event(event, event['data']);\n",
       "    }\n",
       "\n",
       "    rubberband.mousedown('button_press', mouse_event_fn);\n",
       "    rubberband.mouseup('button_release', mouse_event_fn);\n",
       "    // Throttle sequential mouse events to 1 every 20ms.\n",
       "    rubberband.mousemove('motion_notify', mouse_event_fn);\n",
       "\n",
       "    rubberband.mouseenter('figure_enter', mouse_event_fn);\n",
       "    rubberband.mouseleave('figure_leave', mouse_event_fn);\n",
       "\n",
       "    canvas_div.on(\"wheel\", function (event) {\n",
       "        event = event.originalEvent;\n",
       "        event['data'] = 'scroll'\n",
       "        if (event.deltaY < 0) {\n",
       "            event.step = 1;\n",
       "        } else {\n",
       "            event.step = -1;\n",
       "        }\n",
       "        mouse_event_fn(event);\n",
       "    });\n",
       "\n",
       "    canvas_div.append(canvas);\n",
       "    canvas_div.append(rubberband);\n",
       "\n",
       "    this.rubberband = rubberband;\n",
       "    this.rubberband_canvas = rubberband[0];\n",
       "    this.rubberband_context = rubberband[0].getContext(\"2d\");\n",
       "    this.rubberband_context.strokeStyle = \"#000000\";\n",
       "\n",
       "    this._resize_canvas = function(width, height) {\n",
       "        // Keep the size of the canvas, canvas container, and rubber band\n",
       "        // canvas in synch.\n",
       "        canvas_div.css('width', width)\n",
       "        canvas_div.css('height', height)\n",
       "\n",
       "        canvas.attr('width', width * mpl.ratio);\n",
       "        canvas.attr('height', height * mpl.ratio);\n",
       "        canvas.attr('style', 'width: ' + width + 'px; height: ' + height + 'px;');\n",
       "\n",
       "        rubberband.attr('width', width);\n",
       "        rubberband.attr('height', height);\n",
       "    }\n",
       "\n",
       "    // Set the figure to an initial 600x600px, this will subsequently be updated\n",
       "    // upon first draw.\n",
       "    this._resize_canvas(600, 600);\n",
       "\n",
       "    // Disable right mouse context menu.\n",
       "    $(this.rubberband_canvas).bind(\"contextmenu\",function(e){\n",
       "        return false;\n",
       "    });\n",
       "\n",
       "    function set_focus () {\n",
       "        canvas.focus();\n",
       "        canvas_div.focus();\n",
       "    }\n",
       "\n",
       "    window.setTimeout(set_focus, 100);\n",
       "}\n",
       "\n",
       "mpl.figure.prototype._init_toolbar = function() {\n",
       "    var fig = this;\n",
       "\n",
       "    var nav_element = $('<div/>')\n",
       "    nav_element.attr('style', 'width: 100%');\n",
       "    this.root.append(nav_element);\n",
       "\n",
       "    // Define a callback function for later on.\n",
       "    function toolbar_event(event) {\n",
       "        return fig.toolbar_button_onclick(event['data']);\n",
       "    }\n",
       "    function toolbar_mouse_event(event) {\n",
       "        return fig.toolbar_button_onmouseover(event['data']);\n",
       "    }\n",
       "\n",
       "    for(var toolbar_ind in mpl.toolbar_items) {\n",
       "        var name = mpl.toolbar_items[toolbar_ind][0];\n",
       "        var tooltip = mpl.toolbar_items[toolbar_ind][1];\n",
       "        var image = mpl.toolbar_items[toolbar_ind][2];\n",
       "        var method_name = mpl.toolbar_items[toolbar_ind][3];\n",
       "\n",
       "        if (!name) {\n",
       "            // put a spacer in here.\n",
       "            continue;\n",
       "        }\n",
       "        var button = $('<button/>');\n",
       "        button.addClass('ui-button ui-widget ui-state-default ui-corner-all ' +\n",
       "                        'ui-button-icon-only');\n",
       "        button.attr('role', 'button');\n",
       "        button.attr('aria-disabled', 'false');\n",
       "        button.click(method_name, toolbar_event);\n",
       "        button.mouseover(tooltip, toolbar_mouse_event);\n",
       "\n",
       "        var icon_img = $('<span/>');\n",
       "        icon_img.addClass('ui-button-icon-primary ui-icon');\n",
       "        icon_img.addClass(image);\n",
       "        icon_img.addClass('ui-corner-all');\n",
       "\n",
       "        var tooltip_span = $('<span/>');\n",
       "        tooltip_span.addClass('ui-button-text');\n",
       "        tooltip_span.html(tooltip);\n",
       "\n",
       "        button.append(icon_img);\n",
       "        button.append(tooltip_span);\n",
       "\n",
       "        nav_element.append(button);\n",
       "    }\n",
       "\n",
       "    var fmt_picker_span = $('<span/>');\n",
       "\n",
       "    var fmt_picker = $('<select/>');\n",
       "    fmt_picker.addClass('mpl-toolbar-option ui-widget ui-widget-content');\n",
       "    fmt_picker_span.append(fmt_picker);\n",
       "    nav_element.append(fmt_picker_span);\n",
       "    this.format_dropdown = fmt_picker[0];\n",
       "\n",
       "    for (var ind in mpl.extensions) {\n",
       "        var fmt = mpl.extensions[ind];\n",
       "        var option = $(\n",
       "            '<option/>', {selected: fmt === mpl.default_extension}).html(fmt);\n",
       "        fmt_picker.append(option)\n",
       "    }\n",
       "\n",
       "    // Add hover states to the ui-buttons\n",
       "    $( \".ui-button\" ).hover(\n",
       "        function() { $(this).addClass(\"ui-state-hover\");},\n",
       "        function() { $(this).removeClass(\"ui-state-hover\");}\n",
       "    );\n",
       "\n",
       "    var status_bar = $('<span class=\"mpl-message\"/>');\n",
       "    nav_element.append(status_bar);\n",
       "    this.message = status_bar[0];\n",
       "}\n",
       "\n",
       "mpl.figure.prototype.request_resize = function(x_pixels, y_pixels) {\n",
       "    // Request matplotlib to resize the figure. Matplotlib will then trigger a resize in the client,\n",
       "    // which will in turn request a refresh of the image.\n",
       "    this.send_message('resize', {'width': x_pixels, 'height': y_pixels});\n",
       "}\n",
       "\n",
       "mpl.figure.prototype.send_message = function(type, properties) {\n",
       "    properties['type'] = type;\n",
       "    properties['figure_id'] = this.id;\n",
       "    this.ws.send(JSON.stringify(properties));\n",
       "}\n",
       "\n",
       "mpl.figure.prototype.send_draw_message = function() {\n",
       "    if (!this.waiting) {\n",
       "        this.waiting = true;\n",
       "        this.ws.send(JSON.stringify({type: \"draw\", figure_id: this.id}));\n",
       "    }\n",
       "}\n",
       "\n",
       "\n",
       "mpl.figure.prototype.handle_save = function(fig, msg) {\n",
       "    var format_dropdown = fig.format_dropdown;\n",
       "    var format = format_dropdown.options[format_dropdown.selectedIndex].value;\n",
       "    fig.ondownload(fig, format);\n",
       "}\n",
       "\n",
       "\n",
       "mpl.figure.prototype.handle_resize = function(fig, msg) {\n",
       "    var size = msg['size'];\n",
       "    if (size[0] != fig.canvas.width || size[1] != fig.canvas.height) {\n",
       "        fig._resize_canvas(size[0], size[1]);\n",
       "        fig.send_message(\"refresh\", {});\n",
       "    };\n",
       "}\n",
       "\n",
       "mpl.figure.prototype.handle_rubberband = function(fig, msg) {\n",
       "    var x0 = msg['x0'] / mpl.ratio;\n",
       "    var y0 = (fig.canvas.height - msg['y0']) / mpl.ratio;\n",
       "    var x1 = msg['x1'] / mpl.ratio;\n",
       "    var y1 = (fig.canvas.height - msg['y1']) / mpl.ratio;\n",
       "    x0 = Math.floor(x0) + 0.5;\n",
       "    y0 = Math.floor(y0) + 0.5;\n",
       "    x1 = Math.floor(x1) + 0.5;\n",
       "    y1 = Math.floor(y1) + 0.5;\n",
       "    var min_x = Math.min(x0, x1);\n",
       "    var min_y = Math.min(y0, y1);\n",
       "    var width = Math.abs(x1 - x0);\n",
       "    var height = Math.abs(y1 - y0);\n",
       "\n",
       "    fig.rubberband_context.clearRect(\n",
       "        0, 0, fig.canvas.width, fig.canvas.height);\n",
       "\n",
       "    fig.rubberband_context.strokeRect(min_x, min_y, width, height);\n",
       "}\n",
       "\n",
       "mpl.figure.prototype.handle_figure_label = function(fig, msg) {\n",
       "    // Updates the figure title.\n",
       "    fig.header.textContent = msg['label'];\n",
       "}\n",
       "\n",
       "mpl.figure.prototype.handle_cursor = function(fig, msg) {\n",
       "    var cursor = msg['cursor'];\n",
       "    switch(cursor)\n",
       "    {\n",
       "    case 0:\n",
       "        cursor = 'pointer';\n",
       "        break;\n",
       "    case 1:\n",
       "        cursor = 'default';\n",
       "        break;\n",
       "    case 2:\n",
       "        cursor = 'crosshair';\n",
       "        break;\n",
       "    case 3:\n",
       "        cursor = 'move';\n",
       "        break;\n",
       "    }\n",
       "    fig.rubberband_canvas.style.cursor = cursor;\n",
       "}\n",
       "\n",
       "mpl.figure.prototype.handle_message = function(fig, msg) {\n",
       "    fig.message.textContent = msg['message'];\n",
       "}\n",
       "\n",
       "mpl.figure.prototype.handle_draw = function(fig, msg) {\n",
       "    // Request the server to send over a new figure.\n",
       "    fig.send_draw_message();\n",
       "}\n",
       "\n",
       "mpl.figure.prototype.handle_image_mode = function(fig, msg) {\n",
       "    fig.image_mode = msg['mode'];\n",
       "}\n",
       "\n",
       "mpl.figure.prototype.updated_canvas_event = function() {\n",
       "    // Called whenever the canvas gets updated.\n",
       "    this.send_message(\"ack\", {});\n",
       "}\n",
       "\n",
       "// A function to construct a web socket function for onmessage handling.\n",
       "// Called in the figure constructor.\n",
       "mpl.figure.prototype._make_on_message_function = function(fig) {\n",
       "    return function socket_on_message(evt) {\n",
       "        if (evt.data instanceof Blob) {\n",
       "            /* FIXME: We get \"Resource interpreted as Image but\n",
       "             * transferred with MIME type text/plain:\" errors on\n",
       "             * Chrome.  But how to set the MIME type?  It doesn't seem\n",
       "             * to be part of the websocket stream */\n",
       "            evt.data.type = \"image/png\";\n",
       "\n",
       "            /* Free the memory for the previous frames */\n",
       "            if (fig.imageObj.src) {\n",
       "                (window.URL || window.webkitURL).revokeObjectURL(\n",
       "                    fig.imageObj.src);\n",
       "            }\n",
       "\n",
       "            fig.imageObj.src = (window.URL || window.webkitURL).createObjectURL(\n",
       "                evt.data);\n",
       "            fig.updated_canvas_event();\n",
       "            fig.waiting = false;\n",
       "            return;\n",
       "        }\n",
       "        else if (typeof evt.data === 'string' && evt.data.slice(0, 21) == \"data:image/png;base64\") {\n",
       "            fig.imageObj.src = evt.data;\n",
       "            fig.updated_canvas_event();\n",
       "            fig.waiting = false;\n",
       "            return;\n",
       "        }\n",
       "\n",
       "        var msg = JSON.parse(evt.data);\n",
       "        var msg_type = msg['type'];\n",
       "\n",
       "        // Call the  \"handle_{type}\" callback, which takes\n",
       "        // the figure and JSON message as its only arguments.\n",
       "        try {\n",
       "            var callback = fig[\"handle_\" + msg_type];\n",
       "        } catch (e) {\n",
       "            console.log(\"No handler for the '\" + msg_type + \"' message type: \", msg);\n",
       "            return;\n",
       "        }\n",
       "\n",
       "        if (callback) {\n",
       "            try {\n",
       "                // console.log(\"Handling '\" + msg_type + \"' message: \", msg);\n",
       "                callback(fig, msg);\n",
       "            } catch (e) {\n",
       "                console.log(\"Exception inside the 'handler_\" + msg_type + \"' callback:\", e, e.stack, msg);\n",
       "            }\n",
       "        }\n",
       "    };\n",
       "}\n",
       "\n",
       "// from http://stackoverflow.com/questions/1114465/getting-mouse-location-in-canvas\n",
       "mpl.findpos = function(e) {\n",
       "    //this section is from http://www.quirksmode.org/js/events_properties.html\n",
       "    var targ;\n",
       "    if (!e)\n",
       "        e = window.event;\n",
       "    if (e.target)\n",
       "        targ = e.target;\n",
       "    else if (e.srcElement)\n",
       "        targ = e.srcElement;\n",
       "    if (targ.nodeType == 3) // defeat Safari bug\n",
       "        targ = targ.parentNode;\n",
       "\n",
       "    // jQuery normalizes the pageX and pageY\n",
       "    // pageX,Y are the mouse positions relative to the document\n",
       "    // offset() returns the position of the element relative to the document\n",
       "    var x = e.pageX - $(targ).offset().left;\n",
       "    var y = e.pageY - $(targ).offset().top;\n",
       "\n",
       "    return {\"x\": x, \"y\": y};\n",
       "};\n",
       "\n",
       "/*\n",
       " * return a copy of an object with only non-object keys\n",
       " * we need this to avoid circular references\n",
       " * http://stackoverflow.com/a/24161582/3208463\n",
       " */\n",
       "function simpleKeys (original) {\n",
       "  return Object.keys(original).reduce(function (obj, key) {\n",
       "    if (typeof original[key] !== 'object')\n",
       "        obj[key] = original[key]\n",
       "    return obj;\n",
       "  }, {});\n",
       "}\n",
       "\n",
       "mpl.figure.prototype.mouse_event = function(event, name) {\n",
       "    var canvas_pos = mpl.findpos(event)\n",
       "\n",
       "    if (name === 'button_press')\n",
       "    {\n",
       "        this.canvas.focus();\n",
       "        this.canvas_div.focus();\n",
       "    }\n",
       "\n",
       "    var x = canvas_pos.x * mpl.ratio;\n",
       "    var y = canvas_pos.y * mpl.ratio;\n",
       "\n",
       "    this.send_message(name, {x: x, y: y, button: event.button,\n",
       "                             step: event.step,\n",
       "                             guiEvent: simpleKeys(event)});\n",
       "\n",
       "    /* This prevents the web browser from automatically changing to\n",
       "     * the text insertion cursor when the button is pressed.  We want\n",
       "     * to control all of the cursor setting manually through the\n",
       "     * 'cursor' event from matplotlib */\n",
       "    event.preventDefault();\n",
       "    return false;\n",
       "}\n",
       "\n",
       "mpl.figure.prototype._key_event_extra = function(event, name) {\n",
       "    // Handle any extra behaviour associated with a key event\n",
       "}\n",
       "\n",
       "mpl.figure.prototype.key_event = function(event, name) {\n",
       "\n",
       "    // Prevent repeat events\n",
       "    if (name == 'key_press')\n",
       "    {\n",
       "        if (event.which === this._key)\n",
       "            return;\n",
       "        else\n",
       "            this._key = event.which;\n",
       "    }\n",
       "    if (name == 'key_release')\n",
       "        this._key = null;\n",
       "\n",
       "    var value = '';\n",
       "    if (event.ctrlKey && event.which != 17)\n",
       "        value += \"ctrl+\";\n",
       "    if (event.altKey && event.which != 18)\n",
       "        value += \"alt+\";\n",
       "    if (event.shiftKey && event.which != 16)\n",
       "        value += \"shift+\";\n",
       "\n",
       "    value += 'k';\n",
       "    value += event.which.toString();\n",
       "\n",
       "    this._key_event_extra(event, name);\n",
       "\n",
       "    this.send_message(name, {key: value,\n",
       "                             guiEvent: simpleKeys(event)});\n",
       "    return false;\n",
       "}\n",
       "\n",
       "mpl.figure.prototype.toolbar_button_onclick = function(name) {\n",
       "    if (name == 'download') {\n",
       "        this.handle_save(this, null);\n",
       "    } else {\n",
       "        this.send_message(\"toolbar_button\", {name: name});\n",
       "    }\n",
       "};\n",
       "\n",
       "mpl.figure.prototype.toolbar_button_onmouseover = function(tooltip) {\n",
       "    this.message.textContent = tooltip;\n",
       "};\n",
       "mpl.toolbar_items = [[\"Home\", \"Reset original view\", \"fa fa-home icon-home\", \"home\"], [\"Back\", \"Back to previous view\", \"fa fa-arrow-left icon-arrow-left\", \"back\"], [\"Forward\", \"Forward to next view\", \"fa fa-arrow-right icon-arrow-right\", \"forward\"], [\"\", \"\", \"\", \"\"], [\"Pan\", \"Pan axes with left mouse, zoom with right\", \"fa fa-arrows icon-move\", \"pan\"], [\"Zoom\", \"Zoom to rectangle\", \"fa fa-square-o icon-check-empty\", \"zoom\"], [\"\", \"\", \"\", \"\"], [\"Download\", \"Download plot\", \"fa fa-floppy-o icon-save\", \"download\"]];\n",
       "\n",
       "mpl.extensions = [\"eps\", \"jpeg\", \"pdf\", \"png\", \"ps\", \"raw\", \"svg\", \"tif\"];\n",
       "\n",
       "mpl.default_extension = \"png\";var comm_websocket_adapter = function(comm) {\n",
       "    // Create a \"websocket\"-like object which calls the given IPython comm\n",
       "    // object with the appropriate methods. Currently this is a non binary\n",
       "    // socket, so there is still some room for performance tuning.\n",
       "    var ws = {};\n",
       "\n",
       "    ws.close = function() {\n",
       "        comm.close()\n",
       "    };\n",
       "    ws.send = function(m) {\n",
       "        //console.log('sending', m);\n",
       "        comm.send(m);\n",
       "    };\n",
       "    // Register the callback with on_msg.\n",
       "    comm.on_msg(function(msg) {\n",
       "        //console.log('receiving', msg['content']['data'], msg);\n",
       "        // Pass the mpl event to the overridden (by mpl) onmessage function.\n",
       "        ws.onmessage(msg['content']['data'])\n",
       "    });\n",
       "    return ws;\n",
       "}\n",
       "\n",
       "mpl.mpl_figure_comm = function(comm, msg) {\n",
       "    // This is the function which gets called when the mpl process\n",
       "    // starts-up an IPython Comm through the \"matplotlib\" channel.\n",
       "\n",
       "    var id = msg.content.data.id;\n",
       "    // Get hold of the div created by the display call when the Comm\n",
       "    // socket was opened in Python.\n",
       "    var element = $(\"#\" + id);\n",
       "    var ws_proxy = comm_websocket_adapter(comm)\n",
       "\n",
       "    function ondownload(figure, format) {\n",
       "        window.open(figure.imageObj.src);\n",
       "    }\n",
       "\n",
       "    var fig = new mpl.figure(id, ws_proxy,\n",
       "                           ondownload,\n",
       "                           element.get(0));\n",
       "\n",
       "    // Call onopen now - mpl needs it, as it is assuming we've passed it a real\n",
       "    // web socket which is closed, not our websocket->open comm proxy.\n",
       "    ws_proxy.onopen();\n",
       "\n",
       "    fig.parent_element = element.get(0);\n",
       "    fig.cell_info = mpl.find_output_cell(\"<div id='\" + id + \"'></div>\");\n",
       "    if (!fig.cell_info) {\n",
       "        console.error(\"Failed to find cell for figure\", id, fig);\n",
       "        return;\n",
       "    }\n",
       "\n",
       "    var output_index = fig.cell_info[2]\n",
       "    var cell = fig.cell_info[0];\n",
       "\n",
       "};\n",
       "\n",
       "mpl.figure.prototype.handle_close = function(fig, msg) {\n",
       "    var width = fig.canvas.width/mpl.ratio\n",
       "    fig.root.unbind('remove')\n",
       "\n",
       "    // Update the output cell to use the data from the current canvas.\n",
       "    fig.push_to_output();\n",
       "    var dataURL = fig.canvas.toDataURL();\n",
       "    // Re-enable the keyboard manager in IPython - without this line, in FF,\n",
       "    // the notebook keyboard shortcuts fail.\n",
       "    IPython.keyboard_manager.enable()\n",
       "    $(fig.parent_element).html('<img src=\"' + dataURL + '\" width=\"' + width + '\">');\n",
       "    fig.close_ws(fig, msg);\n",
       "}\n",
       "\n",
       "mpl.figure.prototype.close_ws = function(fig, msg){\n",
       "    fig.send_message('closing', msg);\n",
       "    // fig.ws.close()\n",
       "}\n",
       "\n",
       "mpl.figure.prototype.push_to_output = function(remove_interactive) {\n",
       "    // Turn the data on the canvas into data in the output cell.\n",
       "    var width = this.canvas.width/mpl.ratio\n",
       "    var dataURL = this.canvas.toDataURL();\n",
       "    this.cell_info[1]['text/html'] = '<img src=\"' + dataURL + '\" width=\"' + width + '\">';\n",
       "}\n",
       "\n",
       "mpl.figure.prototype.updated_canvas_event = function() {\n",
       "    // Tell IPython that the notebook contents must change.\n",
       "    IPython.notebook.set_dirty(true);\n",
       "    this.send_message(\"ack\", {});\n",
       "    var fig = this;\n",
       "    // Wait a second, then push the new image to the DOM so\n",
       "    // that it is saved nicely (might be nice to debounce this).\n",
       "    setTimeout(function () { fig.push_to_output() }, 1000);\n",
       "}\n",
       "\n",
       "mpl.figure.prototype._init_toolbar = function() {\n",
       "    var fig = this;\n",
       "\n",
       "    var nav_element = $('<div/>')\n",
       "    nav_element.attr('style', 'width: 100%');\n",
       "    this.root.append(nav_element);\n",
       "\n",
       "    // Define a callback function for later on.\n",
       "    function toolbar_event(event) {\n",
       "        return fig.toolbar_button_onclick(event['data']);\n",
       "    }\n",
       "    function toolbar_mouse_event(event) {\n",
       "        return fig.toolbar_button_onmouseover(event['data']);\n",
       "    }\n",
       "\n",
       "    for(var toolbar_ind in mpl.toolbar_items){\n",
       "        var name = mpl.toolbar_items[toolbar_ind][0];\n",
       "        var tooltip = mpl.toolbar_items[toolbar_ind][1];\n",
       "        var image = mpl.toolbar_items[toolbar_ind][2];\n",
       "        var method_name = mpl.toolbar_items[toolbar_ind][3];\n",
       "\n",
       "        if (!name) { continue; };\n",
       "\n",
       "        var button = $('<button class=\"btn btn-default\" href=\"#\" title=\"' + name + '\"><i class=\"fa ' + image + ' fa-lg\"></i></button>');\n",
       "        button.click(method_name, toolbar_event);\n",
       "        button.mouseover(tooltip, toolbar_mouse_event);\n",
       "        nav_element.append(button);\n",
       "    }\n",
       "\n",
       "    // Add the status bar.\n",
       "    var status_bar = $('<span class=\"mpl-message\" style=\"text-align:right; float: right;\"/>');\n",
       "    nav_element.append(status_bar);\n",
       "    this.message = status_bar[0];\n",
       "\n",
       "    // Add the close button to the window.\n",
       "    var buttongrp = $('<div class=\"btn-group inline pull-right\"></div>');\n",
       "    var button = $('<button class=\"btn btn-mini btn-primary\" href=\"#\" title=\"Stop Interaction\"><i class=\"fa fa-power-off icon-remove icon-large\"></i></button>');\n",
       "    button.click(function (evt) { fig.handle_close(fig, {}); } );\n",
       "    button.mouseover('Stop Interaction', toolbar_mouse_event);\n",
       "    buttongrp.append(button);\n",
       "    var titlebar = this.root.find($('.ui-dialog-titlebar'));\n",
       "    titlebar.prepend(buttongrp);\n",
       "}\n",
       "\n",
       "mpl.figure.prototype._root_extra_style = function(el){\n",
       "    var fig = this\n",
       "    el.on(\"remove\", function(){\n",
       "\tfig.close_ws(fig, {});\n",
       "    });\n",
       "}\n",
       "\n",
       "mpl.figure.prototype._canvas_extra_style = function(el){\n",
       "    // this is important to make the div 'focusable\n",
       "    el.attr('tabindex', 0)\n",
       "    // reach out to IPython and tell the keyboard manager to turn it's self\n",
       "    // off when our div gets focus\n",
       "\n",
       "    // location in version 3\n",
       "    if (IPython.notebook.keyboard_manager) {\n",
       "        IPython.notebook.keyboard_manager.register_events(el);\n",
       "    }\n",
       "    else {\n",
       "        // location in version 2\n",
       "        IPython.keyboard_manager.register_events(el);\n",
       "    }\n",
       "\n",
       "}\n",
       "\n",
       "mpl.figure.prototype._key_event_extra = function(event, name) {\n",
       "    var manager = IPython.notebook.keyboard_manager;\n",
       "    if (!manager)\n",
       "        manager = IPython.keyboard_manager;\n",
       "\n",
       "    // Check for shift+enter\n",
       "    if (event.shiftKey && event.which == 13) {\n",
       "        this.canvas_div.blur();\n",
       "        event.shiftKey = false;\n",
       "        // Send a \"J\" for go to next cell\n",
       "        event.which = 74;\n",
       "        event.keyCode = 74;\n",
       "        manager.command_mode();\n",
       "        manager.handle_keydown(event);\n",
       "    }\n",
       "}\n",
       "\n",
       "mpl.figure.prototype.handle_save = function(fig, msg) {\n",
       "    fig.ondownload(fig, null);\n",
       "}\n",
       "\n",
       "\n",
       "mpl.find_output_cell = function(html_output) {\n",
       "    // Return the cell and output element which can be found *uniquely* in the notebook.\n",
       "    // Note - this is a bit hacky, but it is done because the \"notebook_saving.Notebook\"\n",
       "    // IPython event is triggered only after the cells have been serialised, which for\n",
       "    // our purposes (turning an active figure into a static one), is too late.\n",
       "    var cells = IPython.notebook.get_cells();\n",
       "    var ncells = cells.length;\n",
       "    for (var i=0; i<ncells; i++) {\n",
       "        var cell = cells[i];\n",
       "        if (cell.cell_type === 'code'){\n",
       "            for (var j=0; j<cell.output_area.outputs.length; j++) {\n",
       "                var data = cell.output_area.outputs[j];\n",
       "                if (data.data) {\n",
       "                    // IPython >= 3 moved mimebundle to data attribute of output\n",
       "                    data = data.data;\n",
       "                }\n",
       "                if (data['text/html'] == html_output) {\n",
       "                    return [cell, data, j];\n",
       "                }\n",
       "            }\n",
       "        }\n",
       "    }\n",
       "}\n",
       "\n",
       "// Register the function which deals with the matplotlib target/channel.\n",
       "// The kernel may be null if the page has been refreshed.\n",
       "if (IPython.notebook.kernel != null) {\n",
       "    IPython.notebook.kernel.comm_manager.register_target('matplotlib', mpl.mpl_figure_comm);\n",
       "}\n"
      ],
      "text/plain": [
       "<IPython.core.display.Javascript object>"
      ]
     },
     "metadata": {
      "tags": []
     },
     "output_type": "display_data"
    },
    {
     "data": {
      "text/html": [
       "<img src=\"data:image/png;base64,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\" width=\"432\">"
      ],
      "text/plain": [
       "<IPython.core.display.HTML object>"
      ]
     },
     "metadata": {
      "tags": []
     },
     "output_type": "display_data"
    }
   ],
   "source": [
    "import matplotlib.pyplot as plt\n",
    "from mpl_toolkits.mplot3d import Axes3D\n",
    "import numpy as np\n",
    "%matplotlib notebook\n",
    "\n",
    "soa = np.array([[0, 0, 1, 1, -2, 0], [0, 0, 2, 1, 1, 0],\n",
    "                [0, 0, 3, 2, 1, 0], [0, 0, 4, 0.5, 0.7, 0]])\n",
    "\n",
    "X, Y, Z, U, V, W = zip(*soa)\n",
    "fig = plt.figure()\n",
    "ax = fig.add_subplot(111, projection='3d')\n",
    "ax.quiver(X, Y, Z, U, V, W)\n",
    "ax.set_xlim([-1, 0.5])\n",
    "ax.set_ylim([-1, 1.5])\n",
    "ax.set_zlim([-1, 8])\n",
    "plt.show()"
   ]
  },
  {
   "cell_type": "markdown",
   "metadata": {
    "colab_type": "text",
    "id": "7FYvtzI9V7ud"
   },
   "source": [
    "\n",
    "\n",
    "# CPP impementation"
   ]
  },
  {
   "cell_type": "code",
   "execution_count": 0,
   "metadata": {
    "colab": {},
    "colab_type": "code",
    "id": "nZvkrnoCV7ue",
    "outputId": "7741945f-87c4-4ea6-a4f2-3fce31966c75"
   },
   "outputs": [
    {
     "name": "stdout",
     "output_type": "stream",
     "text": [
      "Overwriting lib/rk.cpp\n"
     ]
    }
   ],
   "source": [
    "%%writefile lib/rk.cpp\n",
    "#include <iostream>\n",
    "\n",
    "\n",
    "extern \"C\" \n",
    "class Foo{\n",
    "    public:\n",
    "        void bar(int input_var, int &output_var){\n",
    "            std::cout << \"Hello\" << std::endl;\n",
    "            output_var = input_var*2;\n",
    "        }\n",
    "};\n",
    "}"
   ]
  },
  {
   "cell_type": "code",
   "execution_count": 0,
   "metadata": {
    "colab": {},
    "colab_type": "code",
    "id": "QO4jyrCqV7uh"
   },
   "outputs": [],
   "source": [
    "!cd lib && g++ -c -fPIC rk.cpp -o rk.o\n",
    "!cd lib && g++ -shared -Wl, -o rk.so  rk.o\n"
   ]
  },
  {
   "cell_type": "code",
   "execution_count": 0,
   "metadata": {
    "colab": {},
    "colab_type": "code",
    "id": "cVf5cLxsV7ui"
   },
   "outputs": [],
   "source": [
    "from ctypes import cdll\n",
    "lib = cdll.LoadLibrary('lib/rk.so')\n",
    "\n",
    "class Foo(object):\n",
    "    def __init__(self):\n",
    "        self.obj = lib.Foo_new()\n",
    "\n",
    "    def bar(self):\n",
    "        lib.Foo_bar(self.obj)\n"
   ]
  },
  {
   "cell_type": "code",
   "execution_count": 0,
   "metadata": {
    "colab": {},
    "colab_type": "code",
    "id": "LtB9KcudV7uk"
   },
   "outputs": [],
   "source": [
    "f = Foo()"
   ]
  },
  {
   "cell_type": "code",
   "execution_count": 0,
   "metadata": {
    "colab": {},
    "colab_type": "code",
    "id": "LzUYqUbyV7ul"
   },
   "outputs": [],
   "source": [
    "x = 2\n",
    "y = 2"
   ]
  },
  {
   "cell_type": "code",
   "execution_count": 0,
   "metadata": {
    "colab": {},
    "colab_type": "code",
    "id": "9N-AqV-CV7un",
    "outputId": "3325a65e-afff-42ed-a545-94816daa262d"
   },
   "outputs": [
    {
     "ename": "TypeError",
     "evalue": "bar() takes 1 positional argument but 3 were given",
     "output_type": "error",
     "traceback": [
      "\u001b[0;31m---------------------------------------------------------------------------\u001b[0m",
      "\u001b[0;31mTypeError\u001b[0m                                 Traceback (most recent call last)",
      "\u001b[0;32m<ipython-input-113-57738c84bf03>\u001b[0m in \u001b[0;36m<module>\u001b[0;34m\u001b[0m\n\u001b[0;32m----> 1\u001b[0;31m \u001b[0mf\u001b[0m\u001b[0;34m.\u001b[0m\u001b[0mbar\u001b[0m\u001b[0;34m(\u001b[0m\u001b[0mx\u001b[0m\u001b[0;34m,\u001b[0m\u001b[0my\u001b[0m\u001b[0;34m)\u001b[0m\u001b[0;34m\u001b[0m\u001b[0;34m\u001b[0m\u001b[0m\n\u001b[0m",
      "\u001b[0;31mTypeError\u001b[0m: bar() takes 1 positional argument but 3 were given"
     ]
    }
   ],
   "source": [
    "f.bar(x,y)"
   ]
  },
  {
   "cell_type": "code",
   "execution_count": 0,
   "metadata": {
    "colab": {},
    "colab_type": "code",
    "id": "HNYRi5LBV7up"
   },
   "outputs": [],
   "source": []
  },
  {
   "cell_type": "code",
   "execution_count": 0,
   "metadata": {
    "colab": {},
    "colab_type": "code",
    "id": "Tbfvq2FZV7ur",
    "outputId": "de1d7f78-3849-4526-f668-de383f61b44b"
   },
   "outputs": [
    {
     "name": "stdout",
     "output_type": "stream",
     "text": [
      "Overwriting lib/rk.cpp\n"
     ]
    }
   ],
   "source": [
    "%%writefile lib/rk.cpp\n",
    "/** \n",
    " * Compute the sum an array\n",
    " * @param n number of elements\n",
    " * @param array input array\n",
    " * @return sum\n",
    " */\n",
    "extern \"C\" // required when using C++ compiler\n",
    "long long mysum(int n, int* array) {\n",
    "    // return type is 64 bit integer\n",
    "    long long res = 0;\n",
    "    for (int i = 0; i < n; ++i) {\n",
    "        res += array[i];\n",
    "    }\n",
    "    return res;\n",
    "}"
   ]
  },
  {
   "cell_type": "code",
   "execution_count": 0,
   "metadata": {
    "colab": {},
    "colab_type": "code",
    "id": "pe7nZIUUV7uz"
   },
   "outputs": [],
   "source": [
    "!cd lib && g++ -c -fPIC rk.cpp -o rk.o\n",
    "!cd lib && g++ -shared -Wl, -o rk.so  rk.o\n"
   ]
  },
  {
   "cell_type": "code",
   "execution_count": 0,
   "metadata": {
    "colab": {},
    "colab_type": "code",
    "id": "pIn4TzyfV7u2",
    "outputId": "c7e6ce6c-8139-4e9b-f550-7a3d99b3a490"
   },
   "outputs": [
    {
     "ename": "AttributeError",
     "evalue": "dlsym(0x7fca85f87320, mysum): symbol not found",
     "output_type": "error",
     "traceback": [
      "\u001b[0;31m---------------------------------------------------------------------------\u001b[0m",
      "\u001b[0;31mAttributeError\u001b[0m                            Traceback (most recent call last)",
      "\u001b[0;32m<ipython-input-128-23306d954f70>\u001b[0m in \u001b[0;36m<module>\u001b[0;34m\u001b[0m\n\u001b[1;32m     10\u001b[0m \u001b[0;34m\u001b[0m\u001b[0m\n\u001b[1;32m     11\u001b[0m \u001b[0;31m# 2. tell Python the argument and result types of function mysum\u001b[0m\u001b[0;34m\u001b[0m\u001b[0;34m\u001b[0m\u001b[0;34m\u001b[0m\u001b[0m\n\u001b[0;32m---> 12\u001b[0;31m \u001b[0mmylib\u001b[0m\u001b[0;34m.\u001b[0m\u001b[0mmysum\u001b[0m\u001b[0;34m.\u001b[0m\u001b[0mrestype\u001b[0m \u001b[0;34m=\u001b[0m \u001b[0mctypes\u001b[0m\u001b[0;34m.\u001b[0m\u001b[0mc_longlong\u001b[0m\u001b[0;34m\u001b[0m\u001b[0;34m\u001b[0m\u001b[0m\n\u001b[0m\u001b[1;32m     13\u001b[0m mylib.mysum.argtypes = [ctypes.c_int, \n\u001b[1;32m     14\u001b[0m                         numpy.ctypeslib.ndpointer(dtype=numpy.int32)]\n",
      "\u001b[0;32m~/anaconda3/lib/python3.6/ctypes/__init__.py\u001b[0m in \u001b[0;36m__getattr__\u001b[0;34m(self, name)\u001b[0m\n\u001b[1;32m    359\u001b[0m         \u001b[0;32mif\u001b[0m \u001b[0mname\u001b[0m\u001b[0;34m.\u001b[0m\u001b[0mstartswith\u001b[0m\u001b[0;34m(\u001b[0m\u001b[0;34m'__'\u001b[0m\u001b[0;34m)\u001b[0m \u001b[0;32mand\u001b[0m \u001b[0mname\u001b[0m\u001b[0;34m.\u001b[0m\u001b[0mendswith\u001b[0m\u001b[0;34m(\u001b[0m\u001b[0;34m'__'\u001b[0m\u001b[0;34m)\u001b[0m\u001b[0;34m:\u001b[0m\u001b[0;34m\u001b[0m\u001b[0;34m\u001b[0m\u001b[0m\n\u001b[1;32m    360\u001b[0m             \u001b[0;32mraise\u001b[0m \u001b[0mAttributeError\u001b[0m\u001b[0;34m(\u001b[0m\u001b[0mname\u001b[0m\u001b[0;34m)\u001b[0m\u001b[0;34m\u001b[0m\u001b[0;34m\u001b[0m\u001b[0m\n\u001b[0;32m--> 361\u001b[0;31m         \u001b[0mfunc\u001b[0m \u001b[0;34m=\u001b[0m \u001b[0mself\u001b[0m\u001b[0;34m.\u001b[0m\u001b[0m__getitem__\u001b[0m\u001b[0;34m(\u001b[0m\u001b[0mname\u001b[0m\u001b[0;34m)\u001b[0m\u001b[0;34m\u001b[0m\u001b[0;34m\u001b[0m\u001b[0m\n\u001b[0m\u001b[1;32m    362\u001b[0m         \u001b[0msetattr\u001b[0m\u001b[0;34m(\u001b[0m\u001b[0mself\u001b[0m\u001b[0;34m,\u001b[0m \u001b[0mname\u001b[0m\u001b[0;34m,\u001b[0m \u001b[0mfunc\u001b[0m\u001b[0;34m)\u001b[0m\u001b[0;34m\u001b[0m\u001b[0;34m\u001b[0m\u001b[0m\n\u001b[1;32m    363\u001b[0m         \u001b[0;32mreturn\u001b[0m \u001b[0mfunc\u001b[0m\u001b[0;34m\u001b[0m\u001b[0;34m\u001b[0m\u001b[0m\n",
      "\u001b[0;32m~/anaconda3/lib/python3.6/ctypes/__init__.py\u001b[0m in \u001b[0;36m__getitem__\u001b[0;34m(self, name_or_ordinal)\u001b[0m\n\u001b[1;32m    364\u001b[0m \u001b[0;34m\u001b[0m\u001b[0m\n\u001b[1;32m    365\u001b[0m     \u001b[0;32mdef\u001b[0m \u001b[0m__getitem__\u001b[0m\u001b[0;34m(\u001b[0m\u001b[0mself\u001b[0m\u001b[0;34m,\u001b[0m \u001b[0mname_or_ordinal\u001b[0m\u001b[0;34m)\u001b[0m\u001b[0;34m:\u001b[0m\u001b[0;34m\u001b[0m\u001b[0;34m\u001b[0m\u001b[0m\n\u001b[0;32m--> 366\u001b[0;31m         \u001b[0mfunc\u001b[0m \u001b[0;34m=\u001b[0m \u001b[0mself\u001b[0m\u001b[0;34m.\u001b[0m\u001b[0m_FuncPtr\u001b[0m\u001b[0;34m(\u001b[0m\u001b[0;34m(\u001b[0m\u001b[0mname_or_ordinal\u001b[0m\u001b[0;34m,\u001b[0m \u001b[0mself\u001b[0m\u001b[0;34m)\u001b[0m\u001b[0;34m)\u001b[0m\u001b[0;34m\u001b[0m\u001b[0;34m\u001b[0m\u001b[0m\n\u001b[0m\u001b[1;32m    367\u001b[0m         \u001b[0;32mif\u001b[0m \u001b[0;32mnot\u001b[0m \u001b[0misinstance\u001b[0m\u001b[0;34m(\u001b[0m\u001b[0mname_or_ordinal\u001b[0m\u001b[0;34m,\u001b[0m \u001b[0mint\u001b[0m\u001b[0;34m)\u001b[0m\u001b[0;34m:\u001b[0m\u001b[0;34m\u001b[0m\u001b[0;34m\u001b[0m\u001b[0m\n\u001b[1;32m    368\u001b[0m             \u001b[0mfunc\u001b[0m\u001b[0;34m.\u001b[0m\u001b[0m__name__\u001b[0m \u001b[0;34m=\u001b[0m \u001b[0mname_or_ordinal\u001b[0m\u001b[0;34m\u001b[0m\u001b[0;34m\u001b[0m\u001b[0m\n",
      "\u001b[0;31mAttributeError\u001b[0m: dlsym(0x7fca85f87320, mysum): symbol not found"
     ]
    }
   ],
   "source": [
    "import ctypes\n",
    "import numpy\n",
    "import glob\n",
    "\n",
    "# find the shared library, the path depends on the platform and Python version\n",
    "libfile = glob.glob('lib/rk.so')[0]\n",
    "\n",
    "# 1. open the shared library\n",
    "mylib = ctypes.CDLL(libfile)\n",
    "\n",
    "# 2. tell Python the argument and result types of function mysum\n",
    "mylib.mysum.restype = ctypes.c_longlong\n",
    "mylib.mysum.argtypes = [ctypes.c_int, \n",
    "                        numpy.ctypeslib.ndpointer(dtype=numpy.int32)]\n",
    "\n",
    "array = numpy.arange(0, 100000000, 1, numpy.int32)\n",
    "\n",
    "# 3. call function mysum\n",
    "array_sum = mylib.mysum(len(array), array)\n",
    "\n",
    "print('sum of array: {}'.format(array_sum))\n"
   ]
  },
  {
   "cell_type": "code",
   "execution_count": 0,
   "metadata": {
    "colab": {},
    "colab_type": "code",
    "id": "jS2QjrLAV7u5"
   },
   "outputs": [],
   "source": [
    "f = Foo()"
   ]
  },
  {
   "cell_type": "code",
   "execution_count": 0,
   "metadata": {
    "colab": {},
    "colab_type": "code",
    "id": "ljDi1YSMV7u8"
   },
   "outputs": [],
   "source": [
    "x = 2\n",
    "y = 2"
   ]
  },
  {
   "cell_type": "markdown",
   "metadata": {
    "colab_type": "text",
    "id": "ne4Yh2ktV9vs"
   },
   "source": [
    "# CUDA implementaition\n"
   ]
  },
  {
   "cell_type": "markdown",
   "metadata": {
    "colab_type": "text",
    "id": "xkIw2KOcWDji"
   },
   "source": [
    "Tutorials:\n",
    "* https://devblogs.nvidia.com/even-easier-introduction-cuda/\n",
    "* run CUDA in colab - https://medium.com/@iphoenix179/running-cuda-c-c-in-jupyter-or-how-to-run-nvcc-in-google-colab-663d33f53772"
   ]
  },
  {
   "cell_type": "code",
   "execution_count": 2,
   "metadata": {
    "colab": {
     "base_uri": "https://localhost:8080/",
     "height": 85
    },
    "colab_type": "code",
    "id": "DKGtlUFlWBsV",
    "outputId": "42fd3cc4-125c-4635-b519-ca17d9c3fa43"
   },
   "outputs": [
    {
     "name": "stdout",
     "output_type": "stream",
     "text": [
      "nvcc: NVIDIA (R) Cuda compiler driver\n",
      "Copyright (c) 2005-2018 NVIDIA Corporation\n",
      "Built on Sat_Aug_25_21:08:01_CDT_2018\n",
      "Cuda compilation tools, release 10.0, V10.0.130\n"
     ]
    }
   ],
   "source": [
    "!/usr/local/cuda/bin/nvcc --version"
   ]
  },
  {
   "cell_type": "code",
   "execution_count": 3,
   "metadata": {
    "colab": {
     "base_uri": "https://localhost:8080/",
     "height": 156
    },
    "colab_type": "code",
    "id": "vVY-pNfJWOkb",
    "outputId": "bfda7501-01cd-4f03-c9e7-a04c989ce845"
   },
   "outputs": [
    {
     "name": "stdout",
     "output_type": "stream",
     "text": [
      "Collecting git+git://github.com/andreinechaev/nvcc4jupyter.git\n",
      "  Cloning git://github.com/andreinechaev/nvcc4jupyter.git to /tmp/pip-req-build-v5f1hsox\n",
      "Requirement already satisfied (use --upgrade to upgrade): NVCCPlugin==0.0.2 from git+git://github.com/andreinechaev/nvcc4jupyter.git in /usr/local/lib/python3.6/dist-packages\n",
      "Building wheels for collected packages: NVCCPlugin\n",
      "  Building wheel for NVCCPlugin (setup.py) ... \u001b[?25ldone\n",
      "\u001b[?25h  Stored in directory: /tmp/pip-ephem-wheel-cache-ojdd8a9i/wheels/10/c2/05/ca241da37bff77d60d31a9174f988109c61ba989e4d4650516\n",
      "Successfully built NVCCPlugin\n"
     ]
    }
   ],
   "source": [
    "!pip install git+git://github.com/andreinechaev/nvcc4jupyter.git"
   ]
  },
  {
   "cell_type": "code",
   "execution_count": 4,
   "metadata": {
    "colab": {
     "base_uri": "https://localhost:8080/",
     "height": 51
    },
    "colab_type": "code",
    "id": "--jZqmwkWaQe",
    "outputId": "bb7a7fee-ebad-4167-ccf2-a7540cd2c378"
   },
   "outputs": [
    {
     "name": "stdout",
     "output_type": "stream",
     "text": [
      "directory /content/src already exists\n",
      "Out bin /content/result.out\n"
     ]
    }
   ],
   "source": [
    "%load_ext nvcc_plugin"
   ]
  },
  {
   "cell_type": "code",
   "execution_count": 5,
   "metadata": {
    "colab": {
     "base_uri": "https://localhost:8080/",
     "height": 34
    },
    "colab_type": "code",
    "id": "hn_IqC0KWaTJ",
    "outputId": "351351da-3fd0-403c-a7a2-1ea05a800ede"
   },
   "outputs": [
    {
     "data": {
      "text/plain": [
       "'Hello world\\n'"
      ]
     },
     "execution_count": 5,
     "metadata": {
      "tags": []
     },
     "output_type": "execute_result"
    }
   ],
   "source": [
    "%%cu\n",
    "#include <iostream>\n",
    "int main() {\n",
    "    std::cout << \"Hello world\\n\";\n",
    "    return 0;\n",
    "}"
   ]
  },
  {
   "cell_type": "code",
   "execution_count": 6,
   "metadata": {
    "colab": {
     "base_uri": "https://localhost:8080/",
     "height": 34
    },
    "colab_type": "code",
    "id": "toJTwAepWaVm",
    "outputId": "1112f314-fba8-4c98-a8ba-a12ec40ab49b"
   },
   "outputs": [
    {
     "data": {
      "text/plain": [
       "'Max error: 0\\nHello world\\n'"
      ]
     },
     "execution_count": 6,
     "metadata": {
      "tags": []
     },
     "output_type": "execute_result"
    }
   ],
   "source": [
    "%%cu \n",
    "#include <iostream>\n",
    "#include <math.h>\n",
    "// Kernel function to add the elements of two arrays\n",
    "__global__\n",
    "void add(int n, float *x, float *y)\n",
    "{\n",
    "  for (int i = 0; i < n; i++)\n",
    "    y[i] = x[i] + y[i];\n",
    "}\n",
    "\n",
    "int main(void)\n",
    "{\n",
    "  int N = 1<<20;\n",
    "  float *x, *y;\n",
    "\n",
    "  // Allocate Unified Memory – accessible from CPU or GPU\n",
    "  cudaMallocManaged(&x, N*sizeof(float));\n",
    "  cudaMallocManaged(&y, N*sizeof(float));\n",
    "\n",
    "  // initialize x and y arrays on the host\n",
    "  for (int i = 0; i < N; i++) {\n",
    "    x[i] = 1.0f;\n",
    "    y[i] = 2.0f;\n",
    "  }\n",
    "\n",
    "  // Run kernel on 1M elements on the GPU\n",
    "  add<<<1, 1>>>(N, x, y);\n",
    "\n",
    "  // Wait for GPU to finish before accessing on host\n",
    "  cudaDeviceSynchronize();\n",
    "\n",
    "  // Check for errors (all values should be 3.0f)\n",
    "  float maxError = 0.0f;\n",
    "  for (int i = 0; i < N; i++)\n",
    "    maxError = fmax(maxError, fabs(y[i]-3.0f));\n",
    "  std::cout << \"Max error: \" << maxError << std::endl;\n",
    "\n",
    "  // Free memory\n",
    "  cudaFree(x);\n",
    "  cudaFree(y);\n",
    "  std::cout << \"Hello world\\n\";\n",
    "  return 0;\n",
    "}"
   ]
  },
  {
   "cell_type": "code",
   "execution_count": 7,
   "metadata": {
    "colab": {
     "base_uri": "https://localhost:8080/",
     "height": 34
    },
    "colab_type": "code",
    "id": "z9WQNBmzWbMu",
    "outputId": "429e8ee7-27b2-4785-e414-d94a9ac1a43a"
   },
   "outputs": [
    {
     "name": "stdout",
     "output_type": "stream",
     "text": [
      "Overwriting add.cpp\n"
     ]
    }
   ],
   "source": [
    "%%writefile add.cpp\n",
    "#include <iostream>\n",
    "#include <math.h>\n",
    "\n",
    "// function to add the elements of two arrays\n",
    "void add(int n, float *x, float *y)\n",
    "{\n",
    "  for (int i = 0; i < n; i++)\n",
    "      y[i] = x[i] + y[i];\n",
    "}\n",
    "\n",
    "int main(void)\n",
    "{\n",
    "  int N = 1<<20; // 1M elements\n",
    "\n",
    "  float *x = new float[N];\n",
    "  float *y = new float[N];\n",
    "\n",
    "  // initialize x and y arrays on the host\n",
    "  for (int i = 0; i < N; i++) {\n",
    "    x[i] = 1.0f;\n",
    "    y[i] = 2.0f;\n",
    "  }\n",
    "\n",
    "  // Run kernel on 1M elements on the CPU\n",
    "  add(N, x, y);\n",
    "\n",
    "  // Check for errors (all values should be 3.0f)\n",
    "  float maxError = 0.0f;\n",
    "  for (int i = 0; i < N; i++)\n",
    "    maxError = fmax(maxError, fabs(y[i]-3.0f));\n",
    "  std::cout << \"Max error: \" << maxError << std::endl;\n",
    "\n",
    "  // Free memory\n",
    "  delete [] x;\n",
    "  delete [] y;\n",
    "\n",
    "  return 0;\n",
    "}"
   ]
  },
  {
   "cell_type": "code",
   "execution_count": 0,
   "metadata": {
    "colab": {},
    "colab_type": "code",
    "id": "M8nQ41OfWbPP"
   },
   "outputs": [],
   "source": [
    "!clang++ add.cpp -o add"
   ]
  },
  {
   "cell_type": "code",
   "execution_count": 9,
   "metadata": {
    "colab": {
     "base_uri": "https://localhost:8080/",
     "height": 34
    },
    "colab_type": "code",
    "id": "SU_qWfoxWbSx",
    "outputId": "652ca8ec-ee3f-4c5b-c065-640676ce6fe3"
   },
   "outputs": [
    {
     "name": "stdout",
     "output_type": "stream",
     "text": [
      "Max error: 0\n"
     ]
    }
   ],
   "source": [
    "!./add"
   ]
  },
  {
   "cell_type": "code",
   "execution_count": 10,
   "metadata": {
    "colab": {
     "base_uri": "https://localhost:8080/",
     "height": 34
    },
    "colab_type": "code",
    "id": "Oa8eCW4YWYF8",
    "outputId": "8793aac5-1037-4486-e41e-d8447946a1e2"
   },
   "outputs": [
    {
     "name": "stdout",
     "output_type": "stream",
     "text": [
      "Overwriting add.cu\n"
     ]
    }
   ],
   "source": [
    "%%writefile add.cu\n",
    "\n",
    "#include <iostream>\n",
    "#include <math.h>\n",
    "// Kernel function to add the elements of two arrays\n",
    "__global__\n",
    "void add(int n, float *x, float *y)\n",
    "{\n",
    "  for (int i = 0; i < n; i++)\n",
    "    y[i] = x[i] + y[i];\n",
    "}\n",
    "\n",
    "int main(void)\n",
    "{\n",
    "  int N = 1<<20;\n",
    "  float *x, *y;\n",
    "\n",
    "  // Allocate Unified Memory – accessible from CPU or GPU\n",
    "  cudaMallocManaged(&x, N*sizeof(float));\n",
    "  cudaMallocManaged(&y, N*sizeof(float));\n",
    "\n",
    "  // initialize x and y arrays on the host\n",
    "  for (int i = 0; i < N; i++) {\n",
    "    x[i] = 1.0f;\n",
    "    y[i] = 2.0f;\n",
    "  }\n",
    "\n",
    "  // Run kernel on 1M elements on the GPU\n",
    "  add<<<1, 1>>>(N, x, y);\n",
    "\n",
    "  // Wait for GPU to finish before accessing on host\n",
    "  cudaDeviceSynchronize();\n",
    "\n",
    "  // Check for errors (all values should be 3.0f)\n",
    "  float maxError = 0.0f;\n",
    "  for (int i = 0; i < N; i++)\n",
    "    maxError = fmax(maxError, fabs(y[i]-3.0f));\n",
    "  std::cout << \"Max error: \" << maxError << std::endl;\n",
    "\n",
    "  // Free memory\n",
    "  cudaFree(x);\n",
    "  cudaFree(y);\n",
    "  \n",
    "  return 0;\n",
    "}"
   ]
  },
  {
   "cell_type": "code",
   "execution_count": 0,
   "metadata": {
    "colab": {},
    "colab_type": "code",
    "id": "d9vfAtHcWoD9"
   },
   "outputs": [],
   "source": [
    "!nvcc add.cu -o add_cuda"
   ]
  },
  {
   "cell_type": "code",
   "execution_count": 12,
   "metadata": {
    "colab": {
     "base_uri": "https://localhost:8080/",
     "height": 34
    },
    "colab_type": "code",
    "id": "qQ3bXJnYWoPz",
    "outputId": "3a817dc6-c7b3-4d9b-c49b-dc420958551e"
   },
   "outputs": [
    {
     "name": "stdout",
     "output_type": "stream",
     "text": [
      "Max error: 0\n"
     ]
    }
   ],
   "source": [
    "!./add_cuda"
   ]
  },
  {
   "cell_type": "code",
   "execution_count": 13,
   "metadata": {
    "colab": {
     "base_uri": "https://localhost:8080/",
     "height": 445
    },
    "colab_type": "code",
    "id": "CbCMlIGSWoSM",
    "outputId": "c72d1882-bf7f-4463-ef9d-d693b08afa9d"
   },
   "outputs": [
    {
     "name": "stdout",
     "output_type": "stream",
     "text": [
      "==497== NVPROF is profiling process 497, command: ./add_cuda\n",
      "Max error: 0\n",
      "==497== Profiling application: ./add_cuda\n",
      "==497== Profiling result:\n",
      "            Type  Time(%)      Time     Calls       Avg       Min       Max  Name\n",
      " GPU activities:  100.00%  447.81ms         1  447.81ms  447.81ms  447.81ms  add(int, float*, float*)\n",
      "      API calls:   67.15%  447.88ms         1  447.88ms  447.88ms  447.88ms  cudaDeviceSynchronize\n",
      "                   32.17%  214.58ms         2  107.29ms  792.61us  213.78ms  cudaMallocManaged\n",
      "                    0.41%  2.7049ms         1  2.7049ms  2.7049ms  2.7049ms  cudaLaunchKernel\n",
      "                    0.18%  1.2041ms         2  602.06us  544.96us  659.16us  cudaFree\n",
      "                    0.06%  391.74us        96  4.0800us     155ns  165.56us  cuDeviceGetAttribute\n",
      "                    0.03%  176.23us         1  176.23us  176.23us  176.23us  cuDeviceTotalMem\n",
      "                    0.00%  22.984us         1  22.984us  22.984us  22.984us  cuDeviceGetName\n",
      "                    0.00%  3.4450us         1  3.4450us  3.4450us  3.4450us  cuDeviceGetPCIBusId\n",
      "                    0.00%  2.3190us         3     773ns     215ns  1.3800us  cuDeviceGetCount\n",
      "                    0.00%  1.6890us         2     844ns     264ns  1.4250us  cuDeviceGet\n",
      "                    0.00%     272ns         1     272ns     272ns     272ns  cuDeviceGetUuid\n",
      "\n",
      "==497== Unified Memory profiling result:\n",
      "Device \"Tesla K80 (0)\"\n",
      "   Count  Avg Size  Min Size  Max Size  Total Size  Total Time  Name\n",
      "       6  1.3333MB  256.00KB  2.0000MB  8.000000MB  1.324064ms  Host To Device\n",
      "      90  136.53KB  4.0000KB  0.9961MB  12.00000MB  1.901792ms  Device To Host\n",
      "Total CPU Page faults: 45\n"
     ]
    }
   ],
   "source": [
    "!nvprof ./add_cuda"
   ]
  },
  {
   "cell_type": "code",
   "execution_count": 0,
   "metadata": {
    "colab": {},
    "colab_type": "code",
    "id": "L607UhKjWofT"
   },
   "outputs": [],
   "source": []
  },
  {
   "cell_type": "code",
   "execution_count": 0,
   "metadata": {
    "colab": {},
    "colab_type": "code",
    "id": "B5C-NcpmWoic"
   },
   "outputs": [],
   "source": []
  },
  {
   "cell_type": "code",
   "execution_count": 14,
   "metadata": {
    "colab": {
     "base_uri": "https://localhost:8080/",
     "height": 34
    },
    "colab_type": "code",
    "id": "DB_Bp9cFWol8",
    "outputId": "feb2a5ae-75a6-4378-c02a-a3f6210f9457"
   },
   "outputs": [
    {
     "name": "stdout",
     "output_type": "stream",
     "text": [
      "Overwriting add.cu\n"
     ]
    }
   ],
   "source": [
    "%%writefile add.cu\n",
    "\n",
    "#include <iostream>\n",
    "#include <math.h>\n",
    "// Kernel function to add the elements of two arrays\n",
    "__global__\n",
    "void add(int n, float *x, float *y)\n",
    "{\n",
    "  int index = blockIdx.x * blockDim.x + threadIdx.x;\n",
    "  int stride = blockDim.x * gridDim.x;\n",
    "  for (int i = index; i < n; i += stride)\n",
    "    y[i] = x[i] + y[i];\n",
    "}\n",
    "\n",
    "int main(void)\n",
    "{\n",
    "  int N = 1<<20;\n",
    "  float *x, *y;\n",
    "\n",
    "  // Allocate Unified Memory – accessible from CPU or GPU\n",
    "  cudaMallocManaged(&x, N*sizeof(float));\n",
    "  cudaMallocManaged(&y, N*sizeof(float));\n",
    "\n",
    "  // initialize x and y arrays on the host\n",
    "  for (int i = 0; i < N; i++) {\n",
    "    x[i] = 1.0f;\n",
    "    y[i] = 2.0f;\n",
    "  }\n",
    "\n",
    "  // Run kernel on 1M elements on the GPU\n",
    "  int blockSize = 256;\n",
    "  int numBlocks = (N + blockSize - 1) / blockSize;\n",
    "  add<<<numBlocks, blockSize>>>(N, x, y);\n",
    "\n",
    "  // Wait for GPU to finish before accessing on host\n",
    "  cudaDeviceSynchronize();\n",
    "\n",
    "  // Check for errors (all values should be 3.0f)\n",
    "  float maxError = 0.0f;\n",
    "  for (int i = 0; i < N; i++)\n",
    "    maxError = fmax(maxError, fabs(y[i]-3.0f));\n",
    "  std::cout << \"Max error: \" << maxError << std::endl;\n",
    "\n",
    "  // Free memory\n",
    "  cudaFree(x);\n",
    "  cudaFree(y);\n",
    "  \n",
    "  return 0;\n",
    "}"
   ]
  },
  {
   "cell_type": "code",
   "execution_count": 0,
   "metadata": {
    "colab": {},
    "colab_type": "code",
    "id": "cb-ZGpfAWoou"
   },
   "outputs": [],
   "source": [
    "!nvcc add.cu -o add_cuda"
   ]
  },
  {
   "cell_type": "code",
   "execution_count": 16,
   "metadata": {
    "colab": {
     "base_uri": "https://localhost:8080/",
     "height": 34
    },
    "colab_type": "code",
    "id": "FwJ5c6paWorH",
    "outputId": "93a78b7b-1952-4ecc-833d-5225873e94a7"
   },
   "outputs": [
    {
     "name": "stdout",
     "output_type": "stream",
     "text": [
      "Max error: 0\n"
     ]
    }
   ],
   "source": [
    "!./add_cuda"
   ]
  },
  {
   "cell_type": "code",
   "execution_count": 17,
   "metadata": {
    "colab": {
     "base_uri": "https://localhost:8080/",
     "height": 445
    },
    "colab_type": "code",
    "id": "p5oxDPRYWotz",
    "outputId": "294cabba-db8b-4527-d3fa-2ce7a4b0d1e2"
   },
   "outputs": [
    {
     "name": "stdout",
     "output_type": "stream",
     "text": [
      "==575== NVPROF is profiling process 575, command: ./add_cuda\n",
      "Max error: 0\n",
      "==575== Profiling application: ./add_cuda\n",
      "==575== Profiling result:\n",
      "            Type  Time(%)      Time     Calls       Avg       Min       Max  Name\n",
      " GPU activities:  100.00%  102.85us         1  102.85us  102.85us  102.85us  add(int, float*, float*)\n",
      "      API calls:   97.93%  174.74ms         2  87.372ms  928.96us  173.82ms  cudaMallocManaged\n",
      "                    1.00%  1.7840ms         1  1.7840ms  1.7840ms  1.7840ms  cudaLaunchKernel\n",
      "                    0.60%  1.0628ms         2  531.38us  441.48us  621.28us  cudaFree\n",
      "                    0.25%  450.01us        96  4.6870us     161ns  190.58us  cuDeviceGetAttribute\n",
      "                    0.14%  244.01us         1  244.01us  244.01us  244.01us  cuDeviceTotalMem\n",
      "                    0.06%  114.26us         1  114.26us  114.26us  114.26us  cudaDeviceSynchronize\n",
      "                    0.01%  24.269us         1  24.269us  24.269us  24.269us  cuDeviceGetName\n",
      "                    0.00%  3.8020us         3  1.2670us     227ns  2.8620us  cuDeviceGetCount\n",
      "                    0.00%  3.7640us         1  3.7640us  3.7640us  3.7640us  cuDeviceGetPCIBusId\n",
      "                    0.00%  1.2630us         2     631ns     269ns     994ns  cuDeviceGet\n",
      "                    0.00%     267ns         1     267ns     267ns     267ns  cuDeviceGetUuid\n",
      "\n",
      "==575== Unified Memory profiling result:\n",
      "Device \"Tesla K80 (0)\"\n",
      "   Count  Avg Size  Min Size  Max Size  Total Size  Total Time  Name\n",
      "       6  1.3333MB  256.00KB  2.0000MB  8.000000MB  1.176416ms  Host To Device\n",
      "      90  136.53KB  4.0000KB  0.9961MB  12.00000MB  1.901472ms  Device To Host\n",
      "Total CPU Page faults: 45\n"
     ]
    }
   ],
   "source": [
    "!nvprof ./add_cuda"
   ]
  },
  {
   "cell_type": "code",
   "execution_count": 0,
   "metadata": {
    "colab": {},
    "colab_type": "code",
    "id": "_ImB4r8tWoxF"
   },
   "outputs": [],
   "source": []
  },
  {
   "cell_type": "code",
   "execution_count": 0,
   "metadata": {
    "colab": {},
    "colab_type": "code",
    "id": "SXUV8tyUWo0B"
   },
   "outputs": [],
   "source": []
  },
  {
   "cell_type": "code",
   "execution_count": 0,
   "metadata": {
    "colab": {},
    "colab_type": "code",
    "id": "N_7BmP8oWo2r"
   },
   "outputs": [],
   "source": []
  },
  {
   "cell_type": "code",
   "execution_count": 0,
   "metadata": {
    "colab": {},
    "colab_type": "code",
    "id": "jMKEA4pdWo5T"
   },
   "outputs": [],
   "source": []
  },
  {
   "cell_type": "code",
   "execution_count": 0,
   "metadata": {
    "colab": {},
    "colab_type": "code",
    "id": "_aKj9U5RWoN5"
   },
   "outputs": [],
   "source": []
  },
  {
   "cell_type": "code",
   "execution_count": 0,
   "metadata": {
    "colab": {},
    "colab_type": "code",
    "id": "xQKoRUJ9WoME"
   },
   "outputs": [],
   "source": []
  },
  {
   "cell_type": "markdown",
   "metadata": {
    "colab_type": "text",
    "id": "kkHA6hMGfrDF"
   },
   "source": [
    "# PyCUDA"
   ]
  },
  {
   "cell_type": "code",
   "execution_count": 1,
   "metadata": {
    "colab": {
     "base_uri": "https://localhost:8080/",
     "height": 292
    },
    "colab_type": "code",
    "id": "qWanEbRMe1Nx",
    "outputId": "7a9324b7-2bf2-4fca-bc2f-8f97bb928f03"
   },
   "outputs": [
    {
     "name": "stdout",
     "output_type": "stream",
     "text": [
      "Requirement already satisfied: pycuda in /usr/local/lib/python3.6/dist-packages (2018.1.1)\n",
      "Requirement already satisfied: mako in /usr/local/lib/python3.6/dist-packages (from pycuda) (1.0.8)\n",
      "Requirement already satisfied: decorator>=3.2.0 in /usr/local/lib/python3.6/dist-packages (from pycuda) (4.4.0)\n",
      "Requirement already satisfied: pytest>=2 in /usr/local/lib/python3.6/dist-packages (from pycuda) (3.6.4)\n",
      "Requirement already satisfied: pytools>=2011.2 in /usr/local/lib/python3.6/dist-packages (from pycuda) (2019.1)\n",
      "Requirement already satisfied: appdirs>=1.4.0 in /usr/local/lib/python3.6/dist-packages (from pycuda) (1.4.3)\n",
      "Requirement already satisfied: MarkupSafe>=0.9.2 in /usr/local/lib/python3.6/dist-packages (from mako->pycuda) (1.1.1)\n",
      "Requirement already satisfied: more-itertools>=4.0.0 in /usr/local/lib/python3.6/dist-packages (from pytest>=2->pycuda) (6.0.0)\n",
      "Requirement already satisfied: attrs>=17.4.0 in /usr/local/lib/python3.6/dist-packages (from pytest>=2->pycuda) (19.1.0)\n",
      "Requirement already satisfied: atomicwrites>=1.0 in /usr/local/lib/python3.6/dist-packages (from pytest>=2->pycuda) (1.3.0)\n",
      "Requirement already satisfied: six>=1.10.0 in /usr/local/lib/python3.6/dist-packages (from pytest>=2->pycuda) (1.11.0)\n",
      "Requirement already satisfied: setuptools in /usr/local/lib/python3.6/dist-packages (from pytest>=2->pycuda) (40.8.0)\n",
      "Requirement already satisfied: pluggy<0.8,>=0.5 in /usr/local/lib/python3.6/dist-packages (from pytest>=2->pycuda) (0.7.1)\n",
      "Requirement already satisfied: py>=1.5.0 in /usr/local/lib/python3.6/dist-packages (from pytest>=2->pycuda) (1.8.0)\n",
      "Requirement already satisfied: numpy>=1.6.0 in /usr/local/lib/python3.6/dist-packages (from pytools>=2011.2->pycuda) (1.14.6)\n"
     ]
    }
   ],
   "source": [
    "!pip install pycuda"
   ]
  },
  {
   "cell_type": "code",
   "execution_count": 0,
   "metadata": {
    "colab": {},
    "colab_type": "code",
    "id": "Y3wT2VDzWoIf"
   },
   "outputs": [],
   "source": [
    "import pycuda.autoinit\n",
    "import pycuda.driver as drv\n",
    "import numpy as np"
   ]
  },
  {
   "cell_type": "code",
   "execution_count": 0,
   "metadata": {
    "colab": {},
    "colab_type": "code",
    "id": "16nTdEKnWoG9"
   },
   "outputs": [],
   "source": [
    "from pycuda.compiler import SourceModule\n",
    "mod = SourceModule(\"\"\"\n",
    "__global__ void multiply_them(float *dest, float *a, float *b)\n",
    "{\n",
    "  const int i = threadIdx.x;\n",
    "  dest[i] = a[i] * b[i];\n",
    "}\n",
    "\"\"\")\n"
   ]
  },
  {
   "cell_type": "code",
   "execution_count": 24,
   "metadata": {
    "colab": {
     "base_uri": "https://localhost:8080/",
     "height": 306
    },
    "colab_type": "code",
    "id": "kthz8cI7fboH",
    "outputId": "c7a0441f-62d2-4217-b0f9-1f9236c544d0"
   },
   "outputs": [
    {
     "name": "stdout",
     "output_type": "stream",
     "text": [
      "[0. 0. 0. 0. 0. 0. 0. 0. 0. 0. 0. 0. 0. 0. 0. 0. 0. 0. 0. 0. 0. 0. 0. 0.\n",
      " 0. 0. 0. 0. 0. 0. 0. 0. 0. 0. 0. 0. 0. 0. 0. 0. 0. 0. 0. 0. 0. 0. 0. 0.\n",
      " 0. 0. 0. 0. 0. 0. 0. 0. 0. 0. 0. 0. 0. 0. 0. 0. 0. 0. 0. 0. 0. 0. 0. 0.\n",
      " 0. 0. 0. 0. 0. 0. 0. 0. 0. 0. 0. 0. 0. 0. 0. 0. 0. 0. 0. 0. 0. 0. 0. 0.\n",
      " 0. 0. 0. 0. 0. 0. 0. 0. 0. 0. 0. 0. 0. 0. 0. 0. 0. 0. 0. 0. 0. 0. 0. 0.\n",
      " 0. 0. 0. 0. 0. 0. 0. 0. 0. 0. 0. 0. 0. 0. 0. 0. 0. 0. 0. 0. 0. 0. 0. 0.\n",
      " 0. 0. 0. 0. 0. 0. 0. 0. 0. 0. 0. 0. 0. 0. 0. 0. 0. 0. 0. 0. 0. 0. 0. 0.\n",
      " 0. 0. 0. 0. 0. 0. 0. 0. 0. 0. 0. 0. 0. 0. 0. 0. 0. 0. 0. 0. 0. 0. 0. 0.\n",
      " 0. 0. 0. 0. 0. 0. 0. 0. 0. 0. 0. 0. 0. 0. 0. 0. 0. 0. 0. 0. 0. 0. 0. 0.\n",
      " 0. 0. 0. 0. 0. 0. 0. 0. 0. 0. 0. 0. 0. 0. 0. 0. 0. 0. 0. 0. 0. 0. 0. 0.\n",
      " 0. 0. 0. 0. 0. 0. 0. 0. 0. 0. 0. 0. 0. 0. 0. 0. 0. 0. 0. 0. 0. 0. 0. 0.\n",
      " 0. 0. 0. 0. 0. 0. 0. 0. 0. 0. 0. 0. 0. 0. 0. 0. 0. 0. 0. 0. 0. 0. 0. 0.\n",
      " 0. 0. 0. 0. 0. 0. 0. 0. 0. 0. 0. 0. 0. 0. 0. 0. 0. 0. 0. 0. 0. 0. 0. 0.\n",
      " 0. 0. 0. 0. 0. 0. 0. 0. 0. 0. 0. 0. 0. 0. 0. 0. 0. 0. 0. 0. 0. 0. 0. 0.\n",
      " 0. 0. 0. 0. 0. 0. 0. 0. 0. 0. 0. 0. 0. 0. 0. 0. 0. 0. 0. 0. 0. 0. 0. 0.\n",
      " 0. 0. 0. 0. 0. 0. 0. 0. 0. 0. 0. 0. 0. 0. 0. 0. 0. 0. 0. 0. 0. 0. 0. 0.\n",
      " 0. 0. 0. 0. 0. 0. 0. 0. 0. 0. 0. 0. 0. 0. 0. 0.]\n"
     ]
    }
   ],
   "source": [
    "multiply_them = mod.get_function(\"multiply_them\")\n",
    "\n",
    "a = np.random.randn(400).astype(np.float32)\n",
    "b = np.random.randn(400).astype(np.float32)\n",
    "\n",
    "dest = np.zeros_like(a)\n",
    "multiply_them(\n",
    "        drv.Out(dest), drv.In(a), drv.In(b),\n",
    "        block=(400,1,1), grid=(1,1))\n",
    "\n",
    "print(dest-a*b)"
   ]
  },
  {
   "cell_type": "code",
   "execution_count": 0,
   "metadata": {
    "colab": {},
    "colab_type": "code",
    "id": "ZWvmHlvVqTGb"
   },
   "outputs": [],
   "source": [
    "__global__\n",
    "void rk4_step(float *time, \n",
    "              float *x0, float *y0, float *z0, \n",
    "              float *vx0, float *vy0, float *vz0, float* timestep,\n",
    "              float *x_step, float *y_step, float *z_step, \n",
    "              float *vx_step, float *vy_step, float *vz_step) {\n",
    "\n",
    "    const float dt = timestep * 2.0;\n",
    "    const float dt2 = timestep;   // half of timestep\n",
    "    \n",
    "    \n",
    "    float ax0, ay0, az0;\n",
    "    get_accels(x0, y0, z0, vx0, vy0, vz0);\n",
    "\n",
    "    // RK4 Calc k1, l1 vars\n",
    "    float kx1 = ax0 * dt2;\n",
    "    float ky1 = ay0 * dt2;\n",
    "    float kz1 = az0 * dt2;\n",
    "\n",
    "    float lx1 = vx0 * dt2;\n",
    "    float ly1 = vy0 * dt2;\n",
    "    float lz1 = vz0 * dt2;\n",
    "\n",
    "    float ax1, ay1, az1;\n",
    "    get_accels(x0 + lx1, y0 + ly1, z0 + lz1, vx0 + kx1,\n",
    "                               vy0 + ky1, vz0 + kz1);\n",
    "\n",
    "    // RK4 Calc k2, l2  vars\n",
    "    float kx2 = ax1 * dt2;\n",
    "    float ky2 = ay1 * dt2;\n",
    "    float kz2 = az1 * dt2;\n",
    "\n",
    "    float lx2 = (vx0 + kx1) * dt2;\n",
    "    float ly2 = (vy0 + ky1) * dt2;\n",
    "    float lz2 = (vz0 + kz1) * dt2;\n",
    "\n",
    "    float ax2, ay2, az2;\n",
    "    get_accels(x0 + lx2, y0 + ly2, z0 + lz2, vx0 + kx2,\n",
    "                               vy0 + ky2, vz0 + kz2);\n",
    "\n",
    "    // RK4 Calc k3, l3  vars\n",
    "    float kx3 = ax2 * dt;\n",
    "    float ky3 = ay2 * dt;\n",
    "    float kz3 = az2 * dt;\n",
    "\n",
    "    float lx3 = (vx0 + kx2) * dt;\n",
    "    float ly3 = (vy0 + ky2) * dt;\n",
    "    float lz3 = (vz0 + kz2) * dt;\n",
    "\n",
    "    float ax3, ay3, az3;\n",
    "    get_accels(x0 + lx3, y0 + ly3, z0 + lz3, vx0 + kx3,\n",
    "                               vy0 + ky3, vz0 + kz3);\n",
    "\n",
    "    // RK4 Calc k3, l3  vars\n",
    "    float kx4 = ax3 * dt2;\n",
    "    float ky4 = ay3 * dt2;\n",
    "    float kz4 = az3 * dt2;\n",
    "\n",
    "    float lx4 = (vx0 + kx3) * dt2;\n",
    "    float ly4 = (vy0 + ky3) * dt2;\n",
    "    float lz4 = (vz0 + kz3) * dt2;\n",
    "\n",
    "    x_step = x0 + (lx1 + 2.0 * lx2 + lx3 + lx4) / 3.0;\n",
    "    y_step = y0 + (ly1 + 2.0 * ly2 + ly3 + ly4) / 3.0;\n",
    "    z_step = z0 + (lz1 + 2.0 * lz2 + lz3 + lz4) / 3.0;\n",
    "\n",
    "    vx_step = vx0 + (kx1 + 2.0 * kx2 + kx3 + kx4) / 3.0;\n",
    "    vy_step = vy0 + (ky1 + 2.0 * ky2 + ky3 + ky4) / 3.0;\n",
    "    vz_step = vz0 + (kz1 + 2.0 * kz2 + kz3 + kz4) / 3.0;\n",
    "}\n",
    "   "
   ]
  },
  {
   "cell_type": "code",
   "execution_count": 117,
   "metadata": {
    "colab": {
     "base_uri": "https://localhost:8080/",
     "height": 34
    },
    "colab_type": "code",
    "id": "oe4Nm2Gzfek2",
    "outputId": "25ffb1af-6225-4b56-e79f-deac7a2fa3f0"
   },
   "outputs": [
    {
     "name": "stdout",
     "output_type": "stream",
     "text": [
      "Overwriting rk4.cu\n"
     ]
    }
   ],
   "source": [
    "%%writefile rk4.cu \n",
    "\n",
    "#include <math.h>\n",
    "__device__\n",
    "void get_accels(float x0, float y0, float z0, \n",
    "                float vx0, float vy0, float vz0,\n",
    "                float &ax1, float &ay1, float &az1) {\n",
    "    float G = 6.67408E-11;\n",
    "    float M = 5.972E24;\n",
    "    float radius =  sqrt(pow(x0,2) + pow(y0,2) + pow(z0,2));\n",
    "    \n",
    "    ax1 = - ((G * M) / radius) * x0;\n",
    "    ay1 = - ((G * M) / radius) * y0;\n",
    "    az1 = - ((G * M) / radius) * z0;\n",
    "}\n",
    "\n",
    "__global__\n",
    "void rk4_step(float time, \n",
    "              float x0, float y0, float z0, \n",
    "              float vx0, float vy0, float vz0, float timestep,\n",
    "              float &x_step, float &y_step, float &z_step, \n",
    "              float &vx_step, float &vy_step, float &vz_step) {\n",
    "\n",
    "    const float dt = timestep * 2.0;\n",
    "    const float dt2 = timestep;   // half of timestep\n",
    "    \n",
    "    \n",
    "    float ax0, ay0, az0;\n",
    "    get_accels(x0, y0, z0, vx0, vy0, vz0, ax0, ay0, az0);\n",
    "\n",
    "    // RK4 Calc k1, l1 vars\n",
    "    float kx1 = ax0 * dt2;\n",
    "    float ky1 = ay0 * dt2;\n",
    "    float kz1 = az0 * dt2;\n",
    "\n",
    "    float lx1 = vx0 * dt2;\n",
    "    float ly1 = vy0 * dt2;\n",
    "    float lz1 = vz0 * dt2;\n",
    "\n",
    "    float ax1, ay1, az1;\n",
    "    get_accels(x0 + lx1, y0 + ly1, z0 + lz1, \n",
    "               vx0 + kx1, vy0 + ky1, vz0 + kz1, \n",
    "               ax1, ay1, az1);\n",
    "\n",
    "    // RK4 Calc k2, l2  vars\n",
    "    float kx2 = ax1 * dt2;\n",
    "    float ky2 = ay1 * dt2;\n",
    "    float kz2 = az1 * dt2;\n",
    "\n",
    "    float lx2 = (vx0 + kx1) * dt2;\n",
    "    float ly2 = (vy0 + ky1) * dt2;\n",
    "    float lz2 = (vz0 + kz1) * dt2;\n",
    "\n",
    "    float ax2, ay2, az2;\n",
    "    get_accels(x0 + lx2, y0 + ly2, z0 + lz2, \n",
    "               vx0 + kx2, vy0 + ky2, vz0 + kz2, \n",
    "               ax2, ay2, az2);\n",
    "\n",
    "    // RK4 Calc k3, l3  vars\n",
    "    float kx3 = ax2 * dt;\n",
    "    float ky3 = ay2 * dt;\n",
    "    float kz3 = az2 * dt;\n",
    "\n",
    "    float lx3 = (vx0 + kx2) * dt;\n",
    "    float ly3 = (vy0 + ky2) * dt;\n",
    "    float lz3 = (vz0 + kz2) * dt;\n",
    "\n",
    "    float ax3, ay3, az3;\n",
    "    get_accels(x0 + lx3, y0 + ly3, z0 + lz3, \n",
    "               vx0 + kx3, vy0 + ky3, vz0 + kz3,\n",
    "               ax3, ay3, az3);\n",
    "\n",
    "    // RK4 Calc k3, l3  vars\n",
    "    float kx4 = ax3 * dt2;\n",
    "    float ky4 = ay3 * dt2;\n",
    "    float kz4 = az3 * dt2;\n",
    "\n",
    "    float lx4 = (vx0 + kx3) * dt2;\n",
    "    float ly4 = (vy0 + ky3) * dt2;\n",
    "    float lz4 = (vz0 + kz3) * dt2;\n",
    "\n",
    "    x_step = x0 + (lx1 + 2.0 * lx2 + lx3 + lx4) / 3.0;\n",
    "    y_step = y0 + (ly1 + 2.0 * ly2 + ly3 + ly4) / 3.0;\n",
    "    z_step = z0 + (lz1 + 2.0 * lz2 + lz3 + lz4) / 3.0;\n",
    "\n",
    "    vx_step = vx0 + (kx1 + 2.0 * kx2 + kx3 + kx4) / 3.0;\n",
    "    vy_step = vy0 + (ky1 + 2.0 * ky2 + ky3 + ky4) / 3.0;\n",
    "    vz_step = vz0 + (kz1 + 2.0 * kz2 + kz3 + kz4) / 3.0;\n",
    "}\n",
    "   "
   ]
  },
  {
   "cell_type": "code",
   "execution_count": 225,
   "metadata": {
    "colab": {
     "base_uri": "https://localhost:8080/",
     "height": 34
    },
    "colab_type": "code",
    "id": "s7JtKnLGy8tu",
    "outputId": "d2c0e32f-d42d-4696-84b0-b6b8ccc02b64"
   },
   "outputs": [
    {
     "name": "stdout",
     "output_type": "stream",
     "text": [
      "Overwriting rk4.cu\n"
     ]
    }
   ],
   "source": [
    "%%writefile rk4.cu \n",
    "\n",
    "#include <math.h>\n",
    "__device__\n",
    "void get_accels(float x0, float y0, float z0, \n",
    "                float vx0, float vy0, float vz0,\n",
    "                float &ax1, float &ay1, float &az1) {\n",
    "    float G = 6.67408E-11;\n",
    "    float M = 5.972E24;\n",
    "    float radius =  sqrt(pow(x0,2) + pow(y0,2) + pow(z0,2));\n",
    "    \n",
    "    ax1 = - ((G * M) / radius) * x0;\n",
    "    ay1 = - ((G * M) / radius) * y0;\n",
    "    az1 = - ((G * M) / radius) * z0;\n",
    "}\n",
    "\n",
    "__global__\n",
    "void rk4_step_cuda(float *x0, float *x_step) {\n",
    "    const int idx = threadIdx.x0;\n",
    "    \n",
    "    x_step[idx] = x0[idx];\n",
    "}\n",
    "   "
   ]
  },
  {
   "cell_type": "code",
   "execution_count": 0,
   "metadata": {
    "colab": {},
    "colab_type": "code",
    "id": "lm6rQevQqR1d"
   },
   "outputs": [],
   "source": []
  },
  {
   "cell_type": "code",
   "execution_count": 226,
   "metadata": {
    "colab": {
     "base_uri": "https://localhost:8080/",
     "height": 68
    },
    "colab_type": "code",
    "id": "8tK-nqUIn92v",
    "outputId": "f7c85aab-e149-4513-92c6-df8e24cce9c5"
   },
   "outputs": [
    {
     "name": "stdout",
     "output_type": "stream",
     "text": [
      "rk4.cu(18): error: class \"uint3\" has no member \"x0\"\n",
      "\n",
      "1 error detected in the compilation of \"/tmp/tmpxft_0000064a_00000000-8_rk4.cpp1.ii\".\n"
     ]
    }
   ],
   "source": [
    "!nvcc rk4.cu -o rk4"
   ]
  },
  {
   "cell_type": "code",
   "execution_count": 0,
   "metadata": {
    "colab": {},
    "colab_type": "code",
    "id": "2HPzZZkAt7rE"
   },
   "outputs": [],
   "source": [
    "code = open('rk4.cu', 'r').read()"
   ]
  },
  {
   "cell_type": "code",
   "execution_count": 228,
   "metadata": {
    "colab": {
     "base_uri": "https://localhost:8080/",
     "height": 54
    },
    "colab_type": "code",
    "id": "t6AGz_U3t7uj",
    "outputId": "5822c409-9df5-4dab-e9a5-e1b9e1581f97"
   },
   "outputs": [
    {
     "data": {
      "text/plain": [
       "'\\n#include <math.h>\\n__device__\\nvoid get_accels(float x0, float y0, float z0, \\n                float vx0, float vy0, float vz0,\\n                float &ax1, float &ay1, float &az1) {\\n    float G = 6.67408E-11;\\n    float M = 5.972E24;\\n    float radius =  sqrt(pow(x0,2) + pow(y0,2) + pow(z0,2));\\n    \\n    ax1 = - ((G * M) / radius) * x0;\\n    ay1 = - ((G * M) / radius) * y0;\\n    az1 = - ((G * M) / radius) * z0;\\n}\\n\\n__global__\\nvoid rk4_step_cuda(float *x0, float *x_step) {\\n    const int idx = threadIdx.x0;\\n    \\n    x_step[idx] = x0[idx];\\n}\\n   '"
      ]
     },
     "execution_count": 228,
     "metadata": {
      "tags": []
     },
     "output_type": "execute_result"
    }
   ],
   "source": [
    "code"
   ]
  },
  {
   "cell_type": "code",
   "execution_count": 0,
   "metadata": {
    "colab": {},
    "colab_type": "code",
    "id": "77wyT9WVv9u-"
   },
   "outputs": [],
   "source": []
  },
  {
   "cell_type": "code",
   "execution_count": 229,
   "metadata": {
    "colab": {
     "base_uri": "https://localhost:8080/",
     "height": 677
    },
    "colab_type": "code",
    "id": "CkVbPEeFoDUH",
    "outputId": "360b7082-9ec8-471c-92af-d0f17bf60b42"
   },
   "outputs": [
    {
     "ename": "CompileError",
     "evalue": "ignored",
     "output_type": "error",
     "traceback": [
      "\u001b[0;31m---------------------------------------------------------------------------\u001b[0m",
      "\u001b[0;31mCompileError\u001b[0m                              Traceback (most recent call last)",
      "\u001b[0;32m<ipython-input-229-233729e00c33>\u001b[0m in \u001b[0;36m<module>\u001b[0;34m()\u001b[0m\n\u001b[1;32m      1\u001b[0m \u001b[0;32mfrom\u001b[0m \u001b[0mpycuda\u001b[0m\u001b[0;34m.\u001b[0m\u001b[0mcompiler\u001b[0m \u001b[0;32mimport\u001b[0m \u001b[0mSourceModule\u001b[0m\u001b[0;34m\u001b[0m\u001b[0;34m\u001b[0m\u001b[0m\n\u001b[1;32m      2\u001b[0m \u001b[0;34m\u001b[0m\u001b[0m\n\u001b[0;32m----> 3\u001b[0;31m \u001b[0mmod\u001b[0m \u001b[0;34m=\u001b[0m \u001b[0mSourceModule\u001b[0m\u001b[0;34m(\u001b[0m\u001b[0mcode\u001b[0m\u001b[0;34m)\u001b[0m\u001b[0;34m\u001b[0m\u001b[0;34m\u001b[0m\u001b[0m\n\u001b[0m",
      "\u001b[0;32m/usr/local/lib/python3.6/dist-packages/pycuda/compiler.py\u001b[0m in \u001b[0;36m__init__\u001b[0;34m(self, source, nvcc, options, keep, no_extern_c, arch, code, cache_dir, include_dirs)\u001b[0m\n\u001b[1;32m    289\u001b[0m \u001b[0;34m\u001b[0m\u001b[0m\n\u001b[1;32m    290\u001b[0m         cubin = compile(source, nvcc, options, keep, no_extern_c,\n\u001b[0;32m--> 291\u001b[0;31m                 arch, code, cache_dir, include_dirs)\n\u001b[0m\u001b[1;32m    292\u001b[0m \u001b[0;34m\u001b[0m\u001b[0m\n\u001b[1;32m    293\u001b[0m         \u001b[0;32mfrom\u001b[0m \u001b[0mpycuda\u001b[0m\u001b[0;34m.\u001b[0m\u001b[0mdriver\u001b[0m \u001b[0;32mimport\u001b[0m \u001b[0mmodule_from_buffer\u001b[0m\u001b[0;34m\u001b[0m\u001b[0;34m\u001b[0m\u001b[0m\n",
      "\u001b[0;32m/usr/local/lib/python3.6/dist-packages/pycuda/compiler.py\u001b[0m in \u001b[0;36mcompile\u001b[0;34m(source, nvcc, options, keep, no_extern_c, arch, code, cache_dir, include_dirs, target)\u001b[0m\n\u001b[1;32m    252\u001b[0m         \u001b[0moptions\u001b[0m\u001b[0;34m.\u001b[0m\u001b[0mappend\u001b[0m\u001b[0;34m(\u001b[0m\u001b[0;34m\"-I\"\u001b[0m\u001b[0;34m+\u001b[0m\u001b[0mi\u001b[0m\u001b[0;34m)\u001b[0m\u001b[0;34m\u001b[0m\u001b[0;34m\u001b[0m\u001b[0m\n\u001b[1;32m    253\u001b[0m \u001b[0;34m\u001b[0m\u001b[0m\n\u001b[0;32m--> 254\u001b[0;31m     \u001b[0;32mreturn\u001b[0m \u001b[0mcompile_plain\u001b[0m\u001b[0;34m(\u001b[0m\u001b[0msource\u001b[0m\u001b[0;34m,\u001b[0m \u001b[0moptions\u001b[0m\u001b[0;34m,\u001b[0m \u001b[0mkeep\u001b[0m\u001b[0;34m,\u001b[0m \u001b[0mnvcc\u001b[0m\u001b[0;34m,\u001b[0m \u001b[0mcache_dir\u001b[0m\u001b[0;34m,\u001b[0m \u001b[0mtarget\u001b[0m\u001b[0;34m)\u001b[0m\u001b[0;34m\u001b[0m\u001b[0;34m\u001b[0m\u001b[0m\n\u001b[0m\u001b[1;32m    255\u001b[0m \u001b[0;34m\u001b[0m\u001b[0m\n\u001b[1;32m    256\u001b[0m \u001b[0;34m\u001b[0m\u001b[0m\n",
      "\u001b[0;32m/usr/local/lib/python3.6/dist-packages/pycuda/compiler.py\u001b[0m in \u001b[0;36mcompile_plain\u001b[0;34m(source, options, keep, nvcc, cache_dir, target)\u001b[0m\n\u001b[1;32m    135\u001b[0m         raise CompileError(\"nvcc compilation of %s failed\" % cu_file_path,\n\u001b[1;32m    136\u001b[0m                 \u001b[0mcmdline\u001b[0m\u001b[0;34m,\u001b[0m \u001b[0mstdout\u001b[0m\u001b[0;34m=\u001b[0m\u001b[0mstdout\u001b[0m\u001b[0;34m.\u001b[0m\u001b[0mdecode\u001b[0m\u001b[0;34m(\u001b[0m\u001b[0;34m\"utf-8\"\u001b[0m\u001b[0;34m,\u001b[0m \u001b[0;34m\"replace\"\u001b[0m\u001b[0;34m)\u001b[0m\u001b[0;34m,\u001b[0m\u001b[0;34m\u001b[0m\u001b[0;34m\u001b[0m\u001b[0m\n\u001b[0;32m--> 137\u001b[0;31m                 stderr=stderr.decode(\"utf-8\", \"replace\"))\n\u001b[0m\u001b[1;32m    138\u001b[0m \u001b[0;34m\u001b[0m\u001b[0m\n\u001b[1;32m    139\u001b[0m     \u001b[0;32mif\u001b[0m \u001b[0mstdout\u001b[0m \u001b[0;32mor\u001b[0m \u001b[0mstderr\u001b[0m\u001b[0;34m:\u001b[0m\u001b[0;34m\u001b[0m\u001b[0;34m\u001b[0m\u001b[0m\n",
      "\u001b[0;31mCompileError\u001b[0m: nvcc compilation of /tmp/tmpf1ddvau4/kernel.cu failed\n[command: nvcc --cubin -arch sm_37 -I/usr/local/lib/python3.6/dist-packages/pycuda/cuda kernel.cu]\n[stderr:\nkernel.cu(19): error: class \"uint3\" has no member \"x0\"\n\n1 error detected in the compilation of \"/tmp/tmpxft_00000658_00000000-6_kernel.cpp1.ii\".\n]"
     ]
    }
   ],
   "source": [
    "from pycuda.compiler import SourceModule\n",
    "\n",
    "mod = SourceModule(code)"
   ]
  },
  {
   "cell_type": "code",
   "execution_count": 0,
   "metadata": {
    "colab": {},
    "colab_type": "code",
    "id": "MOxN7OQyueGx"
   },
   "outputs": [],
   "source": [
    "rk4_step_cuda = mod.get_function(\"rk4_step_cuda\")"
   ]
  },
  {
   "cell_type": "code",
   "execution_count": 0,
   "metadata": {
    "colab": {},
    "colab_type": "code",
    "id": "zEKIjlOGvsYW"
   },
   "outputs": [],
   "source": [
    "space_objects"
   ]
  },
  {
   "cell_type": "code",
   "execution_count": 0,
   "metadata": {
    "colab": {},
    "colab_type": "code",
    "id": "MuPr5HPBv3km"
   },
   "outputs": [],
   "source": []
  },
  {
   "cell_type": "code",
   "execution_count": 0,
   "metadata": {
    "colab": {},
    "colab_type": "code",
    "id": "tQETK3_sv-Y8"
   },
   "outputs": [],
   "source": [
    "import pandas as pd\n",
    "a = pd.DataFrame(space_objects).values\n",
    "\n",
    "object_id = a[:, 0]\n",
    "x0 = a[:, 6]\n",
    "y0 = a[:, 7]\n",
    "z0 = a[:, 8]\n",
    "\n",
    "vx0 = a[:, 3]\n",
    "vy0 = a[:, 4]\n",
    "vz0 = a[:, 5] \n",
    "\n",
    "x1 = np.zeros_like(x0)\n",
    "y1 = np.zeros_like(y0)\n",
    "z1 = np.zeros_like(z0)\n",
    "\n",
    "vx1 = np.zeros_like(vx1)\n",
    "vy1 = np.zeros_like(vy1)\n",
    "vz1 = np.zeros_like(vz1)"
   ]
  },
  {
   "cell_type": "code",
   "execution_count": 0,
   "metadata": {
    "colab": {},
    "colab_type": "code",
    "id": "j5Zi6OFzwUOP"
   },
   "outputs": [],
   "source": []
  },
  {
   "cell_type": "code",
   "execution_count": 0,
   "metadata": {
    "colab": {},
    "colab_type": "code",
    "id": "3DDpzSrdz4vd"
   },
   "outputs": [],
   "source": [
    "x0"
   ]
  },
  {
   "cell_type": "code",
   "execution_count": 0,
   "metadata": {
    "colab": {},
    "colab_type": "code",
    "id": "u6k53dVxxsc4"
   },
   "outputs": [],
   "source": [
    "x1"
   ]
  },
  {
   "cell_type": "code",
   "execution_count": 277,
   "metadata": {
    "colab": {
     "base_uri": "https://localhost:8080/",
     "height": 745
    },
    "colab_type": "code",
    "id": "GV-GsQ1A11tY",
    "outputId": "a1b6e864-2725-4320-b82a-96da0792505b"
   },
   "outputs": [
    {
     "name": "stderr",
     "output_type": "stream",
     "text": [
      "ERROR:root:An unexpected error occurred while tokenizing input\n",
      "The following traceback may be corrupted or invalid\n",
      "The error message is: ('EOF in multi-line string', (1, 0))\n",
      "\n"
     ]
    },
    {
     "ename": "CompileError",
     "evalue": "ignored",
     "output_type": "error",
     "traceback": [
      "\u001b[0;31m---------------------------------------------------------------------------\u001b[0m",
      "\u001b[0;31mCompileError\u001b[0m                              Traceback (most recent call last)",
      "\u001b[0;32m<ipython-input-277-819c42175fcd>\u001b[0m in \u001b[0;36m<module>\u001b[0;34m()\u001b[0m\n\u001b[1;32m      6\u001b[0m   \u001b[0mdest\u001b[0m\u001b[0;34m[\u001b[0m\u001b[0mi\u001b[0m\u001b[0;34m]\u001b[0m \u001b[0;34m=\u001b[0m \u001b[0ma\u001b[0m\u001b[0;34m[\u001b[0m\u001b[0mi\u001b[0m\u001b[0;34m]\u001b[0m\u001b[0;34m;\u001b[0m\u001b[0;34m\u001b[0m\u001b[0;34m\u001b[0m\u001b[0m\n\u001b[1;32m      7\u001b[0m }\n\u001b[0;32m----> 8\u001b[0;31m \"\"\")\n\u001b[0m",
      "\u001b[0;32m/usr/local/lib/python3.6/dist-packages/pycuda/compiler.py\u001b[0m in \u001b[0;36m__init__\u001b[0;34m(self, source, nvcc, options, keep, no_extern_c, arch, code, cache_dir, include_dirs)\u001b[0m\n\u001b[1;32m    289\u001b[0m \u001b[0;34m\u001b[0m\u001b[0m\n\u001b[1;32m    290\u001b[0m         cubin = compile(source, nvcc, options, keep, no_extern_c,\n\u001b[0;32m--> 291\u001b[0;31m                 arch, code, cache_dir, include_dirs)\n\u001b[0m\u001b[1;32m    292\u001b[0m \u001b[0;34m\u001b[0m\u001b[0m\n\u001b[1;32m    293\u001b[0m         \u001b[0;32mfrom\u001b[0m \u001b[0mpycuda\u001b[0m\u001b[0;34m.\u001b[0m\u001b[0mdriver\u001b[0m \u001b[0;32mimport\u001b[0m \u001b[0mmodule_from_buffer\u001b[0m\u001b[0;34m\u001b[0m\u001b[0;34m\u001b[0m\u001b[0m\n",
      "\u001b[0;32m/usr/local/lib/python3.6/dist-packages/pycuda/compiler.py\u001b[0m in \u001b[0;36mcompile\u001b[0;34m(source, nvcc, options, keep, no_extern_c, arch, code, cache_dir, include_dirs, target)\u001b[0m\n\u001b[1;32m    252\u001b[0m         \u001b[0moptions\u001b[0m\u001b[0;34m.\u001b[0m\u001b[0mappend\u001b[0m\u001b[0;34m(\u001b[0m\u001b[0;34m\"-I\"\u001b[0m\u001b[0;34m+\u001b[0m\u001b[0mi\u001b[0m\u001b[0;34m)\u001b[0m\u001b[0;34m\u001b[0m\u001b[0;34m\u001b[0m\u001b[0m\n\u001b[1;32m    253\u001b[0m \u001b[0;34m\u001b[0m\u001b[0m\n\u001b[0;32m--> 254\u001b[0;31m     \u001b[0;32mreturn\u001b[0m \u001b[0mcompile_plain\u001b[0m\u001b[0;34m(\u001b[0m\u001b[0msource\u001b[0m\u001b[0;34m,\u001b[0m \u001b[0moptions\u001b[0m\u001b[0;34m,\u001b[0m \u001b[0mkeep\u001b[0m\u001b[0;34m,\u001b[0m \u001b[0mnvcc\u001b[0m\u001b[0;34m,\u001b[0m \u001b[0mcache_dir\u001b[0m\u001b[0;34m,\u001b[0m \u001b[0mtarget\u001b[0m\u001b[0;34m)\u001b[0m\u001b[0;34m\u001b[0m\u001b[0;34m\u001b[0m\u001b[0m\n\u001b[0m\u001b[1;32m    255\u001b[0m \u001b[0;34m\u001b[0m\u001b[0m\n\u001b[1;32m    256\u001b[0m \u001b[0;34m\u001b[0m\u001b[0m\n",
      "\u001b[0;32m/usr/local/lib/python3.6/dist-packages/pycuda/compiler.py\u001b[0m in \u001b[0;36mcompile_plain\u001b[0;34m(source, options, keep, nvcc, cache_dir, target)\u001b[0m\n\u001b[1;32m    135\u001b[0m         raise CompileError(\"nvcc compilation of %s failed\" % cu_file_path,\n\u001b[1;32m    136\u001b[0m                 \u001b[0mcmdline\u001b[0m\u001b[0;34m,\u001b[0m \u001b[0mstdout\u001b[0m\u001b[0;34m=\u001b[0m\u001b[0mstdout\u001b[0m\u001b[0;34m.\u001b[0m\u001b[0mdecode\u001b[0m\u001b[0;34m(\u001b[0m\u001b[0;34m\"utf-8\"\u001b[0m\u001b[0;34m,\u001b[0m \u001b[0;34m\"replace\"\u001b[0m\u001b[0;34m)\u001b[0m\u001b[0;34m,\u001b[0m\u001b[0;34m\u001b[0m\u001b[0;34m\u001b[0m\u001b[0m\n\u001b[0;32m--> 137\u001b[0;31m                 stderr=stderr.decode(\"utf-8\", \"replace\"))\n\u001b[0m\u001b[1;32m    138\u001b[0m \u001b[0;34m\u001b[0m\u001b[0m\n\u001b[1;32m    139\u001b[0m     \u001b[0;32mif\u001b[0m \u001b[0mstdout\u001b[0m \u001b[0;32mor\u001b[0m \u001b[0mstderr\u001b[0m\u001b[0;34m:\u001b[0m\u001b[0;34m\u001b[0m\u001b[0;34m\u001b[0m\u001b[0m\n",
      "\u001b[0;31mCompileError\u001b[0m: nvcc compilation of /tmp/tmplocso1f5/kernel.cu failed\n[command: nvcc --cubin -arch sm_37 -I/usr/local/lib/python3.6/dist-packages/pycuda/cuda kernel.cu]\n[stderr:\nkernel.cu(6): error: argument of type \"float\" is incompatible with parameter of type \"const char *\"\n\n1 error detected in the compilation of \"/tmp/tmpxft_000006d3_00000000-6_kernel.cpp1.ii\".\n]"
     ]
    }
   ],
   "source": [
    "mod = SourceModule(\"\"\"\n",
    "__global__ void rk4_step_cuda(float *a, float *dest)\n",
    "{\n",
    "  const int i = threadIdx.x;\n",
    "  dest[i] = a[i];\n",
    "}\n",
    "\"\"\")\n"
   ]
  },
  {
   "cell_type": "code",
   "execution_count": 0,
   "metadata": {
    "colab": {},
    "colab_type": "code",
    "id": "L6KoUNWg13j0"
   },
   "outputs": [],
   "source": [
    "rk4_step_cuda = mod.get_function(\"rk4_step_cuda\")"
   ]
  },
  {
   "cell_type": "markdown",
   "metadata": {
    "colab_type": "text",
    "id": "hSrhUeMNxtjN"
   },
   "source": [
    "```loat time, \n",
    "              float x0, float y0, float z0, \n",
    "              float vx0, float vy0, float vz0, float timestep,\n",
    "              float &x_step, float &y_step, float &z_step, \n",
    "              float &vx_step, float &vy_step, float &vz_step```"
   ]
  },
  {
   "cell_type": "code",
   "execution_count": 270,
   "metadata": {
    "colab": {
     "base_uri": "https://localhost:8080/",
     "height": 34
    },
    "colab_type": "code",
    "id": "IcxZ82oHxtQ9",
    "outputId": "9fc52098-c5fc-487c-95d6-60a3723c8151"
   },
   "outputs": [
    {
     "data": {
      "text/plain": [
       "(400,)"
      ]
     },
     "execution_count": 270,
     "metadata": {
      "tags": []
     },
     "output_type": "execute_result"
    }
   ],
   "source": [
    " np.random.randn(400).astype(np.float32).shape"
   ]
  },
  {
   "cell_type": "code",
   "execution_count": 0,
   "metadata": {
    "colab": {},
    "colab_type": "code",
    "id": "y62k9VmhxdQF"
   },
   "outputs": [],
   "source": [
    "import pycuda.driver as drv\n",
    "rk4_step_cuda(drv.In(x0),  drv.Out(x1),\n",
    "              block=(2,1,1))\n"
   ]
  },
  {
   "cell_type": "code",
   "execution_count": 275,
   "metadata": {
    "colab": {
     "base_uri": "https://localhost:8080/",
     "height": 34
    },
    "colab_type": "code",
    "id": "7-rHvKDUz14K",
    "outputId": "37bfa6b0-f0f8-4771-9f6d-4a90ee313897"
   },
   "outputs": [
    {
     "data": {
      "text/plain": [
       "array([25217.42436295, 32607.46734878])"
      ]
     },
     "execution_count": 275,
     "metadata": {
      "tags": []
     },
     "output_type": "execute_result"
    }
   ],
   "source": [
    "x0"
   ]
  },
  {
   "cell_type": "code",
   "execution_count": 273,
   "metadata": {
    "colab": {
     "base_uri": "https://localhost:8080/",
     "height": 34
    },
    "colab_type": "code",
    "id": "PbHbSC4Hz11Q",
    "outputId": "1a5cb776-dc75-41e4-a3d3-ff7858572ff3"
   },
   "outputs": [
    {
     "data": {
      "text/plain": [
       "array([3.37882969e-315, 0.00000000e+000])"
      ]
     },
     "execution_count": 273,
     "metadata": {
      "tags": []
     },
     "output_type": "execute_result"
    }
   ],
   "source": [
    "x1"
   ]
  },
  {
   "cell_type": "code",
   "execution_count": 0,
   "metadata": {
    "colab": {},
    "colab_type": "code",
    "id": "Ph38Rkci6JyW"
   },
   "outputs": [],
   "source": []
  },
  {
   "cell_type": "code",
   "execution_count": 0,
   "metadata": {
    "colab": {},
    "colab_type": "code",
    "id": "XBGw0RaB6JvW"
   },
   "outputs": [],
   "source": []
  },
  {
   "cell_type": "code",
   "execution_count": 0,
   "metadata": {
    "colab": {},
    "colab_type": "code",
    "id": "UO5Uftem6Jr_"
   },
   "outputs": [],
   "source": [
    "import pycuda.autoinit\n",
    "import pycuda.driver as drv\n",
    "import numpy\n",
    "from pycuda.compiler import SourceModule\n",
    "\n",
    "\n",
    "mod = SourceModule(\"\"\"\n",
    "__global__ void sum_ab(float *c, float *a, float *b)\n",
    "{\n",
    "  const int i = threadIdx.x + blockDim.x * blockIdx.x;\n",
    "  c[i] = a[i] + b[i];\n",
    "}\n",
    "\"\"\")\n",
    "\n",
    "\n",
    "sum_ab = mod.get_function(\"sum_ab\")\n",
    "\n",
    "N = 5\n",
    "\n",
    "a = np.array(range(N)).astype(np.float32)\n",
    "b = np.array(range(N)).astype(np.float32)\n",
    "c = np.zeros_like(a)\n"
   ]
  },
  {
   "cell_type": "markdown",
   "metadata": {
    "colab_type": "text",
    "id": "CsAQzJko-Nxo"
   },
   "source": []
  },
  {
   "cell_type": "code",
   "execution_count": 0,
   "metadata": {
    "colab": {},
    "colab_type": "code",
    "id": "maLCeRHW6Joi"
   },
   "outputs": [],
   "source": [
    "block_size = N if N < 32  else 32\n",
    "block_dim = (block_size, 1, 1)\n",
    "grid_dim = (N//block_size,1)"
   ]
  },
  {
   "cell_type": "code",
   "execution_count": 0,
   "metadata": {
    "colab": {},
    "colab_type": "code",
    "id": "30oVa8hP6Jk-"
   },
   "outputs": [],
   "source": [
    "sum_ab(drv.Out(c), drv.In(a), drv.In(b), block = (32,1,1), grid = grid_dim)"
   ]
  },
  {
   "cell_type": "code",
   "execution_count": 80,
   "metadata": {
    "colab": {
     "base_uri": "https://localhost:8080/",
     "height": 34
    },
    "colab_type": "code",
    "id": "P1ENn7No6JhQ",
    "outputId": "1e11f784-71cc-43fc-f2f5-09ddab16c3f2"
   },
   "outputs": [
    {
     "data": {
      "text/plain": [
       "0.0"
      ]
     },
     "execution_count": 80,
     "metadata": {
      "tags": []
     },
     "output_type": "execute_result"
    }
   ],
   "source": [
    "(a + b - c).sum()"
   ]
  },
  {
   "cell_type": "code",
   "execution_count": 0,
   "metadata": {
    "colab": {},
    "colab_type": "code",
    "id": "-WXLjJRpD0u8"
   },
   "outputs": [],
   "source": [
    "__device__\n",
    "void get_accels(float x0, float y0, float z0, \n",
    "                float vx0, float vy0, float vz0,\n",
    "                float &ax1, float &ay1, float &az1) {\n",
    "    float G = 6.67408E-11;\n",
    "    float M = 5.972E24;\n",
    "    float radius =  sqrt(pow(x0,2) + pow(y0,2) + pow(z0,2));\n",
    "    \n",
    "    ax1 = - ((G * M) / radius) * x0;\n",
    "    ay1 = - ((G * M) / radius) * y0;\n",
    "    az1 = - ((G * M) / radius) * z0;\n",
    "}"
   ]
  },
  {
   "cell_type": "markdown",
   "metadata": {
    "colab_type": "text",
    "id": "PfVCSx4XD8Ap"
   },
   "source": []
  },
  {
   "cell_type": "code",
   "execution_count": 0,
   "metadata": {
    "colab": {},
    "colab_type": "code",
    "id": "mVqy8CcZD8nL"
   },
   "outputs": [],
   "source": [
    "import pycuda.autoinit\n",
    "import pycuda.driver as drv\n",
    "import numpy\n",
    "from pycuda.compiler import SourceModule\n",
    "\n",
    "\n",
    "mod = SourceModule(\"\"\"\n",
    "\n",
    "__device__\n",
    "void get_accels(float x0, float y0, float z0, \n",
    "                float vx0, float vy0, float vz0,\n",
    "                float &ax1, float &ay1, float &az1) {\n",
    "    float G = 6.67408E-11;\n",
    "    float M = 5.972E24;\n",
    "    float radius =  sqrt(pow(x0,2) + pow(y0,2) + pow(z0,2));\n",
    "    \n",
    "    ax1 = - ((G * M) / radius) * x0;\n",
    "    ay1 = - ((G * M) / radius) * y0;\n",
    "    az1 = - ((G * M) / radius) * z0;\n",
    "}\n",
    "\n",
    "\n",
    "__device__\n",
    "void rk4_step(float x0, float y0, float z0, \n",
    "              float vx0, float vy0, float vz0, float timestep,\n",
    "              float &x_step, float &y_step, float &z_step, \n",
    "              float &vx_step, float &vy_step, float &vz_step) {\n",
    "\n",
    "\n",
    "    const float dt = timestep * 2.0;\n",
    "    const float dt2 = timestep;   // half of timestep\n",
    "    \n",
    "    \n",
    "    float ax0, ay0, az0;\n",
    "    get_accels(x0, y0, z0, vx0, vy0, vz0, ax0, ay0, az0);\n",
    "\n",
    "    // RK4 Calc k1, l1 vars\n",
    "    float kx1 = ax0 * dt2;\n",
    "    float ky1 = ay0 * dt2;\n",
    "    float kz1 = az0 * dt2;\n",
    "\n",
    "    float lx1 = vx0 * dt2;\n",
    "    float ly1 = vy0 * dt2;\n",
    "    float lz1 = vz0 * dt2;\n",
    "\n",
    "    float ax1, ay1, az1;\n",
    "    get_accels(x0 + lx1, y0 + ly1, z0 + lz1, \n",
    "               vx0 + kx1, vy0 + ky1, vz0 + kz1, \n",
    "               ax1, ay1, az1);\n",
    "\n",
    "    // RK4 Calc k2, l2  vars\n",
    "    float kx2 = ax1 * dt2;\n",
    "    float ky2 = ay1 * dt2;\n",
    "    float kz2 = az1 * dt2;\n",
    "\n",
    "    float lx2 = (vx0 + kx1) * dt2;\n",
    "    float ly2 = (vy0 + ky1) * dt2;\n",
    "    float lz2 = (vz0 + kz1) * dt2;\n",
    "\n",
    "    float ax2, ay2, az2;\n",
    "    get_accels(x0 + lx2, y0 + ly2, z0 + lz2, \n",
    "               vx0 + kx2, vy0 + ky2, vz0 + kz2, \n",
    "               ax2, ay2, az2);\n",
    "\n",
    "    // RK4 Calc k3, l3  vars\n",
    "    float kx3 = ax2 * dt;\n",
    "    float ky3 = ay2 * dt;\n",
    "    float kz3 = az2 * dt;\n",
    "\n",
    "    float lx3 = (vx0 + kx2) * dt;\n",
    "    float ly3 = (vy0 + ky2) * dt;\n",
    "    float lz3 = (vz0 + kz2) * dt;\n",
    "\n",
    "    float ax3, ay3, az3;\n",
    "    get_accels(x0 + lx3, y0 + ly3, z0 + lz3, \n",
    "               vx0 + kx3, vy0 + ky3, vz0 + kz3,\n",
    "               ax3, ay3, az3);\n",
    "\n",
    "    // RK4 Calc k3, l3  vars\n",
    "    float kx4 = ax3 * dt2;\n",
    "    float ky4 = ay3 * dt2;\n",
    "    float kz4 = az3 * dt2;\n",
    "\n",
    "    float lx4 = (vx0 + kx3) * dt2;\n",
    "    float ly4 = (vy0 + ky3) * dt2;\n",
    "    float lz4 = (vz0 + kz3) * dt2;\n",
    "    \n",
    "    x_step = x0 + (lx1 + 2.0 * lx2 + lx3 + lx4) / 3.0;\n",
    "    y_step = y0 + (ly1 + 2.0 * ly2 + ly3 + ly4) / 3.0;\n",
    "    z_step = z0 + (lz1 + 2.0 * lz2 + lz3 + lz4) / 3.0;\n",
    "\n",
    "    vx_step = vx0 + (kx1 + 2.0 * kx2 + kx3 + kx4) / 3.0;\n",
    "    vy_step = vy0 + (ky1 + 2.0 * ky2 + ky3 + ky4) / 3.0;\n",
    "    vz_step = vz0 + (kz1 + 2.0 * kz2 + kz3 + kz4) / 3.0;\n",
    "    \n",
    "    printf(\"Success\");\n",
    "}\n",
    "\n",
    "\n",
    "__global__ void rk4(float *x0, float *y0, float *z0,\n",
    "                    float *vx0, float *vy0, float *vz0,\n",
    "                    float *x_n, float *y_n, float *z_n,\n",
    "                    float *vx_n, float *vy_n, float *vz_n, float *timestep) {\n",
    "                    \n",
    "  const int i = threadIdx.x + blockDim.x * blockIdx.x;\n",
    "  \n",
    "  rk4_step(x0[i], y0[i], z0[i], vx0[i], vy0[i], vz0[i], timestep[i], \n",
    "           x_n[i], y_n[i], z_n[i], vx_n[i], vy_n[i], vz_n[i]);\n",
    "  \n",
    "}\n",
    "\n",
    "\"\"\")\n"
   ]
  },
  {
   "cell_type": "code",
   "execution_count": 0,
   "metadata": {
    "colab": {},
    "colab_type": "code",
    "id": "otY_77mjFx6g"
   },
   "outputs": [],
   "source": [
    "rk4 = mod.get_function(\"rk4\")\n",
    "\n",
    "N = 1\n",
    "\n",
    "space_objects = generate_object_states(N)\n",
    "\n",
    "    \n",
    "import pandas as pd\n",
    "a = pd.DataFrame(space_objects).values\n",
    "\n",
    "object_id = a[:, 0]\n",
    "x0 = a[:, 6].astype(np.float32)\n",
    "y0 = a[:, 7].astype(np.float32)\n",
    "z0 = a[:, 8].astype(np.float32)\n",
    "\n",
    "vx0 = a[:, 3].astype(np.float32)\n",
    "vy0 = a[:, 4].astype(np.float32)\n",
    "vz0 = a[:, 5].astype(np.float32)\n",
    "\n"
   ]
  },
  {
   "cell_type": "code",
   "execution_count": 0,
   "metadata": {
    "colab": {},
    "colab_type": "code",
    "id": "xxgjOAvnFx6i"
   },
   "outputs": [],
   "source": [
    "x1 = np.zeros_like(x0).astype(np.float32)\n",
    "y1 = np.zeros_like(y0).astype(np.float32)\n",
    "z1 = np.zeros_like(z0).astype(np.float32)\n",
    "\n",
    "vx1 = np.zeros_like(vx0).astype(np.float32)\n",
    "vy1 = np.zeros_like(vy0).astype(np.float32)\n",
    "vz1 = np.zeros_like(vz0).astype(np.float32)"
   ]
  },
  {
   "cell_type": "markdown",
   "metadata": {
    "colab_type": "text",
    "id": "kS2DUGIuD8nN"
   },
   "source": []
  },
  {
   "cell_type": "code",
   "execution_count": 0,
   "metadata": {
    "colab": {},
    "colab_type": "code",
    "id": "Hz-dOLw0D8nN"
   },
   "outputs": [],
   "source": [
    "block_size = N if N < 32  else 32\n",
    "block_dim = (block_size, 1, 1)\n",
    "grid_dim = (N//block_size,1)\n",
    "\n"
   ]
  },
  {
   "cell_type": "code",
   "execution_count": 0,
   "metadata": {
    "colab": {},
    "colab_type": "code",
    "id": "kQMWFvGcD8nP"
   },
   "outputs": [],
   "source": [
    "timestep = np.float32(0.001)\n",
    "\n",
    "rk4(drv.In(x0), drv.In(y0), drv.In(z0), \n",
    "    drv.In(vx0), drv.In(vy0), drv.In(vz0), \n",
    "    drv.Out(x1), drv.Out(y1), drv.Out(z1),\n",
    "    drv.Out(vx1), drv.Out(vy1), drv.Out(vz1), drv.In(timestep),\n",
    "    block = block_dim, grid = grid_dim)"
   ]
  },
  {
   "cell_type": "code",
   "execution_count": 276,
   "metadata": {
    "colab": {
     "base_uri": "https://localhost:8080/",
     "height": 34
    },
    "colab_type": "code",
    "id": "E9OHCtVwD8nQ",
    "outputId": "e78b8372-0c5b-480d-adc7-8cd5ec89bb0d"
   },
   "outputs": [
    {
     "data": {
      "text/plain": [
       "array([1624.3026], dtype=float32)"
      ]
     },
     "execution_count": 276,
     "metadata": {
      "tags": []
     },
     "output_type": "execute_result"
    }
   ],
   "source": [
    "x0"
   ]
  },
  {
   "cell_type": "code",
   "execution_count": 277,
   "metadata": {
    "colab": {
     "base_uri": "https://localhost:8080/",
     "height": 34
    },
    "colab_type": "code",
    "id": "qm_Hf_KxD08x",
    "outputId": "3c8022fa-c207-42b6-9133-43a609a32c6b"
   },
   "outputs": [
    {
     "data": {
      "text/plain": [
       "array([-422981.], dtype=float32)"
      ]
     },
     "execution_count": 277,
     "metadata": {
      "tags": []
     },
     "output_type": "execute_result"
    }
   ],
   "source": [
    "x1"
   ]
  },
  {
   "cell_type": "code",
   "execution_count": 278,
   "metadata": {
    "colab": {
     "base_uri": "https://localhost:8080/",
     "height": 2131
    },
    "colab_type": "code",
    "id": "UWx-G43UD052",
    "outputId": "2d2362ba-e2d4-45cd-862e-fd90f7c4ce92"
   },
   "outputs": [
    {
     "name": "stderr",
     "output_type": "stream",
     "text": [
      "\n",
      "\n",
      "  0%|          | 0/1000 [00:00<?, ?it/s]\u001b[A\u001b[A\n",
      "\n",
      "  2%|▏         | 20/1000 [00:00<00:05, 194.99it/s]\u001b[A\u001b[A"
     ]
    },
    {
     "name": "stdout",
     "output_type": "stream",
     "text": [
      "{'time': 0.0, 'object_id': 0, 'x': 1624.3025637114204, 'y': 19414.362301833928, 'z': -1016299.7893916082, 'vx': -3.9537744896733784e-05, 'vy': -0.0006377948739100248, 'vz': -1.224700827151537e-05, 'size': 0.45089902127026593}\n"
     ]
    },
    {
     "name": "stderr",
     "output_type": "stream",
     "text": [
      "\n",
      "\n",
      "  4%|▍         | 44/1000 [00:00<00:04, 204.98it/s]\u001b[A\u001b[A\n",
      "\n",
      "  7%|▋         | 70/1000 [00:00<00:04, 218.33it/s]\u001b[A\u001b[A\n",
      "\n",
      "  9%|▉         | 93/1000 [00:00<00:04, 219.32it/s]\u001b[A\u001b[A\n",
      "\n",
      " 12%|█▏        | 118/1000 [00:00<00:03, 227.08it/s]\u001b[A\u001b[A\n",
      "\n",
      " 14%|█▍        | 142/1000 [00:00<00:03, 229.12it/s]\u001b[A\u001b[A\n",
      "\n",
      " 17%|█▋        | 167/1000 [00:00<00:03, 234.68it/s]\u001b[A\u001b[A\n",
      "\n",
      " 19%|█▉        | 192/1000 [00:00<00:03, 238.20it/s]\u001b[A\u001b[A\n",
      "\n",
      " 22%|██▏       | 217/1000 [00:00<00:03, 241.01it/s]\u001b[A\u001b[A\n",
      "\n",
      " 24%|██▍       | 242/1000 [00:01<00:03, 243.22it/s]\u001b[A\u001b[A\n",
      "\n",
      " 27%|██▋       | 268/1000 [00:01<00:02, 245.67it/s]\u001b[A\u001b[A\n",
      "\n",
      " 29%|██▉       | 293/1000 [00:01<00:02, 246.73it/s]\u001b[A\u001b[A\n",
      "\n",
      " 32%|███▏      | 318/1000 [00:01<00:02, 247.45it/s]\u001b[A\u001b[A\n",
      "\n",
      " 34%|███▍      | 343/1000 [00:01<00:02, 241.43it/s]\u001b[A\u001b[A\n",
      "\n",
      " 37%|███▋      | 369/1000 [00:01<00:02, 245.00it/s]\u001b[A\u001b[A\n",
      "\n",
      " 40%|███▉      | 395/1000 [00:01<00:02, 248.50it/s]\u001b[A\u001b[A\n",
      "\n",
      " 42%|████▏     | 421/1000 [00:01<00:02, 251.53it/s]\u001b[A\u001b[A\n",
      "\n",
      " 45%|████▍     | 447/1000 [00:01<00:02, 249.41it/s]\u001b[A\u001b[A\n",
      "\n",
      " 47%|████▋     | 474/1000 [00:01<00:02, 252.79it/s]\u001b[A\u001b[A\n",
      "\n",
      " 50%|█████     | 500/1000 [00:02<00:01, 254.66it/s]\u001b[A\u001b[A\n",
      "\n",
      " 53%|█████▎    | 526/1000 [00:02<00:01, 255.65it/s]\u001b[A\u001b[A\n",
      "\n",
      " 55%|█████▌    | 552/1000 [00:02<00:01, 251.16it/s]\u001b[A\u001b[A\n",
      "\n",
      " 58%|█████▊    | 578/1000 [00:02<00:01, 249.58it/s]\u001b[A\u001b[A\n",
      "\n",
      " 60%|██████    | 603/1000 [00:02<00:01, 241.02it/s]\u001b[A\u001b[A\n",
      "\n",
      " 63%|██████▎   | 628/1000 [00:02<00:01, 242.87it/s]\u001b[A\u001b[A\n",
      "\n",
      " 65%|██████▌   | 653/1000 [00:02<00:01, 243.55it/s]\u001b[A\u001b[A\n",
      "\n",
      " 68%|██████▊   | 679/1000 [00:02<00:01, 245.80it/s]\u001b[A\u001b[A\n",
      "\n",
      " 70%|███████   | 704/1000 [00:02<00:01, 246.76it/s]\u001b[A\u001b[A\n",
      "\n",
      " 73%|███████▎  | 729/1000 [00:02<00:01, 246.58it/s]\u001b[A\u001b[A\n",
      "\n",
      " 75%|███████▌  | 754/1000 [00:03<00:00, 247.45it/s]\u001b[A\u001b[A\n",
      "\n",
      " 78%|███████▊  | 779/1000 [00:03<00:00, 247.37it/s]\u001b[A\u001b[A\n",
      "\n",
      " 80%|████████  | 805/1000 [00:03<00:00, 249.79it/s]\u001b[A\u001b[A\n",
      "\n",
      " 83%|████████▎ | 830/1000 [00:03<00:00, 249.28it/s]\u001b[A\u001b[A\n",
      "\n",
      " 86%|████████▌ | 855/1000 [00:03<00:00, 243.65it/s]\u001b[A\u001b[A\n",
      "\n",
      " 88%|████████▊ | 880/1000 [00:03<00:00, 245.33it/s]\u001b[A\u001b[A\n",
      "\n",
      " 91%|█████████ | 907/1000 [00:03<00:00, 250.26it/s]\u001b[A\u001b[A\n",
      "\n",
      " 93%|█████████▎| 933/1000 [00:03<00:00, 250.56it/s]\u001b[A\u001b[A\n",
      "\n",
      " 96%|█████████▌| 960/1000 [00:03<00:00, 253.68it/s]\u001b[A\u001b[A\n",
      "\n",
      " 99%|█████████▊| 986/1000 [00:04<00:00, 254.58it/s]\u001b[A\u001b[A\n",
      "\n",
      "100%|██████████| 1000/1000 [00:04<00:00, 246.22it/s]\u001b[A\u001b[A"
     ]
    },
    {
     "data": {
      "image/png": "[encoded data removed]",
      "text/plain": [
       "<Figure size 864x864 with 1 Axes>"
      ]
     },
     "metadata": {
      "tags": []
     },
     "output_type": "display_data"
    }
   ],
   "source": [
    "import numpy as np\n",
    "from mpl_toolkits.mplot3d import Axes3D\n",
    "import matplotlib.pyplot as plt\n",
    "from IPython.display import clear_output\n",
    "\n",
    "%matplotlib inline\n",
    "\n",
    "from tqdm import trange\n",
    "simulation_steps = 1000\n",
    "time_step = np.float32(10000)  # s\n",
    "simulation_history = []\n",
    "\n",
    "plt.figure(figsize=(12,12))\n",
    "ax = plt.axes(projection='3d')\n",
    "\n",
    "for space_object in space_objects[:1]:\n",
    "    print(space_object)\n",
    "    time0 = space_object['time']\n",
    "    x0, y0, z0, vx0, vy0, vz0 = [space_object[var] \\\n",
    "                                 for var in ('x', 'y', 'z', 'vx', 'vy', 'vz')]\n",
    "    # vx0, vy0, vz0 = 0,0,0\n",
    "    objects_steps = []\n",
    "    for simulation_step in trange(simulation_steps):\n",
    "        rk4(drv.In(x0), drv.In(y0), drv.In(z0), \n",
    "            drv.In(vx0), drv.In(vy0), drv.In(vz0), \n",
    "            drv.Out(x1), drv.Out(y1), drv.Out(z1),\n",
    "            drv.Out(vx1), drv.Out(vy1), drv.Out(vz1), drv.In(time_step), \n",
    "            block = block_dim, grid = grid_dim)\n",
    "\n",
    "        object_step = dict()\n",
    "        \n",
    "        object_step['x'] = x1\n",
    "        object_step['y'] = y1\n",
    "        object_step['z'] = z1\n",
    "        object_step['vx'] = vx1\n",
    "        object_step['vy'] = vy1\n",
    "        object_step['vz'] = vz1\n",
    "        objects_steps.append(object_step)\n",
    "        \n",
    "        x0, y0, z0, vx0, vy0, vz0 =  x1, y1, z1, vx1, vy1, vz1\n",
    "        ax.scatter3D( x1, y1, z1)\n",
    "\n",
    "    simulation_history.append(objects_steps)"
   ]
  },
  {
   "cell_type": "code",
   "execution_count": 0,
   "metadata": {
    "colab": {},
    "colab_type": "code",
    "id": "_hrOYw7ZD022"
   },
   "outputs": [],
   "source": []
  },
  {
   "cell_type": "code",
   "execution_count": 242,
   "metadata": {
    "colab": {
     "base_uri": "https://localhost:8080/",
     "height": 1349
    },
    "colab_type": "code",
    "id": "c2QckZ6ID0z1",
    "outputId": "26eb40d0-e38a-4703-a9f0-609d182ecbf9"
   },
   "outputs": [
    {
     "data": {
      "image/png": "[encoded data removed]",
      "text/plain": [
       "<Figure size 864x864 with 1 Axes>"
      ]
     },
     "metadata": {
      "tags": []
     },
     "output_type": "display_data"
    },
    {
     "data": {
      "image/png": "[encoded data removed]",
      "text/plain": [
       "<Figure size 864x864 with 1 Axes>"
      ]
     },
     "metadata": {
      "tags": []
     },
     "output_type": "display_data"
    }
   ],
   "source": [
    "\n",
    "\n",
    "# To prevent automatic figure display when execution of the cell ends\n",
    "%config InlineBackend.close_figures=False \n",
    "\n",
    "\n",
    "plt.figure(figsize=(12,12))\n",
    "ax = plt.axes(projection='3d')\n",
    "\n",
    "for object_step in objects_steps:\n",
    "    ax.scatter3D(object_step['x'], object_step['y'], object_step['z'])\n",
    "plt.show()"
   ]
  },
  {
   "cell_type": "code",
   "execution_count": 0,
   "metadata": {
    "colab": {},
    "colab_type": "code",
    "id": "0gEGYlYhz1yK"
   },
   "outputs": [],
   "source": []
  },
  {
   "cell_type": "markdown",
   "metadata": {
    "colab_type": "text",
    "id": "8sK4A0LDDztS"
   },
   "source": []
  },
  {
   "cell_type": "code",
   "execution_count": 123,
   "metadata": {
    "colab": {
     "base_uri": "https://localhost:8080/",
     "height": 1071
    },
    "colab_type": "code",
    "id": "AS8xAnUGuky4",
    "outputId": "f4b2e85f-e587-492e-996b-c8fe79b1593f"
   },
   "outputs": [
    {
     "name": "stderr",
     "output_type": "stream",
     "text": [
      "\r",
      "  0%|          | 0/10000 [00:00<?, ?it/s]"
     ]
    },
    {
     "name": "stdout",
     "output_type": "stream",
     "text": [
      "{'time': 0.0, 'object_id': 0, 'x': 25217.424362950926, 'y': -496457.41386781185, 'z': 650671.2495281389, 'vx': 0.0014348032818816137, 'vy': -0.00088002800475806, 'vz': -0.0007270622299984097, 'size': 5.933089989621293}\n"
     ]
    },
    {
     "name": "stderr",
     "output_type": "stream",
     "text": [
      "\n"
     ]
    },
    {
     "ename": "ValueError",
     "evalue": "ignored",
     "output_type": "error",
     "traceback": [
      "\u001b[0;31m---------------------------------------------------------------------------\u001b[0m",
      "\u001b[0;31mValueError\u001b[0m                                Traceback (most recent call last)",
      "\u001b[0;32m<ipython-input-123-91bbe5a2cd61>\u001b[0m in \u001b[0;36m<module>\u001b[0;34m()\u001b[0m\n\u001b[1;32m     18\u001b[0m         x1, y1, z1, vx1, vy1, vz1 = rk4_step_cuda(time0+simulation_step*time_step, \n\u001b[1;32m     19\u001b[0m                                              \u001b[0mx0\u001b[0m\u001b[0;34m,\u001b[0m \u001b[0my0\u001b[0m\u001b[0;34m,\u001b[0m \u001b[0mz0\u001b[0m\u001b[0;34m,\u001b[0m \u001b[0mvx0\u001b[0m\u001b[0;34m,\u001b[0m \u001b[0mvy0\u001b[0m\u001b[0;34m,\u001b[0m \u001b[0mvz0\u001b[0m\u001b[0;34m,\u001b[0m\u001b[0;34m\u001b[0m\u001b[0;34m\u001b[0m\u001b[0m\n\u001b[0;32m---> 20\u001b[0;31m                                              timestep=time_step)\n\u001b[0m\u001b[1;32m     21\u001b[0m \u001b[0;34m\u001b[0m\u001b[0m\n\u001b[1;32m     22\u001b[0m \u001b[0;34m\u001b[0m\u001b[0m\n",
      "\u001b[0;32m/usr/local/lib/python3.6/dist-packages/pycuda/driver.py\u001b[0m in \u001b[0;36mfunction_call\u001b[0;34m(func, *args, **kwargs)\u001b[0m\n\u001b[1;32m    375\u001b[0m             raise ValueError(\n\u001b[1;32m    376\u001b[0m                     \u001b[0;34m\"extra keyword arguments: %s\"\u001b[0m\u001b[0;34m\u001b[0m\u001b[0;34m\u001b[0m\u001b[0m\n\u001b[0;32m--> 377\u001b[0;31m                     % (\",\".join(six.iterkeys(kwargs))))\n\u001b[0m\u001b[1;32m    378\u001b[0m \u001b[0;34m\u001b[0m\u001b[0m\n\u001b[1;32m    379\u001b[0m         \u001b[0;32mif\u001b[0m \u001b[0mblock\u001b[0m \u001b[0;32mis\u001b[0m \u001b[0;32mNone\u001b[0m\u001b[0;34m:\u001b[0m\u001b[0;34m\u001b[0m\u001b[0;34m\u001b[0m\u001b[0m\n",
      "\u001b[0;31mValueError\u001b[0m: extra keyword arguments: timestep"
     ]
    },
    {
     "data": {
      "image/png": "[encoded data removed]",
      "text/plain": [
       "<Figure size 864x864 with 1 Axes>"
      ]
     },
     "metadata": {
      "tags": []
     },
     "output_type": "display_data"
    }
   ],
   "source": [
    "from tqdm import trange\n",
    "simulation_steps = 10000\n",
    "time_step = 0.001  # s\n",
    "simulation_history = []\n",
    "\n",
    "plt.figure(figsize=(12,12))\n",
    "ax = plt.axes(projection='3d')\n",
    "\n",
    "for space_object in space_objects[:1]:\n",
    "    print(space_object)\n",
    "    time0 = space_object['time']\n",
    "    x0, y0, z0, vx0, vy0, vz0 = [space_object[var] \\\n",
    "                                 for var in ('x', 'y', 'z', 'vx', 'vy', 'vz')]\n",
    "    # vx0, vy0, vz0 = 0,0,0\n",
    "    objects_steps = []\n",
    "    for simulation_step in trange(simulation_steps):\n",
    "        Ek4_step_cuda(time0+simulation_step*time_step, \n",
    "                                 x0, y0, z0, vx0, vy0, vz0,\n",
    "                                                timestep=time_step,\n",
    "                                                x1, y1, z1, vx1, vy1, vz1)\n",
    "       \n",
    "       \n",
    "        object_step = dict()\n",
    "        \n",
    "        object_step['x'] = x1\n",
    "        object_step['y'] = y1\n",
    "        object_step['z'] = z1\n",
    "        object_step['vx'] = vx1\n",
    "        object_step['vy'] = vy1\n",
    "        object_step['vz'] = vz1\n",
    "        objects_steps.append(object_step)\n",
    "        \n",
    "        x0, y0, z0, vx0, vy0, vz0 =  x1, y1, z1, vx1, vy1, vz1\n",
    "        ax.scatter3D( x1, y1, z1)\n",
    "\n",
    "    simulation_history.append(objects_steps)"
   ]
  },
  {
   "cell_type": "code",
   "execution_count": 0,
   "metadata": {
    "colab": {},
    "colab_type": "code",
    "id": "NE0LT47bvPNa"
   },
   "outputs": [],
   "source": []
  },
  {
   "cell_type": "markdown",
   "metadata": {
    "colab_type": "text",
    "id": "_loaP9NC6HAU"
   },
   "source": []
  },
  {
   "cell_type": "code",
   "execution_count": 0,
   "metadata": {
    "colab": {},
    "colab_type": "code",
    "id": "bK1ZQ5QS6IAH"
   },
   "outputs": [],
   "source": []
  },
  {
   "cell_type": "code",
   "execution_count": 0,
   "metadata": {
    "colab": {},
    "colab_type": "code",
    "id": "2bO16BqO6IEy"
   },
   "outputs": [],
   "source": []
  },
  {
   "cell_type": "code",
   "execution_count": 0,
   "metadata": {
    "colab": {},
    "colab_type": "code",
    "id": "CucitCbv6IJ8"
   },
   "outputs": [],
   "source": []
  }
 ],
 "metadata": {
  "accelerator": "GPU",
  "colab": {
   "include_colab_link": true,
   "name": "1 - Debug processing.ipynb",
   "provenance": [],
   "version": "0.3.2"
  },
  "kernelspec": {
   "display_name": "Python 3",
   "language": "python",
   "name": "python3"
  },
  "language_info": {
   "codemirror_mode": {
    "name": "ipython",
    "version": 3
   },
   "file_extension": ".py",
   "mimetype": "text/x-python",
   "name": "python",
   "nbconvert_exporter": "python",
   "pygments_lexer": "ipython3",
   "version": "3.6.7"
  }
 },
 "nbformat": 4,
 "nbformat_minor": 1
}
