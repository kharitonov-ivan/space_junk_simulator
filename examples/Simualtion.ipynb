{
 "cells": [
  {
   "cell_type": "markdown",
   "metadata": {
    "colab_type": "text",
    "id": "cBTbyaaQV7tO"
   },
   "source": []
  },
  {
   "cell_type": "code",
   "execution_count": null,
   "metadata": {},
   "outputs": [],
   "source": []
  },
  {
   "cell_type": "code",
   "execution_count": null,
   "metadata": {},
   "outputs": [],
   "source": []
  },
  {
   "cell_type": "code",
   "execution_count": null,
   "metadata": {},
   "outputs": [],
   "source": []
  },
  {
   "cell_type": "code",
   "execution_count": null,
   "metadata": {},
   "outputs": [],
   "source": []
  },
  {
   "cell_type": "code",
   "execution_count": null,
   "metadata": {},
   "outputs": [],
   "source": []
  },
  {
   "cell_type": "code",
   "execution_count": null,
   "metadata": {},
   "outputs": [],
   "source": []
  },
  {
   "cell_type": "code",
   "execution_count": null,
   "metadata": {},
   "outputs": [],
   "source": []
  },
  {
   "cell_type": "code",
   "execution_count": null,
   "metadata": {},
   "outputs": [],
   "source": []
  },
  {
   "cell_type": "code",
   "execution_count": null,
   "metadata": {},
   "outputs": [],
   "source": []
  },
  {
   "cell_type": "code",
   "execution_count": null,
   "metadata": {},
   "outputs": [],
   "source": []
  },
  {
   "cell_type": "code",
   "execution_count": null,
   "metadata": {},
   "outputs": [],
   "source": []
  },
  {
   "cell_type": "code",
   "execution_count": null,
   "metadata": {},
   "outputs": [],
   "source": []
  },
  {
   "cell_type": "code",
   "execution_count": null,
   "metadata": {},
   "outputs": [],
   "source": []
  },
  {
   "cell_type": "code",
   "execution_count": null,
   "metadata": {},
   "outputs": [],
   "source": []
  },
  {
   "cell_type": "code",
   "execution_count": null,
   "metadata": {},
   "outputs": [],
   "source": []
  },
  {
   "cell_type": "code",
   "execution_count": null,
   "metadata": {},
   "outputs": [],
   "source": []
  },
  {
   "cell_type": "code",
   "execution_count": null,
   "metadata": {},
   "outputs": [],
   "source": []
  },
  {
   "cell_type": "code",
   "execution_count": 1,
   "metadata": {},
   "outputs": [
    {
     "data": {
      "text/html": [
       "<style>.container { width:100% !important; }</style>"
      ],
      "text/plain": [
       "<IPython.core.display.HTML object>"
      ]
     },
     "metadata": {},
     "output_type": "display_data"
    }
   ],
   "source": [
    "from IPython.core.display import display, HTML\n",
    "display(HTML(\"<style>.container { width:100% !important; }</style>\"))\n",
    "\n",
    "\n",
    "import csv\n",
    "import numpy as np\n",
    "import numpy as np"
   ]
  },
  {
   "cell_type": "code",
   "execution_count": 14,
   "metadata": {
    "colab": {
     "base_uri": "https://localhost:8080/",
     "height": 170
    },
    "colab_type": "code",
    "id": "RmZS04Dnk0Uo",
    "outputId": "591c2fa8-7b18-4452-b468-d87623f7f484",
    "scrolled": false
   },
   "outputs": [],
   "source": [
    "!python3 setup.py"
   ]
  },
  {
   "cell_type": "markdown",
   "metadata": {},
   "source": [
    "\n",
    "{'time': 0.0, 'object_id': 0, 'x': 25217.424362950926, 'y': -496457.41386781185, 'z': 650671.2495281389, 'vx': 0.0014348032818816137, 'vy': -0.00088002800475806, 'vz': -0.0007270622299984097, 'size': 5.933089989621293}"
   ]
  },
  {
   "cell_type": "code",
   "execution_count": 15,
   "metadata": {},
   "outputs": [
    {
     "name": "stdout",
     "output_type": "stream",
     "text": [
      "26784000\n"
     ]
    }
   ],
   "source": [
    "x0 = np.array([25217.424362950926], dtype = np.float64)\n",
    "y0 = np.array([-496457.41386781185], dtype = np.float64)\n",
    "z0 = np.array([ 650671.2495281389], dtype = np.float64)\n",
    "\n",
    "vx0 = np.array([0.0014348032818816137], dtype = np.float64)\n",
    "vy0 = np.array([-0.00088002800475806], dtype = np.float64)\n",
    "vz0 = np.array([-0.0007270622299984097], dtype = np.float64)\n",
    "\n",
    "month = 10*3600*24*31\n",
    "print(month)"
   ]
  },
  {
   "cell_type": "code",
   "execution_count": 16,
   "metadata": {
    "colab": {
     "base_uri": "https://localhost:8080/",
     "height": 402
    },
    "colab_type": "code",
    "id": "YT19bvz3j-Tx",
    "outputId": "f97ee687-d245-4879-f3bc-03c1602e218d"
   },
   "outputs": [
    {
     "name": "stdout",
     "output_type": "stream",
     "text": [
      "/Users/ivan_kharitonov/Yandex.Disk.localized/Code/YSDA/YSDA_4_Semester/ML_in_Engineering/sources/space_junk_simulator\n",
      "/Users/ivan_kharitonov/Yandex.Disk.localized/Code/YSDA/YSDA_4_Semester/ML_in_Engineering/sources/space_junk_simulator/src/python_package\n",
      "Ok!\n"
     ]
    }
   ],
   "source": [
    "from src.python_package.space_junk_simulator import space_simulator\n",
    "sim = space_simulator(gpu = False)"
   ]
  },
  {
   "cell_type": "code",
   "execution_count": null,
   "metadata": {},
   "outputs": [],
   "source": []
  },
  {
   "cell_type": "code",
   "execution_count": 17,
   "metadata": {},
   "outputs": [
    {
     "data": {
      "text/plain": [
       "(array([25217.42436295]),\n",
       " array([-496457.41386781]),\n",
       " array([650671.24952814]),\n",
       " array([0.0014348]),\n",
       " array([-0.00088003]),\n",
       " array([-0.00072706]))"
      ]
     },
     "execution_count": 17,
     "metadata": {},
     "output_type": "execute_result"
    }
   ],
   "source": [
    "x0, y0, z0, vx0, vy0, vz0"
   ]
  },
  {
   "cell_type": "code",
   "execution_count": 20,
   "metadata": {},
   "outputs": [],
   "source": [
    "x_res, y_res, z_res, vx_res, vy_res, vz_res = \\\n",
    "sim.run(x0, y0, z0, vx0, vy0, vz0, x0.size, vzsteps= int(10), timestep = float(1.0))"
   ]
  },
  {
   "cell_type": "code",
   "execution_count": 21,
   "metadata": {},
   "outputs": [
    {
     "data": {
      "text/plain": [
       "(array([4.43826465e+13]),\n",
       " array([-3.53602795e+13]),\n",
       " array([-1.59506541e+13]),\n",
       " array([6.36324039e+12]),\n",
       " array([-1.07238778e+13]),\n",
       " array([5.54378353e+12]))"
      ]
     },
     "execution_count": 21,
     "metadata": {},
     "output_type": "execute_result"
    }
   ],
   "source": [
    "x_res, y_res, z_res, vx_res, vy_res, vz_res"
   ]
  },
  {
   "cell_type": "code",
   "execution_count": 22,
   "metadata": {},
   "outputs": [],
   "source": [
    "x0, y0, z0, vx0, vy0, vz0 = x_res, y_res, z_res, vx_res, vy_res, vz_res"
   ]
  },
  {
   "cell_type": "code",
   "execution_count": 23,
   "metadata": {},
   "outputs": [
    {
     "name": "stderr",
     "output_type": "stream",
     "text": [
      "100%|██████████| 10/10 [00:04<00:00,  2.16it/s]\n"
     ]
    },
    {
     "data": {
      "image/png": "[encoded data removed]",
      "text/plain": [
       "<Figure size 864x864 with 1 Axes>"
      ]
     },
     "metadata": {
      "needs_background": "light"
     },
     "output_type": "display_data"
    }
   ],
   "source": [
    "import numpy as np\n",
    "from mpl_toolkits.mplot3d import Axes3D\n",
    "import matplotlib.pyplot as plt\n",
    "from IPython.display import clear_output\n",
    "\n",
    "%matplotlib inline\n",
    "\n",
    "from tqdm import trange\n",
    "simulation_steps = 10\n",
    "time_step = 10000  # s\n",
    "simulation_history = []\n",
    "\n",
    "plt.figure(figsize=(12,12))\n",
    "ax = plt.axes(projection='3d')\n",
    "\n",
    "# vx0, vy0, vz0 = 0,0,0\n",
    "objects_steps = []\n",
    "for simulation_step in trange(simulation_steps):\n",
    "\n",
    "    x_res, y_res, z_res, vx_res, vy_res, vz_res = \\\n",
    "    sim.run(x0, y0, z0, vx0, vy0, vz0, x0.size,vzsteps= int(10000), timestep = float(1.0))\n",
    "\n",
    "\n",
    "    x0, y0, z0, vx0, vy0, vz0 = x_res, y_res, z_res, vx_res, vy_res, vz_res\n",
    "    ax.scatter3D( x_res, y_res, z_res)\n",
    "\n",
    "simulation_history.append(objects_steps)"
   ]
  },
  {
   "cell_type": "code",
   "execution_count": null,
   "metadata": {},
   "outputs": [],
   "source": [
    "import numpy as np\n",
    "from mpl_toolkits.mplot3d import Axes3D\n",
    "import matplotlib.pyplot as plt\n",
    "from IPython.display import clear_output\n",
    "\n",
    "%matplotlib inline\n",
    "\n",
    "from tqdm import trange\n",
    "simulation_steps = 10000\n",
    "time_step = 0.01  # s\n",
    "simulation_history = []\n",
    "\n",
    "plt.figure(figsize=(12,12))\n",
    "ax = plt.axes(projection='3d')\n",
    "\n",
    "# vx0, vy0, vz0 = 0,0,0\n",
    "objects_steps = []\n",
    "for simulation_step in trange(simulation_steps):\n",
    "\n",
    "    x_res, y_res, z_res, vx_res, vy_res, vz_res = \\\n",
    "    sim.python_checker(x0, y0, z0, vx0, vy0, vz0, x0.size,vzsteps= int(10000), timestep = float(1.0))\n",
    "\n",
    "\n",
    "    x0, y0, z0, vx0, vy0, vz0 = x_res, y_res, z_res, vx_res, vy_res, vz_res\n",
    "    ax.scatter3D( x_res, y_res, z_res)\n",
    "\n",
    "simulation_history.append(objects_steps)"
   ]
  },
  {
   "cell_type": "code",
   "execution_count": null,
   "metadata": {},
   "outputs": [],
   "source": [
    "import vispy"
   ]
  },
  {
   "cell_type": "code",
   "execution_count": null,
   "metadata": {},
   "outputs": [],
   "source": [
    "vispy."
   ]
  },
  {
   "cell_type": "code",
   "execution_count": 22,
   "metadata": {},
   "outputs": [],
   "source": [
    "\n",
    "\n",
    "import numpy as np\n",
    "import sys\n",
    "\n",
    "from vispy import app, visuals, scene\n",
    "\n",
    "\n",
    "# build your visuals, that's all\n",
    "Scatter3D = scene.visuals.create_visual_node(visuals.MarkersVisual)\n",
    "\n",
    "# The real-things : plot using scene\n",
    "# build canvas\n",
    "canvas = scene.SceneCanvas(keys='interactive', show=True)\n",
    "\n",
    "# Add a ViewBox to let the user zoom/rotate\n",
    "view = canvas.central_widget.add_view()\n",
    "view.camera = 'turntable'\n",
    "view.camera.fov = 45\n",
    "view.camera.distance = 500\n",
    "\n",
    "# data\n",
    "n = 500\n",
    "pos = np.zeros((n, 3))\n",
    "colors = np.ones((n, 4), dtype=np.float32)\n",
    "radius, theta, dtheta = 1.0, 0.0, 10.5 / 180.0 * np.pi\n",
    "for i in range(500):\n",
    "    theta += dtheta\n",
    "    x = 0.0 + radius * np.cos(theta)\n",
    "    y = 0.0 + radius * np.sin(theta)\n",
    "    z = 1.0 * radius\n",
    "    r = 10.1 - i * 0.02\n",
    "    radius -= 0.45\n",
    "    pos[i] = x, y, z\n",
    "    colors[i] = (i/500, 1.0-i/500, 0, 0.8)\n",
    "\n",
    "# plot ! note the parent parameter\n",
    "p1 = Scatter3D(parent=view.scene)\n",
    "p1.set_gl_state('translucent', blend=True, depth_test=True)\n",
    "p1.set_data(pos, face_color=colors, symbol='o', size=10,\n",
    "            edge_width=0.5, edge_color='blue')\n",
    "\n",
    "# run"
   ]
  },
  {
   "cell_type": "code",
   "execution_count": null,
   "metadata": {},
   "outputs": [],
   "source": []
  },
  {
   "cell_type": "markdown",
   "metadata": {},
   "source": [
    "# CPU"
   ]
  },
  {
   "cell_type": "code",
   "execution_count": null,
   "metadata": {},
   "outputs": [],
   "source": [
    "from src.python_package.space_junk_simulator import space_simulator\n",
    "sim = space_simulator(gpu = False)"
   ]
  },
  {
   "cell_type": "code",
   "execution_count": null,
   "metadata": {},
   "outputs": [],
   "source": [
    "\n",
    "x_res, y_res, z_res, vx_res, vy_res, vz_res = \\\n",
    "sim.run(x0, y0, z0, vx0, vy0, vz0, vzsteps=month, timestep = 0.1)"
   ]
  },
  {
   "cell_type": "code",
   "execution_count": null,
   "metadata": {},
   "outputs": [],
   "source": [
    "x_res, y_res, z_res, vx_res, vy_res, vz_res"
   ]
  },
  {
   "cell_type": "code",
   "execution_count": null,
   "metadata": {},
   "outputs": [],
   "source": []
  },
  {
   "cell_type": "code",
   "execution_count": null,
   "metadata": {},
   "outputs": [],
   "source": []
  },
  {
   "cell_type": "markdown",
   "metadata": {},
   "source": [
    "# GPU"
   ]
  },
  {
   "cell_type": "code",
   "execution_count": null,
   "metadata": {},
   "outputs": [],
   "source": [
    "!ls src/python_package/"
   ]
  },
  {
   "cell_type": "code",
   "execution_count": null,
   "metadata": {},
   "outputs": [],
   "source": [
    "from src.python_package.space_junk_simulator import space_simulator\n",
    "sim = space_simulator(gpu = True)"
   ]
  },
  {
   "cell_type": "code",
   "execution_count": null,
   "metadata": {},
   "outputs": [],
   "source": [
    "!/usr/local/cuda/bin/nvcc -ccbin g++"
   ]
  },
  {
   "cell_type": "code",
   "execution_count": null,
   "metadata": {
    "colab": {},
    "colab_type": "code",
    "id": "CucitCbv6IJ8"
   },
   "outputs": [],
   "source": [
    "import ctypes\n",
    "so_gpu_path = \"/home/ipharitonov/space_junk_simulator/src/python_package/python_package_gpu.so\"\n",
    "solver_gpu = ctypes.CDLL(so_gpu_path)"
   ]
  },
  {
   "cell_type": "code",
   "execution_count": null,
   "metadata": {},
   "outputs": [],
   "source": [
    "!nvcc -c space_junk_simulator/src/gpu/gpu_solver.cu -o space_junk_simulator/src/gpu/gpu_solver.o -Xcompiler -fPIC"
   ]
  },
  {
   "cell_type": "code",
   "execution_count": null,
   "metadata": {},
   "outputs": [],
   "source": [
    "solver_gpu.solve_cpu"
   ]
  },
  {
   "cell_type": "code",
   "execution_count": null,
   "metadata": {},
   "outputs": [],
   "source": []
  },
  {
   "cell_type": "code",
   "execution_count": null,
   "metadata": {},
   "outputs": [],
   "source": []
  },
  {
   "cell_type": "code",
   "execution_count": null,
   "metadata": {},
   "outputs": [],
   "source": []
  },
  {
   "cell_type": "markdown",
   "metadata": {},
   "source": [
    "# Тест напрямую"
   ]
  },
  {
   "cell_type": "code",
   "execution_count": null,
   "metadata": {},
   "outputs": [],
   "source": [
    "import os\n",
    "import matplotlib.pyplot as plt\n",
    "import subprocess\n",
    "import json"
   ]
  },
  {
   "cell_type": "code",
   "execution_count": null,
   "metadata": {},
   "outputs": [],
   "source": [
    "#run binary\n",
    "FNULL = open(os.devnull, 'w')    #use this if you want to suppress output to stdout from the subprocess\n",
    "args = \"../bin/spacejunk_debug_cpu.exe ../source/cfg.txt output.txt\"\n",
    "subprocess.call(args, stdout=FNULL, stderr=FNULL, shell=False)"
   ]
  },
  {
   "cell_type": "code",
   "execution_count": null,
   "metadata": {},
   "outputs": [],
   "source": []
  },
  {
   "cell_type": "code",
   "execution_count": null,
   "metadata": {},
   "outputs": [],
   "source": [
    "#set cfg.txt\n",
    "cfg = {\n",
    "    \"objects\" : [\n",
    "        {\n",
    "            \"x\" : 0.0, \n",
    "            \"y\" : 7645200.0,\n",
    "            \"z\" : 0.0,\n",
    "            \"vx\" : 7220.0,\n",
    "            \"vy\" : 0.0,\n",
    "            \"vz\" : 0.0,\n",
    "            \"size\" : 1.0\n",
    "        }\n",
    "    ],\n",
    "    \"time\" : 0.0,\n",
    "    \"dt\" : 1.0,\n",
    "    \"maxSteps\" : 1000.0,\n",
    "    \"steps\" : 1000,\n",
    "    \"logObjects\" : (0)\n",
    "}\n",
    "with open(\"cfg.txt\", \"w\") as f:\n",
    "    f.write(json.dumps(cfg))"
   ]
  },
  {
   "cell_type": "code",
   "execution_count": null,
   "metadata": {},
   "outputs": [],
   "source": [
    "!ls"
   ]
  },
  {
   "cell_type": "code",
   "execution_count": null,
   "metadata": {},
   "outputs": [],
   "source": [
    "args = \" cfg.txt output_2.txt\"\n",
    "subprocess.call(args, stdout=FNULL, stderr=FNULL, shell=False)"
   ]
  },
  {
   "cell_type": "code",
   "execution_count": null,
   "metadata": {},
   "outputs": [],
   "source": [
    "with open(\"output_2.txt\", \"r\") as res:\n",
    "    l = res.read()\n",
    "    print(l)"
   ]
  },
  {
   "cell_type": "code",
   "execution_count": null,
   "metadata": {},
   "outputs": [],
   "source": []
  },
  {
   "cell_type": "code",
   "execution_count": null,
   "metadata": {},
   "outputs": [],
   "source": []
  },
  {
   "cell_type": "code",
   "execution_count": null,
   "metadata": {},
   "outputs": [],
   "source": []
  },
  {
   "cell_type": "code",
   "execution_count": null,
   "metadata": {},
   "outputs": [],
   "source": []
  },
  {
   "cell_type": "code",
   "execution_count": null,
   "metadata": {},
   "outputs": [],
   "source": []
  },
  {
   "cell_type": "code",
   "execution_count": null,
   "metadata": {},
   "outputs": [],
   "source": []
  }
 ],
 "metadata": {
  "accelerator": "GPU",
  "colab": {
   "collapsed_sections": [
    "MbNqY5kWV7tq",
    "eoeAvLfuV7t6",
    "F9ZSo-ZhV7uF",
    "7FYvtzI9V7ud",
    "ne4Yh2ktV9vs",
    "kkHA6hMGfrDF"
   ],
   "name": "1 - Debug processing.ipynb",
   "provenance": [],
   "toc_visible": true,
   "version": "0.3.2"
  },
  "kernelspec": {
   "display_name": "Python 3",
   "language": "python",
   "name": "python3"
  },
  "language_info": {
   "codemirror_mode": {
    "name": "ipython",
    "version": 3
   },
   "file_extension": ".py",
   "mimetype": "text/x-python",
   "name": "python",
   "nbconvert_exporter": "python",
   "pygments_lexer": "ipython3",
   "version": "3.6.7"
  }
 },
 "nbformat": 4,
 "nbformat_minor": 2
}
