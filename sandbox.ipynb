{
 "cells": [
  {
   "cell_type": "markdown",
   "metadata": {
    "colab_type": "text",
    "id": "cBTbyaaQV7tO"
   },
   "source": []
  },
  {
   "cell_type": "code",
   "execution_count": 1,
   "metadata": {},
   "outputs": [
    {
     "data": {
      "text/html": [
       "<style>.container { width:100% !important; }</style>"
      ],
      "text/plain": [
       "<IPython.core.display.HTML object>"
      ]
     },
     "metadata": {},
     "output_type": "display_data"
    }
   ],
   "source": [
    "from IPython.core.display import display, HTML\n",
    "display(HTML(\"<style>.container { width:100% !important; }</style>\"))\n",
    "\n",
    "\n",
    "import csv\n",
    "import numpy as np\n",
    "import numpy as np"
   ]
  },
  {
   "cell_type": "code",
   "execution_count": 2,
   "metadata": {
    "colab": {
     "base_uri": "https://localhost:8080/",
     "height": 170
    },
    "colab_type": "code",
    "id": "RmZS04Dnk0Uo",
    "outputId": "591c2fa8-7b18-4452-b468-d87623f7f484",
    "scrolled": false
   },
   "outputs": [],
   "source": [
    "!python3 setup.py"
   ]
  },
  {
   "cell_type": "code",
   "execution_count": 3,
   "metadata": {},
   "outputs": [],
   "source": [
    "cfg = {\n",
    "    \"objects\" : [\n",
    "        {\n",
    "            \"x\" : 0.0, \n",
    "            \"y\" : 7645200.0,\n",
    "            \"z\" : 0.0,\n",
    "            \"vx\" : 7220.0,\n",
    "            \"vy\" : 0.0,\n",
    "            \"vz\" : 0.0,\n",
    "            \"size\" : 1.0\n",
    "        }\n",
    "    ],\n",
    "    \"time\" : 0.0,\n",
    "    \"dt\" : 1.0,\n",
    "    \"maxSteps\" : 1000.0,\n",
    "    \"steps\" : 1000,\n",
    "    \"logObjects\" : (0)\n",
    "}"
   ]
  },
  {
   "cell_type": "code",
   "execution_count": 4,
   "metadata": {},
   "outputs": [],
   "source": [
    "space_objects = cfg['objects']"
   ]
  },
  {
   "cell_type": "code",
   "execution_count": 5,
   "metadata": {},
   "outputs": [
    {
     "data": {
      "text/plain": [
       "[{'x': 0.0,\n",
       "  'y': 7645200.0,\n",
       "  'z': 0.0,\n",
       "  'vx': 7220.0,\n",
       "  'vy': 0.0,\n",
       "  'vz': 0.0,\n",
       "  'size': 1.0}]"
      ]
     },
     "execution_count": 5,
     "metadata": {},
     "output_type": "execute_result"
    }
   ],
   "source": [
    "space_objects"
   ]
  },
  {
   "cell_type": "markdown",
   "metadata": {},
   "source": [
    "\n",
    "{'time': 0.0, 'object_id': 0, 'x': 25217.424362950926, 'y': -496457.41386781185, 'z': 650671.2495281389, 'vx': 0.0014348032818816137, 'vy': -0.00088002800475806, 'vz': -0.0007270622299984097, 'size': 5.933089989621293}"
   ]
  },
  {
   "cell_type": "code",
   "execution_count": 6,
   "metadata": {},
   "outputs": [],
   "source": [
    "\n",
    "x0 = np.array([25217.424362950926], dtype = np.float64)\n",
    "y0 = np.array([-496457.41386781185], dtype = np.float64)\n",
    "z0 = np.array([ 650671.2495281389], dtype = np.float64)\n",
    "\n",
    "vx0 = np.array([0.0014348032818816137], dtype = np.float64)\n",
    "vy0 = np.array([-0.00088002800475806], dtype = np.float64)\n",
    "vz0 = np.array([-0.0007270622299984097], dtype = np.float64)"
   ]
  },
  {
   "cell_type": "code",
   "execution_count": 7,
   "metadata": {
    "colab": {
     "base_uri": "https://localhost:8080/",
     "height": 402
    },
    "colab_type": "code",
    "id": "YT19bvz3j-Tx",
    "outputId": "f97ee687-d245-4879-f3bc-03c1602e218d"
   },
   "outputs": [
    {
     "name": "stdout",
     "output_type": "stream",
     "text": [
      "/Users/ivan_kharitonov/Yandex.Disk.localized/Code/YSDA/YSDA_4_Semester/ML_in_Engineering/sources/space_junk_simulator\n",
      "/Users/ivan_kharitonov/Yandex.Disk.localized/Code/YSDA/YSDA_4_Semester/ML_in_Engineering/sources/space_junk_simulator/src/python_package\n",
      "Ok!\n"
     ]
    }
   ],
   "source": [
    "from src.python_package.space_junk_simulator import space_simulator\n",
    "sim = space_simulator(gpu = False)"
   ]
  },
  {
   "cell_type": "code",
   "execution_count": 8,
   "metadata": {},
   "outputs": [
    {
     "name": "stdout",
     "output_type": "stream",
     "text": [
      "26784000\n"
     ]
    }
   ],
   "source": [
    "month = 10*3600*24*31\n",
    "print(month)"
   ]
  },
  {
   "cell_type": "code",
   "execution_count": 9,
   "metadata": {},
   "outputs": [
    {
     "data": {
      "text/plain": [
       "[array([25217.42436295]),\n",
       " array([-496457.41386781]),\n",
       " array([650671.24952814]),\n",
       " array([0.0014348]),\n",
       " array([-0.00088003]),\n",
       " array([-0.00072706])]"
      ]
     },
     "execution_count": 9,
     "metadata": {},
     "output_type": "execute_result"
    }
   ],
   "source": [
    "[x0, y0, z0, vx0, vy0, vz0]"
   ]
  },
  {
   "cell_type": "code",
   "execution_count": 10,
   "metadata": {},
   "outputs": [
    {
     "data": {
      "text/plain": [
       "array([[0.],\n",
       "       [0.],\n",
       "       [0.],\n",
       "       [0.],\n",
       "       [0.],\n",
       "       [0.]])"
      ]
     },
     "execution_count": 10,
     "metadata": {},
     "output_type": "execute_result"
    }
   ],
   "source": [
    "np.zeros_like([x0, y0, z0, vx0, vy0, vz0])"
   ]
  },
  {
   "cell_type": "code",
   "execution_count": 11,
   "metadata": {},
   "outputs": [
    {
     "data": {
      "text/plain": [
       "(array([25217.42436295]),\n",
       " array([-496457.41386781]),\n",
       " array([650671.24952814]),\n",
       " array([0.0014348]),\n",
       " array([-0.00088003]),\n",
       " array([-0.00072706]))"
      ]
     },
     "execution_count": 11,
     "metadata": {},
     "output_type": "execute_result"
    }
   ],
   "source": [
    "x0, y0, z0, vx0, vy0, vz0"
   ]
  },
  {
   "cell_type": "code",
   "execution_count": 13,
   "metadata": {},
   "outputs": [
    {
     "name": "stdout",
     "output_type": "stream",
     "text": [
      "[25217.42436295] [-496457.41386781] [650671.24952814] [0.0014348] [-0.00088003] [-0.00072706]\n",
      "[1.] [1.] [1.] [1.] [1.] [1.]\n"
     ]
    }
   ],
   "source": [
    "x_res, y_res, z_res, vx_res, vy_res, vz_res = \\\n",
    "sim.run(x0, y0, z0, vx0, vy0, vz0, x0.size, vzsteps= int(1), timestep = float(1.0))"
   ]
  },
  {
   "cell_type": "code",
   "execution_count": 30,
   "metadata": {},
   "outputs": [
    {
     "data": {
      "text/plain": [
       "(array([25217.42436295]),\n",
       " array([-496457.41386781]),\n",
       " array([650671.24952814]),\n",
       " array([0.0014348]),\n",
       " array([-0.00088003]),\n",
       " array([-0.00088003]))"
      ]
     },
     "execution_count": 30,
     "metadata": {},
     "output_type": "execute_result"
    }
   ],
   "source": [
    "x_res, y_res, z_res, vx_res, vy_res, vz_res"
   ]
  },
  {
   "cell_type": "code",
   "execution_count": 26,
   "metadata": {},
   "outputs": [],
   "source": [
    "x0, y0, z0, vx0, vy0, vz0 = x_res, y_res, z_res, vx_res, vy_res, vz_res"
   ]
  },
  {
   "cell_type": "code",
   "execution_count": 27,
   "metadata": {},
   "outputs": [
    {
     "name": "stderr",
     "output_type": "stream",
     "text": [
      "100%|██████████| 10/10 [00:00<00:00, 179.51it/s]\n"
     ]
    },
    {
     "name": "stdout",
     "output_type": "stream",
     "text": [
      "[25217.42436295] [-496457.41386781] [650671.24952814] [0.0014348] [-0.00088003] [-0.00088003]\n",
      "[25217.42436295] [-496457.41386781] [650671.24952814] [0.0014348] [-0.00088003] [-0.00088003]\n",
      "[25217.42436295] [-496457.41386781] [650671.24952814] [0.0014348] [-0.00088003] [-0.00088003]\n",
      "[25217.42436295] [-496457.41386781] [650671.24952814] [0.0014348] [-0.00088003] [-0.00088003]\n",
      "[25217.42436295] [-496457.41386781] [650671.24952814] [0.0014348] [-0.00088003] [-0.00088003]\n",
      "[25217.42436295] [-496457.41386781] [650671.24952814] [0.0014348] [-0.00088003] [-0.00088003]\n",
      "[25217.42436295] [-496457.41386781] [650671.24952814] [0.0014348] [-0.00088003] [-0.00088003]\n",
      "[25217.42436295] [-496457.41386781] [650671.24952814] [0.0014348] [-0.00088003] [-0.00088003]\n",
      "[25217.42436295] [-496457.41386781] [650671.24952814] [0.0014348] [-0.00088003] [-0.00088003]\n",
      "[25217.42436295] [-496457.41386781] [650671.24952814] [0.0014348] [-0.00088003] [-0.00088003]\n",
      "[25217.42436295] [-496457.41386781] [650671.24952814] [0.0014348] [-0.00088003] [-0.00088003]\n",
      "[25217.42436295] [-496457.41386781] [650671.24952814] [0.0014348] [-0.00088003] [-0.00088003]\n",
      "[25217.42436295] [-496457.41386781] [650671.24952814] [0.0014348] [-0.00088003] [-0.00088003]\n",
      "[25217.42436295] [-496457.41386781] [650671.24952814] [0.0014348] [-0.00088003] [-0.00088003]\n",
      "[25217.42436295] [-496457.41386781] [650671.24952814] [0.0014348] [-0.00088003] [-0.00088003]\n",
      "[25217.42436295] [-496457.41386781] [650671.24952814] [0.0014348] [-0.00088003] [-0.00088003]\n",
      "[25217.42436295] [-496457.41386781] [650671.24952814] [0.0014348] [-0.00088003] [-0.00088003]\n",
      "[25217.42436295] [-496457.41386781] [650671.24952814] [0.0014348] [-0.00088003] [-0.00088003]\n",
      "[25217.42436295] [-496457.41386781] [650671.24952814] [0.0014348] [-0.00088003] [-0.00088003]\n",
      "[25217.42436295] [-496457.41386781] [650671.24952814] [0.0014348] [-0.00088003] [-0.00088003]\n"
     ]
    },
    {
     "data": {
      "image/png": "[encoded data removed]",
      "text/plain": [
       "<Figure size 864x864 with 1 Axes>"
      ]
     },
     "metadata": {
      "needs_background": "light"
     },
     "output_type": "display_data"
    }
   ],
   "source": [
    "import numpy as np\n",
    "from mpl_toolkits.mplot3d import Axes3D\n",
    "import matplotlib.pyplot as plt\n",
    "from IPython.display import clear_output\n",
    "\n",
    "%matplotlib inline\n",
    "\n",
    "from tqdm import trange\n",
    "simulation_steps = 10\n",
    "time_step = 0.001  # s\n",
    "simulation_history = []\n",
    "\n",
    "plt.figure(figsize=(12,12))\n",
    "ax = plt.axes(projection='3d')\n",
    "\n",
    "# vx0, vy0, vz0 = 0,0,0\n",
    "objects_steps = []\n",
    "for simulation_step in trange(simulation_steps):\n",
    "\n",
    "    x_res, y_res, z_res, vx_res, vy_res, vz_res = \\\n",
    "    sim.run(x0, y0, z0, vx0, vy0, vz0, x0.size,vzsteps= int(1), timestep = float(1.0))\n",
    "\n",
    "\n",
    "    x0, y0, z0, vx0, vy0, vz0 = x_res, y_res, z_res, vx_res, vy_res, vz_res\n",
    "    ax.scatter3D( x_res, y_res, z_res)\n",
    "\n",
    "simulation_history.append(objects_steps)"
   ]
  },
  {
   "cell_type": "markdown",
   "metadata": {},
   "source": [
    "# CPU"
   ]
  },
  {
   "cell_type": "code",
   "execution_count": null,
   "metadata": {},
   "outputs": [],
   "source": [
    "from src.python_package.space_junk_simulator import space_simulator\n",
    "sim = space_simulator(gpu = False)"
   ]
  },
  {
   "cell_type": "code",
   "execution_count": null,
   "metadata": {},
   "outputs": [],
   "source": [
    "\n",
    "x_res, y_res, z_res, vx_res, vy_res, vz_res = \\\n",
    "sim.run(x0, y0, z0, vx0, vy0, vz0, vzsteps=month, timestep = 0.1)"
   ]
  },
  {
   "cell_type": "code",
   "execution_count": null,
   "metadata": {},
   "outputs": [],
   "source": [
    "x_res, y_res, z_res, vx_res, vy_res, vz_res"
   ]
  },
  {
   "cell_type": "code",
   "execution_count": null,
   "metadata": {},
   "outputs": [],
   "source": []
  },
  {
   "cell_type": "code",
   "execution_count": null,
   "metadata": {},
   "outputs": [],
   "source": []
  },
  {
   "cell_type": "markdown",
   "metadata": {},
   "source": [
    "# GPU"
   ]
  },
  {
   "cell_type": "code",
   "execution_count": null,
   "metadata": {},
   "outputs": [],
   "source": [
    "!ls src/python_package/"
   ]
  },
  {
   "cell_type": "code",
   "execution_count": null,
   "metadata": {},
   "outputs": [],
   "source": [
    "from src.python_package.space_junk_simulator import space_simulator\n",
    "sim = space_simulator(gpu = True)"
   ]
  },
  {
   "cell_type": "code",
   "execution_count": null,
   "metadata": {},
   "outputs": [],
   "source": [
    "!/usr/local/cuda/bin/nvcc -ccbin g++"
   ]
  },
  {
   "cell_type": "code",
   "execution_count": null,
   "metadata": {
    "colab": {},
    "colab_type": "code",
    "id": "CucitCbv6IJ8"
   },
   "outputs": [],
   "source": [
    "import ctypes\n",
    "so_gpu_path = \"/home/ipharitonov/space_junk_simulator/src/python_package/python_package_gpu.so\"\n",
    "solver_gpu = ctypes.CDLL(so_gpu_path)"
   ]
  },
  {
   "cell_type": "code",
   "execution_count": null,
   "metadata": {},
   "outputs": [],
   "source": [
    "!nvcc -c space_junk_simulator/src/gpu/gpu_solver.cu -o space_junk_simulator/src/gpu/gpu_solver.o -Xcompiler -fPIC"
   ]
  },
  {
   "cell_type": "code",
   "execution_count": null,
   "metadata": {},
   "outputs": [],
   "source": [
    "solver_gpu.solve_cpu"
   ]
  },
  {
   "cell_type": "code",
   "execution_count": null,
   "metadata": {},
   "outputs": [],
   "source": []
  },
  {
   "cell_type": "code",
   "execution_count": null,
   "metadata": {},
   "outputs": [],
   "source": []
  },
  {
   "cell_type": "code",
   "execution_count": null,
   "metadata": {},
   "outputs": [],
   "source": []
  },
  {
   "cell_type": "markdown",
   "metadata": {},
   "source": [
    "# Тест напрямую"
   ]
  },
  {
   "cell_type": "code",
   "execution_count": null,
   "metadata": {},
   "outputs": [],
   "source": [
    "import os\n",
    "import matplotlib.pyplot as plt\n",
    "import subprocess\n",
    "import json"
   ]
  },
  {
   "cell_type": "code",
   "execution_count": null,
   "metadata": {},
   "outputs": [],
   "source": [
    "#run binary\n",
    "FNULL = open(os.devnull, 'w')    #use this if you want to suppress output to stdout from the subprocess\n",
    "args = \"../bin/spacejunk_debug_cpu.exe ../source/cfg.txt output.txt\"\n",
    "subprocess.call(args, stdout=FNULL, stderr=FNULL, shell=False)"
   ]
  },
  {
   "cell_type": "code",
   "execution_count": null,
   "metadata": {},
   "outputs": [],
   "source": []
  },
  {
   "cell_type": "code",
   "execution_count": null,
   "metadata": {},
   "outputs": [],
   "source": [
    "#set cfg.txt\n",
    "cfg = {\n",
    "    \"objects\" : [\n",
    "        {\n",
    "            \"x\" : 0.0, \n",
    "            \"y\" : 7645200.0,\n",
    "            \"z\" : 0.0,\n",
    "            \"vx\" : 7220.0,\n",
    "            \"vy\" : 0.0,\n",
    "            \"vz\" : 0.0,\n",
    "            \"size\" : 1.0\n",
    "        }\n",
    "    ],\n",
    "    \"time\" : 0.0,\n",
    "    \"dt\" : 1.0,\n",
    "    \"maxSteps\" : 1000.0,\n",
    "    \"steps\" : 1000,\n",
    "    \"logObjects\" : (0)\n",
    "}\n",
    "with open(\"cfg.txt\", \"w\") as f:\n",
    "    f.write(json.dumps(cfg))"
   ]
  },
  {
   "cell_type": "code",
   "execution_count": null,
   "metadata": {},
   "outputs": [],
   "source": [
    "!ls"
   ]
  },
  {
   "cell_type": "code",
   "execution_count": null,
   "metadata": {},
   "outputs": [],
   "source": [
    "args = \" cfg.txt output_2.txt\"\n",
    "subprocess.call(args, stdout=FNULL, stderr=FNULL, shell=False)"
   ]
  },
  {
   "cell_type": "code",
   "execution_count": null,
   "metadata": {},
   "outputs": [],
   "source": [
    "with open(\"output_2.txt\", \"r\") as res:\n",
    "    l = res.read()\n",
    "    print(l)"
   ]
  },
  {
   "cell_type": "code",
   "execution_count": null,
   "metadata": {},
   "outputs": [],
   "source": []
  },
  {
   "cell_type": "code",
   "execution_count": null,
   "metadata": {},
   "outputs": [],
   "source": []
  },
  {
   "cell_type": "code",
   "execution_count": null,
   "metadata": {},
   "outputs": [],
   "source": []
  },
  {
   "cell_type": "code",
   "execution_count": null,
   "metadata": {},
   "outputs": [],
   "source": []
  },
  {
   "cell_type": "code",
   "execution_count": null,
   "metadata": {},
   "outputs": [],
   "source": []
  },
  {
   "cell_type": "code",
   "execution_count": null,
   "metadata": {},
   "outputs": [],
   "source": []
  }
 ],
 "metadata": {
  "accelerator": "GPU",
  "colab": {
   "collapsed_sections": [
    "MbNqY5kWV7tq",
    "eoeAvLfuV7t6",
    "F9ZSo-ZhV7uF",
    "7FYvtzI9V7ud",
    "ne4Yh2ktV9vs",
    "kkHA6hMGfrDF"
   ],
   "name": "1 - Debug processing.ipynb",
   "provenance": [],
   "toc_visible": true,
   "version": "0.3.2"
  },
  "kernelspec": {
   "display_name": "Python 3",
   "language": "python",
   "name": "python3"
  },
  "language_info": {
   "codemirror_mode": {
    "name": "ipython",
    "version": 3
   },
   "file_extension": ".py",
   "mimetype": "text/x-python",
   "name": "python",
   "nbconvert_exporter": "python",
   "pygments_lexer": "ipython3",
   "version": "3.6.8"
  }
 },
 "nbformat": 4,
 "nbformat_minor": 2
}
