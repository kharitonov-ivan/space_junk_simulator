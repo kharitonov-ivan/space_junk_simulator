{
 "cells": [
  {
   "cell_type": "markdown",
   "metadata": {
    "colab_type": "text",
    "id": "cBTbyaaQV7tO"
   },
   "source": []
  },
  {
   "cell_type": "code",
   "execution_count": 1,
   "metadata": {},
   "outputs": [
    {
     "data": {
      "text/html": [
       "<style>.container { width:100% !important; }</style>"
      ],
      "text/plain": [
       "<IPython.core.display.HTML object>"
      ]
     },
     "metadata": {},
     "output_type": "display_data"
    }
   ],
   "source": [
    "from IPython.core.display import display, HTML\n",
    "display(HTML(\"<style>.container { width:100% !important; }</style>\"))\n",
    "\n",
    "\n",
    "import csv\n",
    "import numpy as np\n",
    "import numpy as np"
   ]
  },
  {
   "cell_type": "code",
   "execution_count": 2,
   "metadata": {
    "colab": {
     "base_uri": "https://localhost:8080/",
     "height": 170
    },
    "colab_type": "code",
    "id": "RmZS04Dnk0Uo",
    "outputId": "591c2fa8-7b18-4452-b468-d87623f7f484",
    "scrolled": false
   },
   "outputs": [],
   "source": [
    "#!python3 setup.py"
   ]
  },
  {
   "cell_type": "code",
   "execution_count": 3,
   "metadata": {
    "colab": {},
    "colab_type": "code",
    "id": "Ygxv2lPOigQQ"
   },
   "outputs": [],
   "source": [
    "from src.utils import generate_object_states\n",
    "import pandas as pd\n",
    "import numpy as np\n",
    "N = 1\n",
    "\n",
    "space_objects = generate_object_states(N)\n",
    "\n",
    "    \n",
    "import pandas as pd\n",
    "a = pd.DataFrame(space_objects).values\n",
    "\n",
    "object_id = a[:, 0]\n",
    "x0 = a[:, 6].astype(np.float64)\n",
    "y0 = a[:, 7].astype(np.float64)\n",
    "z0 = a[:, 8].astype(np.float64)\n",
    "\n",
    "vx0 = a[:, 3].astype(np.float64)\n",
    "vy0 = a[:, 4].astype(np.float64)\n",
    "vz0 = a[:, 5].astype(np.float64)"
   ]
  },
  {
   "cell_type": "code",
   "execution_count": null,
   "metadata": {},
   "outputs": [],
   "source": []
  },
  {
   "cell_type": "code",
   "execution_count": 4,
   "metadata": {
    "colab": {
     "base_uri": "https://localhost:8080/",
     "height": 402
    },
    "colab_type": "code",
    "id": "YT19bvz3j-Tx",
    "outputId": "f97ee687-d245-4879-f3bc-03c1602e218d"
   },
   "outputs": [
    {
     "name": "stdout",
     "output_type": "stream",
     "text": [
      "/home/ipharitonov/space_junk_simulator\n",
      "/home/ipharitonov/space_junk_simulator/src/python_package\n",
      "Ok!\n"
     ]
    }
   ],
   "source": [
    "from src.python_package.space_junk_simulator import space_simulator\n",
    "sim = space_simulator(gpu = True)"
   ]
  },
  {
   "cell_type": "code",
   "execution_count": 5,
   "metadata": {},
   "outputs": [
    {
     "name": "stdout",
     "output_type": "stream",
     "text": [
      "26784000\n"
     ]
    }
   ],
   "source": [
    "month = 10*3600*24*31\n",
    "print(month)"
   ]
  },
  {
   "cell_type": "code",
   "execution_count": null,
   "metadata": {},
   "outputs": [],
   "source": [
    "x_res, y_res, z_res, vx_res, vy_res, vz_res = \\\n",
    "sim.run(x0, y0, z0, vx0, vy0, vz0, vzsteps=1, timestep = 1.0)"
   ]
  },
  {
   "cell_type": "code",
   "execution_count": 7,
   "metadata": {},
   "outputs": [
    {
     "data": {
      "text/plain": [
       "(array([-193604.18669313]),\n",
       " array([263116.58961847]),\n",
       " array([17016.56862328]),\n",
       " array([-0.00038721]),\n",
       " array([-0.00027866]),\n",
       " array([-0.00027866]))"
      ]
     },
     "execution_count": 7,
     "metadata": {},
     "output_type": "execute_result"
    }
   ],
   "source": [
    "x_res, y_res, z_res, vx_res, vy_res, vz_res"
   ]
  },
  {
   "cell_type": "code",
   "execution_count": null,
   "metadata": {},
   "outputs": [
    {
     "name": "stderr",
     "output_type": "stream",
     "text": [
      "  1%|          | 60/10000 [00:00<00:34, 289.11it/s]"
     ]
    },
    {
     "name": "stdout",
     "output_type": "stream",
     "text": [
      "run!\n",
      "run!\n",
      "run!\n",
      "run!\n",
      "run!\n",
      "run!\n",
      "run!\n",
      "run!\n",
      "run!\n",
      "run!\n",
      "run!\n",
      "run!\n",
      "run!\n",
      "run!\n",
      "run!\n",
      "run!\n",
      "run!\n",
      "run!\n",
      "run!\n",
      "run!\n",
      "run!\n",
      "run!\n",
      "run!\n",
      "run!\n",
      "run!\n",
      "run!\n",
      "run!\n",
      "run!\n",
      "run!\n",
      "run!\n",
      "run!\n",
      "run!\n",
      "run!\n",
      "run!\n",
      "run!\n",
      "run!\n",
      "run!\n",
      "run!\n",
      "run!\n",
      "run!\n",
      "run!\n",
      "run!\n",
      "run!\n",
      "run!\n",
      "run!\n",
      "run!\n",
      "run!\n",
      "run!\n",
      "run!\n",
      "run!\n",
      "run!\n",
      "run!\n",
      "run!\n",
      "run!\n",
      "run!\n",
      "run!\n",
      "run!\n",
      "run!\n",
      "run!\n",
      "run!\n",
      "run!\n"
     ]
    },
    {
     "name": "stderr",
     "output_type": "stream",
     "text": [
      "  1%|          | 122/10000 [00:00<00:33, 292.22it/s]"
     ]
    },
    {
     "name": "stdout",
     "output_type": "stream",
     "text": [
      "run!\n",
      "run!\n",
      "run!\n",
      "run!\n",
      "run!\n",
      "run!\n",
      "run!\n",
      "run!\n",
      "run!\n",
      "run!\n",
      "run!\n",
      "run!\n",
      "run!\n",
      "run!\n",
      "run!\n",
      "run!\n",
      "run!\n",
      "run!\n",
      "run!\n",
      "run!\n",
      "run!\n",
      "run!\n",
      "run!\n",
      "run!\n",
      "run!\n",
      "run!\n",
      "run!\n",
      "run!\n",
      "run!\n",
      "run!\n",
      "run!\n",
      "run!\n",
      "run!\n",
      "run!\n",
      "run!\n",
      "run!\n",
      "run!\n",
      "run!\n",
      "run!\n",
      "run!\n",
      "run!\n",
      "run!\n",
      "run!\n",
      "run!\n",
      "run!\n",
      "run!\n",
      "run!\n",
      "run!\n",
      "run!\n",
      "run!\n",
      "run!\n",
      "run!\n",
      "run!\n",
      "run!\n",
      "run!\n",
      "run!\n",
      "run!\n",
      "run!\n",
      "run!\n",
      "run!\n",
      "run!\n",
      "run!\n",
      "run!\n"
     ]
    },
    {
     "name": "stderr",
     "output_type": "stream",
     "text": [
      "  2%|▏         | 173/10000 [00:00<00:37, 264.86it/s]"
     ]
    },
    {
     "name": "stdout",
     "output_type": "stream",
     "text": [
      "run!\n",
      "run!\n",
      "run!\n",
      "run!\n",
      "run!\n",
      "run!\n",
      "run!\n",
      "run!\n",
      "run!\n",
      "run!\n",
      "run!\n",
      "run!\n",
      "run!\n",
      "run!\n",
      "run!\n",
      "run!\n",
      "run!\n",
      "run!\n",
      "run!\n",
      "run!\n",
      "run!\n",
      "run!\n",
      "run!\n",
      "run!\n",
      "run!\n",
      "run!\n",
      "run!\n",
      "run!\n",
      "run!\n",
      "run!\n",
      "run!\n",
      "run!\n",
      "run!\n",
      "run!\n",
      "run!\n",
      "run!\n",
      "run!\n",
      "run!\n",
      "run!\n",
      "run!\n",
      "run!\n",
      "run!\n",
      "run!\n",
      "run!\n",
      "run!\n",
      "run!\n",
      "run!\n",
      "run!\n",
      "run!\n"
     ]
    },
    {
     "name": "stderr",
     "output_type": "stream",
     "text": [
      "\r",
      "  2%|▏         | 203/10000 [00:00<00:35, 273.06it/s]"
     ]
    },
    {
     "name": "stdout",
     "output_type": "stream",
     "text": [
      "run!\n",
      "run!\n",
      "run!\n",
      "run!\n",
      "run!\n",
      "run!\n",
      "run!\n",
      "run!\n",
      "run!\n",
      "run!\n",
      "run!\n",
      "run!\n",
      "run!\n",
      "run!\n",
      "run!\n",
      "run!\n",
      "run!\n",
      "run!\n",
      "run!\n",
      "run!\n",
      "run!\n",
      "run!\n",
      "run!\n",
      "run!\n",
      "run!\n",
      "run!\n",
      "run!\n",
      "run!\n",
      "run!\n",
      "run!\n",
      "run!\n",
      "run!\n",
      "run!\n",
      "run!\n",
      "run!\n",
      "run!\n",
      "run!\n",
      "run!\n",
      "run!\n",
      "run!\n",
      "run!\n",
      "run!\n",
      "run!\n",
      "run!\n",
      "run!\n",
      "run!\n",
      "run!\n",
      "run!\n",
      "run!\n",
      "run!\n",
      "run!\n"
     ]
    },
    {
     "name": "stderr",
     "output_type": "stream",
     "text": [
      "  3%|▎         | 262/10000 [00:00<00:36, 267.33it/s]"
     ]
    },
    {
     "name": "stdout",
     "output_type": "stream",
     "text": [
      "run!\n",
      "run!\n",
      "run!\n",
      "run!\n",
      "run!\n",
      "run!\n",
      "run!\n",
      "run!\n",
      "run!\n",
      "run!\n",
      "run!\n",
      "run!\n",
      "run!\n",
      "run!\n",
      "run!\n",
      "run!\n",
      "run!\n",
      "run!\n",
      "run!\n",
      "run!\n",
      "run!\n",
      "run!\n",
      "run!\n",
      "run!\n",
      "run!\n",
      "run!\n",
      "run!\n",
      "run!\n",
      "run!\n",
      "run!\n",
      "run!\n",
      "run!\n",
      "run!\n",
      "run!\n",
      "run!\n",
      "run!\n",
      "run!\n",
      "run!\n",
      "run!\n",
      "run!\n",
      "run!\n",
      "run!\n",
      "run!\n",
      "run!\n",
      "run!\n",
      "run!\n",
      "run!\n",
      "run!\n",
      "run!\n",
      "run!\n",
      "run!\n",
      "run!\n",
      "run!\n",
      "run!\n",
      "run!\n",
      "run!\n",
      "run!\n"
     ]
    },
    {
     "name": "stderr",
     "output_type": "stream",
     "text": [
      "  3%|▎         | 318/10000 [00:01<00:36, 265.56it/s]"
     ]
    },
    {
     "name": "stdout",
     "output_type": "stream",
     "text": [
      "run!\n",
      "run!\n",
      "run!\n",
      "run!\n",
      "run!\n",
      "run!\n",
      "run!\n",
      "run!\n",
      "run!\n",
      "run!\n",
      "run!\n",
      "run!\n",
      "run!\n",
      "run!\n",
      "run!\n",
      "run!\n",
      "run!\n",
      "run!\n",
      "run!\n",
      "run!\n",
      "run!\n",
      "run!\n",
      "run!\n",
      "run!\n",
      "run!\n",
      "run!\n",
      "run!\n",
      "run!\n",
      "run!\n",
      "run!\n",
      "run!\n",
      "run!\n",
      "run!\n",
      "run!\n",
      "run!\n",
      "run!\n",
      "run!\n",
      "run!\n",
      "run!\n",
      "run!\n",
      "run!\n",
      "run!\n",
      "run!\n",
      "run!\n",
      "run!\n",
      "run!\n",
      "run!\n",
      "run!\n",
      "run!\n",
      "run!\n",
      "run!\n",
      "run!\n",
      "run!\n",
      "run!\n"
     ]
    },
    {
     "name": "stderr",
     "output_type": "stream",
     "text": [
      "  4%|▍         | 377/10000 [00:01<00:36, 263.46it/s]"
     ]
    },
    {
     "name": "stdout",
     "output_type": "stream",
     "text": [
      "run!\n",
      "run!\n",
      "run!\n",
      "run!\n",
      "run!\n",
      "run!\n",
      "run!\n",
      "run!\n",
      "run!\n",
      "run!\n",
      "run!\n",
      "run!\n",
      "run!\n",
      "run!\n",
      "run!\n",
      "run!\n",
      "run!\n",
      "run!\n",
      "run!\n",
      "run!\n",
      "run!\n",
      "run!\n",
      "run!\n",
      "run!\n",
      "run!\n",
      "run!\n",
      "run!\n",
      "run!\n",
      "run!\n",
      "run!\n",
      "run!\n",
      "run!\n",
      "run!\n",
      "run!\n",
      "run!\n",
      "run!\n",
      "run!\n",
      "run!\n",
      "run!\n",
      "run!\n",
      "run!\n",
      "run!\n",
      "run!\n",
      "run!\n",
      "run!\n",
      "run!\n",
      "run!\n",
      "run!\n",
      "run!\n",
      "run!\n",
      "run!\n",
      "run!\n",
      "run!\n",
      "run!\n",
      "run!\n",
      "run!\n",
      "run!\n",
      "run!\n",
      "run!\n",
      "run!\n"
     ]
    },
    {
     "name": "stderr",
     "output_type": "stream",
     "text": [
      "  4%|▍         | 435/10000 [00:01<00:34, 275.36it/s]"
     ]
    },
    {
     "name": "stdout",
     "output_type": "stream",
     "text": [
      "run!\n",
      "run!\n",
      "run!\n",
      "run!\n",
      "run!\n",
      "run!\n",
      "run!\n",
      "run!\n",
      "run!\n",
      "run!\n",
      "run!\n",
      "run!\n",
      "run!\n",
      "run!\n",
      "run!\n",
      "run!\n",
      "run!\n",
      "run!\n",
      "run!\n",
      "run!\n",
      "run!\n",
      "run!\n",
      "run!\n",
      "run!\n",
      "run!\n",
      "run!\n",
      "run!\n",
      "run!\n",
      "run!\n",
      "run!\n",
      "run!\n",
      "run!\n",
      "run!\n",
      "run!\n",
      "run!\n",
      "run!\n",
      "run!\n",
      "run!\n",
      "run!\n",
      "run!\n",
      "run!\n",
      "run!\n",
      "run!\n",
      "run!\n",
      "run!\n",
      "run!\n",
      "run!\n",
      "run!\n",
      "run!\n",
      "run!\n",
      "run!\n",
      "run!\n",
      "run!\n",
      "run!\n",
      "run!\n"
     ]
    },
    {
     "name": "stderr",
     "output_type": "stream",
     "text": [
      "  5%|▍         | 494/10000 [00:01<00:36, 260.85it/s]"
     ]
    },
    {
     "name": "stdout",
     "output_type": "stream",
     "text": [
      "run!\n",
      "run!\n",
      "run!\n",
      "run!\n",
      "run!\n",
      "run!\n",
      "run!\n",
      "run!\n",
      "run!\n",
      "run!\n",
      "run!\n",
      "run!\n",
      "run!\n",
      "run!\n",
      "run!\n",
      "run!\n",
      "run!\n",
      "run!\n",
      "run!\n",
      "run!\n",
      "run!\n",
      "run!\n",
      "run!\n",
      "run!\n",
      "run!\n",
      "run!\n",
      "run!\n",
      "run!\n",
      "run!\n",
      "run!\n",
      "run!\n",
      "run!\n",
      "run!\n",
      "run!\n",
      "run!\n",
      "run!\n",
      "run!\n",
      "run!\n",
      "run!\n",
      "run!\n",
      "run!\n",
      "run!\n",
      "run!\n",
      "run!\n",
      "run!\n",
      "run!\n",
      "run!\n",
      "run!\n",
      "run!\n",
      "run!\n",
      "run!\n",
      "run!\n"
     ]
    },
    {
     "name": "stderr",
     "output_type": "stream",
     "text": [
      "\r",
      "  5%|▌         | 522/10000 [00:01<00:35, 263.99it/s]"
     ]
    }
   ],
   "source": [
    "import numpy as np\n",
    "from mpl_toolkits.mplot3d import Axes3D\n",
    "import matplotlib.pyplot as plt\n",
    "from IPython.display import clear_output\n",
    "\n",
    "%matplotlib inline\n",
    "\n",
    "from tqdm import trange\n",
    "simulation_steps = 10000\n",
    "time_step = 0.001  # s\n",
    "simulation_history = []\n",
    "\n",
    "plt.figure(figsize=(12,12))\n",
    "ax = plt.axes(projection='3d')\n",
    "\n",
    "# vx0, vy0, vz0 = 0,0,0\n",
    "objects_steps = []\n",
    "for simulation_step in trange(simulation_steps):\n",
    "\n",
    "    x_res, y_res, z_res, vx_res, vy_res, vz_res = \\\n",
    "    sim.run(x0, y0, z0, vx0, vy0, vz0, vzsteps=1, timestep = 1.0)\n",
    "\n",
    "\n",
    "    x0, y0, z0, vx0, vy0, vz0 = x_res, y_res, z_res, vx_res, vy_res, vz_res\n",
    "    ax.scatter3D( x_res, y_res, z_res)\n",
    "\n",
    "simulation_history.append(objects_steps)"
   ]
  },
  {
   "cell_type": "markdown",
   "metadata": {},
   "source": [
    "# CPU"
   ]
  },
  {
   "cell_type": "code",
   "execution_count": null,
   "metadata": {},
   "outputs": [
    {
     "name": "stdout",
     "output_type": "stream",
     "text": [
      "/home/ipharitonov/space_junk_simulator\n",
      "/home/ipharitonov/space_junk_simulator/src/python_package\n",
      "Ok!\n"
     ]
    }
   ],
   "source": [
    "from src.python_package.space_junk_simulator import space_simulator\n",
    "sim = space_simulator(gpu = False)"
   ]
  },
  {
   "cell_type": "code",
   "execution_count": null,
   "metadata": {},
   "outputs": [],
   "source": [
    "\n",
    "x_res, y_res, z_res, vx_res, vy_res, vz_res = \\\n",
    "sim.run(x0, y0, z0, vx0, vy0, vz0, vzsteps=month, timestep = 0.1)"
   ]
  },
  {
   "cell_type": "code",
   "execution_count": null,
   "metadata": {},
   "outputs": [],
   "source": [
    "x_res, y_res, z_res, vx_res, vy_res, vz_res"
   ]
  },
  {
   "cell_type": "code",
   "execution_count": null,
   "metadata": {},
   "outputs": [],
   "source": []
  },
  {
   "cell_type": "code",
   "execution_count": null,
   "metadata": {},
   "outputs": [],
   "source": []
  },
  {
   "cell_type": "markdown",
   "metadata": {},
   "source": [
    "# GPU"
   ]
  },
  {
   "cell_type": "code",
   "execution_count": null,
   "metadata": {},
   "outputs": [],
   "source": [
    "!ls src/python_package/"
   ]
  },
  {
   "cell_type": "code",
   "execution_count": null,
   "metadata": {},
   "outputs": [],
   "source": [
    "from src.python_package.space_junk_simulator import space_simulator\n",
    "sim = space_simulator(gpu = True)"
   ]
  },
  {
   "cell_type": "code",
   "execution_count": null,
   "metadata": {},
   "outputs": [],
   "source": [
    "!/usr/local/cuda/bin/nvcc -ccbin g++"
   ]
  },
  {
   "cell_type": "code",
   "execution_count": null,
   "metadata": {
    "colab": {},
    "colab_type": "code",
    "id": "CucitCbv6IJ8"
   },
   "outputs": [],
   "source": [
    "import ctypes\n",
    "so_gpu_path = \"/home/ipharitonov/space_junk_simulator/src/python_package/python_package_gpu.so\"\n",
    "solver_gpu = ctypes.CDLL(so_gpu_path)"
   ]
  },
  {
   "cell_type": "code",
   "execution_count": null,
   "metadata": {},
   "outputs": [],
   "source": [
    "!nvcc -c space_junk_simulator/src/gpu/gpu_solver.cu -o space_junk_simulator/src/gpu/gpu_solver.o -Xcompiler -fPIC"
   ]
  },
  {
   "cell_type": "code",
   "execution_count": null,
   "metadata": {},
   "outputs": [],
   "source": [
    "solver_gpu.solve_cpu"
   ]
  },
  {
   "cell_type": "code",
   "execution_count": null,
   "metadata": {},
   "outputs": [],
   "source": []
  }
 ],
 "metadata": {
  "accelerator": "GPU",
  "colab": {
   "collapsed_sections": [
    "MbNqY5kWV7tq",
    "eoeAvLfuV7t6",
    "F9ZSo-ZhV7uF",
    "7FYvtzI9V7ud",
    "ne4Yh2ktV9vs",
    "kkHA6hMGfrDF"
   ],
   "name": "1 - Debug processing.ipynb",
   "provenance": [],
   "toc_visible": true,
   "version": "0.3.2"
  },
  "kernelspec": {
   "display_name": "Python 3",
   "language": "python",
   "name": "python3"
  },
  "language_info": {
   "codemirror_mode": {
    "name": "ipython",
    "version": 3
   },
   "file_extension": ".py",
   "mimetype": "text/x-python",
   "name": "python",
   "nbconvert_exporter": "python",
   "pygments_lexer": "ipython3",
   "version": "3.6.7"
  }
 },
 "nbformat": 4,
 "nbformat_minor": 1
}
