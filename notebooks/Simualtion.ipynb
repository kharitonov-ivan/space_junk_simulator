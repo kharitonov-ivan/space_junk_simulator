{
 "cells": [
  {
   "cell_type": "markdown",
   "metadata": {
    "colab_type": "text",
    "id": "cBTbyaaQV7tO"
   },
   "source": [
    "# Installation"
   ]
  },
  {
   "cell_type": "code",
   "execution_count": 1,
   "metadata": {},
   "outputs": [
    {
     "name": "stdout",
     "output_type": "stream",
     "text": [
      "/Users/ivan_kharitonov/Google Drive/ML_eng_course/space_junk_simulator\n",
      "CMakeLists.txt    \u001b[34mcmake-build-debug\u001b[m\u001b[m \u001b[34mlib\u001b[m\u001b[m               \u001b[34mtest\u001b[m\u001b[m\r\n",
      "README.md         \u001b[34mdocs\u001b[m\u001b[m              setup.py\r\n",
      "\u001b[34mbin\u001b[m\u001b[m               \u001b[34mexamples\u001b[m\u001b[m          \u001b[34msrc\u001b[m\u001b[m\r\n"
     ]
    }
   ],
   "source": [
    "%cd ..\n",
    "!ls"
   ]
  },
  {
   "cell_type": "markdown",
   "metadata": {},
   "source": [
    "Cpu version"
   ]
  },
  {
   "cell_type": "code",
   "execution_count": 2,
   "metadata": {},
   "outputs": [
    {
     "name": "stdout",
     "output_type": "stream",
     "text": [
      "Build CPU version\r\n",
      "['/src/cpu/cpu_solver.cpp', '/src/python_package/py_wrapper_cpu.cpp', '/src/model.cpp']\r\n"
     ]
    }
   ],
   "source": [
    "!python3 setup.py"
   ]
  },
  {
   "cell_type": "markdown",
   "metadata": {},
   "source": [
    "Gpu version"
   ]
  },
  {
   "cell_type": "code",
   "execution_count": 3,
   "metadata": {
    "scrolled": false
   },
   "outputs": [
    {
     "name": "stdout",
     "output_type": "stream",
     "text": [
      "Build GPU version\n",
      "['/src/cpu/cpu_solver.cpp', '/src/python_package/py_wrapper_cpu.cpp', '/src/model.cpp']\n",
      "Traceback (most recent call last):\n",
      "  File \"setup.py\", line 74, in <module>\n",
      "    gpu_version_build(cur_path)\n",
      "  File \"setup.py\", line 47, in gpu_version_build\n",
      "    '-fPIC'])\n",
      "  File \"/Users/ivan_kharitonov/anaconda3/lib/python3.6/subprocess.py\", line 287, in call\n",
      "    with Popen(*popenargs, **kwargs) as p:\n",
      "  File \"/Users/ivan_kharitonov/anaconda3/lib/python3.6/subprocess.py\", line 729, in __init__\n",
      "    restore_signals, start_new_session)\n",
      "  File \"/Users/ivan_kharitonov/anaconda3/lib/python3.6/subprocess.py\", line 1364, in _execute_child\n",
      "    raise child_exception_type(errno_num, err_msg, err_filename)\n",
      "FileNotFoundError: [Errno 2] No such file or directory: 'nvcc': 'nvcc'\n"
     ]
    }
   ],
   "source": [
    "!python3 setup.py --GPU=True"
   ]
  },
  {
   "cell_type": "markdown",
   "metadata": {},
   "source": [
    "# Simple object example"
   ]
  },
  {
   "cell_type": "code",
   "execution_count": 4,
   "metadata": {},
   "outputs": [
    {
     "name": "stdout",
     "output_type": "stream",
     "text": [
      "Simulation_time = 26784000 secs\n"
     ]
    }
   ],
   "source": [
    "import numpy as np\n",
    "x_init = np.array([25217.424362950926], dtype = np.float64)\n",
    "y_init = np.array([-496457.41386781185], dtype = np.float64)\n",
    "z_init = np.array([ 650671.2495281389], dtype = np.float64)\n",
    "\n",
    "vx_init = np.array([0.0014348032818816137], dtype = np.float64)\n",
    "vy_init = np.array([-0.00088002800475806], dtype = np.float64)\n",
    "vz_init = np.array([-0.0007270622299984097], dtype = np.float64)\n",
    "\n",
    "month = 10*3600*24*31\n",
    "simulation_time = month\n",
    "print('Simulation_time =', simulation_time, 'secs')"
   ]
  },
  {
   "cell_type": "markdown",
   "metadata": {},
   "source": [
    "## cpu"
   ]
  },
  {
   "cell_type": "code",
   "execution_count": 5,
   "metadata": {},
   "outputs": [],
   "source": [
    "x0, y0, z0, vx0, vy0, vz0, x0 = x_init, y_init, z_init, vx_init, vy_init, vz_init, x_init"
   ]
  },
  {
   "cell_type": "code",
   "execution_count": 6,
   "metadata": {},
   "outputs": [],
   "source": [
    "from src.python_package.space_junk_simulator import space_simulator\n",
    "sim_cpu = space_simulator(gpu = False)"
   ]
  },
  {
   "cell_type": "code",
   "execution_count": 7,
   "metadata": {},
   "outputs": [
    {
     "name": "stdout",
     "output_type": "stream",
     "text": [
      "Initial [25217.42436295] [-496457.41386781] [650671.24952814] [0.0014348] [-0.00088003] [-0.00072706] \n",
      "\n",
      "End [24290.67118081] [-478212.08092972] [626758.37559678] [-187.69167579] [3695.12708449] [-4842.94092718]\n"
     ]
    }
   ],
   "source": [
    "x_res, y_res, z_res, vx_res, vy_res, vz_res = \\\n",
    "sim_cpu.run(x0, y0, z0, vx0, vy0, vz0, x0.size, vzsteps= int(10), timestep = float(1.0))\n",
    "\n",
    "print('Initial', x0, y0, z0, vx0, vy0, vz0, '\\n')\n",
    "print('End', x_res, y_res, z_res, vx_res, vy_res, vz_res)"
   ]
  },
  {
   "cell_type": "code",
   "execution_count": 8,
   "metadata": {},
   "outputs": [],
   "source": [
    "import numpy as np\n",
    "from tqdm import tqdm_notebook\n",
    "from mpl_toolkits.mplot3d import Axes3D\n",
    "import matplotlib.pyplot as plt\n",
    "from IPython.display import clear_output\n",
    "%matplotlib inline\n",
    "\n",
    "\n",
    "def simulate(sim, \n",
    "             x0, y0, z0, \n",
    "             vx0, vy0, vz0, \n",
    "             simulation_steps=10, time_step=1.0, plot_result=False):\n",
    "    simulation_history = []\n",
    "    objects_steps = []\n",
    "    if plot_result:\n",
    "        plt.figure(figsize=(12,12))\n",
    "        ax = plt.axes(projection='3d')\n",
    "    for simulation_step in tqdm_notebook(range(simulation_steps)):\n",
    "\n",
    "        x_res, y_res, z_res, vx_res, vy_res, vz_res = \\\n",
    "        sim.run(x0, y0, z0, vx0, vy0, vz0, \n",
    "                    x0.size,vzsteps= int(1), timestep = float(time_step))\n",
    "\n",
    "\n",
    "        x0, y0, z0, vx0, vy0, vz0 = x_res, y_res, z_res, vx_res, vy_res, vz_res\n",
    "        if plot_result:\n",
    "            ax.scatter3D( x_res, y_res, z_res)\n",
    "    "
   ]
  },
  {
   "cell_type": "code",
   "execution_count": 9,
   "metadata": {},
   "outputs": [
    {
     "data": {
      "application/vnd.jupyter.widget-view+json": {
       "model_id": "00ab85d9fc6f4ee8b52326c3813286f0",
       "version_major": 2,
       "version_minor": 0
      },
      "text/plain": [
       "HBox(children=(IntProgress(value=0, max=10), HTML(value='')))"
      ]
     },
     "metadata": {},
     "output_type": "display_data"
    },
    {
     "name": "stdout",
     "output_type": "stream",
     "text": [
      "\n"
     ]
    },
    {
     "data": {
      "image/png": "[encoded data removed]",
      "text/plain": [
       "<Figure size 864x864 with 1 Axes>"
      ]
     },
     "metadata": {
      "needs_background": "light"
     },
     "output_type": "display_data"
    }
   ],
   "source": [
    "simulate(sim_cpu, x0, y0, z0, vx0, vy0, vz0, \n",
    "         simulation_steps=10, time_step=1.0, plot_result=True)"
   ]
  },
  {
   "cell_type": "markdown",
   "metadata": {},
   "source": [
    "## gpu"
   ]
  },
  {
   "cell_type": "code",
   "execution_count": 10,
   "metadata": {},
   "outputs": [],
   "source": [
    "x0, y0, z0, vx0, vy0, vz0, x0 = x_init, y_init, z_init, vx_init, vy_init, vz_init, x_init"
   ]
  },
  {
   "cell_type": "code",
   "execution_count": 11,
   "metadata": {},
   "outputs": [
    {
     "ename": "OSError",
     "evalue": "dlopen(/Users/ivan_kharitonov/Google Drive/ML_eng_course/space_junk_simulator/src/python_package/python_package_gpu.so, 6): image not found",
     "output_type": "error",
     "traceback": [
      "\u001b[0;31m---------------------------------------------------------------------------\u001b[0m",
      "\u001b[0;31mOSError\u001b[0m                                   Traceback (most recent call last)",
      "\u001b[0;32m<ipython-input-11-9c150ec389d4>\u001b[0m in \u001b[0;36m<module>\u001b[0;34m\u001b[0m\n\u001b[1;32m      1\u001b[0m \u001b[0;32mfrom\u001b[0m \u001b[0msrc\u001b[0m\u001b[0;34m.\u001b[0m\u001b[0mpython_package\u001b[0m\u001b[0;34m.\u001b[0m\u001b[0mspace_junk_simulator\u001b[0m \u001b[0;32mimport\u001b[0m \u001b[0mspace_simulator\u001b[0m\u001b[0;34m\u001b[0m\u001b[0;34m\u001b[0m\u001b[0m\n\u001b[0;32m----> 2\u001b[0;31m \u001b[0msim_gpu\u001b[0m \u001b[0;34m=\u001b[0m \u001b[0mspace_simulator\u001b[0m\u001b[0;34m(\u001b[0m\u001b[0mgpu\u001b[0m \u001b[0;34m=\u001b[0m \u001b[0;32mTrue\u001b[0m\u001b[0;34m)\u001b[0m\u001b[0;34m\u001b[0m\u001b[0;34m\u001b[0m\u001b[0m\n\u001b[0m",
      "\u001b[0;32m~/Google Drive/ML_eng_course/space_junk_simulator/src/python_package/space_junk_simulator.py\u001b[0m in \u001b[0;36m__init__\u001b[0;34m(self, gpu)\u001b[0m\n\u001b[1;32m     44\u001b[0m         \u001b[0;32mif\u001b[0m \u001b[0mself\u001b[0m\u001b[0;34m.\u001b[0m\u001b[0mgpu\u001b[0m\u001b[0;34m:\u001b[0m\u001b[0;34m\u001b[0m\u001b[0;34m\u001b[0m\u001b[0m\n\u001b[1;32m     45\u001b[0m             \u001b[0mso_gpu_path\u001b[0m \u001b[0;34m=\u001b[0m \u001b[0mcur_path\u001b[0m \u001b[0;34m+\u001b[0m \u001b[0;34m'/python_package_gpu.so'\u001b[0m\u001b[0;34m\u001b[0m\u001b[0;34m\u001b[0m\u001b[0m\n\u001b[0;32m---> 46\u001b[0;31m             \u001b[0mself\u001b[0m\u001b[0;34m.\u001b[0m\u001b[0mgpu_lib\u001b[0m \u001b[0;34m=\u001b[0m \u001b[0mctypes\u001b[0m\u001b[0;34m.\u001b[0m\u001b[0mCDLL\u001b[0m\u001b[0;34m(\u001b[0m\u001b[0mso_gpu_path\u001b[0m\u001b[0;34m)\u001b[0m\u001b[0;34m\u001b[0m\u001b[0;34m\u001b[0m\u001b[0m\n\u001b[0m\u001b[1;32m     47\u001b[0m             self.gpu_lib.solve_gpu.argtypes = [np.ctypeslib.ndpointer(dtype=np.float64, flags=\"C_CONTIGUOUS\"),  # x\n\u001b[1;32m     48\u001b[0m                                                \u001b[0mnp\u001b[0m\u001b[0;34m.\u001b[0m\u001b[0mctypeslib\u001b[0m\u001b[0;34m.\u001b[0m\u001b[0mndpointer\u001b[0m\u001b[0;34m(\u001b[0m\u001b[0mdtype\u001b[0m\u001b[0;34m=\u001b[0m\u001b[0mnp\u001b[0m\u001b[0;34m.\u001b[0m\u001b[0mfloat64\u001b[0m\u001b[0;34m,\u001b[0m \u001b[0mflags\u001b[0m\u001b[0;34m=\u001b[0m\u001b[0;34m\"C_CONTIGUOUS\"\u001b[0m\u001b[0;34m)\u001b[0m\u001b[0;34m,\u001b[0m  \u001b[0;31m# y\u001b[0m\u001b[0;34m\u001b[0m\u001b[0;34m\u001b[0m\u001b[0m\n",
      "\u001b[0;32m~/anaconda3/lib/python3.6/ctypes/__init__.py\u001b[0m in \u001b[0;36m__init__\u001b[0;34m(self, name, mode, handle, use_errno, use_last_error)\u001b[0m\n\u001b[1;32m    346\u001b[0m \u001b[0;34m\u001b[0m\u001b[0m\n\u001b[1;32m    347\u001b[0m         \u001b[0;32mif\u001b[0m \u001b[0mhandle\u001b[0m \u001b[0;32mis\u001b[0m \u001b[0;32mNone\u001b[0m\u001b[0;34m:\u001b[0m\u001b[0;34m\u001b[0m\u001b[0;34m\u001b[0m\u001b[0m\n\u001b[0;32m--> 348\u001b[0;31m             \u001b[0mself\u001b[0m\u001b[0;34m.\u001b[0m\u001b[0m_handle\u001b[0m \u001b[0;34m=\u001b[0m \u001b[0m_dlopen\u001b[0m\u001b[0;34m(\u001b[0m\u001b[0mself\u001b[0m\u001b[0;34m.\u001b[0m\u001b[0m_name\u001b[0m\u001b[0;34m,\u001b[0m \u001b[0mmode\u001b[0m\u001b[0;34m)\u001b[0m\u001b[0;34m\u001b[0m\u001b[0;34m\u001b[0m\u001b[0m\n\u001b[0m\u001b[1;32m    349\u001b[0m         \u001b[0;32melse\u001b[0m\u001b[0;34m:\u001b[0m\u001b[0;34m\u001b[0m\u001b[0;34m\u001b[0m\u001b[0m\n\u001b[1;32m    350\u001b[0m             \u001b[0mself\u001b[0m\u001b[0;34m.\u001b[0m\u001b[0m_handle\u001b[0m \u001b[0;34m=\u001b[0m \u001b[0mhandle\u001b[0m\u001b[0;34m\u001b[0m\u001b[0;34m\u001b[0m\u001b[0m\n",
      "\u001b[0;31mOSError\u001b[0m: dlopen(/Users/ivan_kharitonov/Google Drive/ML_eng_course/space_junk_simulator/src/python_package/python_package_gpu.so, 6): image not found"
     ]
    }
   ],
   "source": [
    "from src.python_package.space_junk_simulator import space_simulator\n",
    "sim_gpu = space_simulator(gpu = True)"
   ]
  },
  {
   "cell_type": "code",
   "execution_count": null,
   "metadata": {},
   "outputs": [],
   "source": [
    "x_res, y_res, z_res, vx_res, vy_res, vz_res = \\\n",
    "sim_gpu.run(x0, y0, z0, vx0, vy0, vz0, x0.size, vzsteps= int(10), timestep = float(1.0))\n",
    "\n",
    "print('Initial', x0, y0, z0, vx0, vy0, vz0, '\\n')\n",
    "print('End', x_res, y_res, z_res, vx_res, vy_res, vz_res)"
   ]
  },
  {
   "cell_type": "code",
   "execution_count": null,
   "metadata": {},
   "outputs": [],
   "source": [
    "simulate(sim_gpu, x0, y0, z0, vx0, vy0, vz0, \n",
    "         simulation_steps=10, time_step=1.0, plot_result=True)"
   ]
  },
  {
   "cell_type": "markdown",
   "metadata": {},
   "source": [
    "# Object bunch"
   ]
  },
  {
   "cell_type": "code",
   "execution_count": 12,
   "metadata": {},
   "outputs": [],
   "source": [
    "from src.utils import *"
   ]
  },
  {
   "cell_type": "code",
   "execution_count": 13,
   "metadata": {},
   "outputs": [],
   "source": [
    "N = 21000\n",
    "\n",
    "space_objects = generate_object_states(N)\n",
    "\n",
    "    \n",
    "import pandas as pd\n",
    "a = pd.DataFrame(space_objects).values\n",
    "\n",
    "object_id = a[:, 0]\n",
    "x_batch_init = a[:, 6].astype(np.float64)\n",
    "y_batch_init = a[:, 7].astype(np.float64)\n",
    "z_batch_init = a[:, 8].astype(np.float64)\n",
    "\n",
    "vx_batch_init = a[:, 3].astype(np.float64)\n",
    "vy_batch_init = a[:, 4].astype(np.float64)\n",
    "vz_batch_init = a[:, 5].astype(np.float64)"
   ]
  },
  {
   "cell_type": "markdown",
   "metadata": {},
   "source": [
    "## cpu"
   ]
  },
  {
   "cell_type": "code",
   "execution_count": 14,
   "metadata": {},
   "outputs": [],
   "source": [
    "x0, y0, z0, vx0, vy0, vz0, x0 = \\\n",
    "x_batch_init, y_batch_init, z_batch_init, vx_batch_init, vy_batch_init, vz_batch_init, x_batch_init"
   ]
  },
  {
   "cell_type": "code",
   "execution_count": 15,
   "metadata": {},
   "outputs": [],
   "source": [
    "from src.python_package.space_junk_simulator import space_simulator\n",
    "sim_cpu = space_simulator(gpu = False)"
   ]
  },
  {
   "cell_type": "code",
   "execution_count": 16,
   "metadata": {},
   "outputs": [
    {
     "name": "stdout",
     "output_type": "stream",
     "text": [
      "CPU times: user 33.3 ms, sys: 4.17 ms, total: 37.5 ms\n",
      "Wall time: 36.2 ms\n"
     ]
    }
   ],
   "source": [
    "%%time\n",
    "x_res, y_res, z_res, vx_res, vy_res, vz_res = \\\n",
    "sim_cpu.run(x0, y0, z0, vx0, vy0, vz0, x0.size, vzsteps= int(1), timestep = float(0.1))"
   ]
  },
  {
   "cell_type": "code",
   "execution_count": 18,
   "metadata": {},
   "outputs": [
    {
     "data": {
      "application/vnd.jupyter.widget-view+json": {
       "model_id": "08c64b5da77f4334b5fd1c4b2b38613a",
       "version_major": 2,
       "version_minor": 0
      },
      "text/plain": [
       "HBox(children=(IntProgress(value=0), HTML(value='')))"
      ]
     },
     "metadata": {},
     "output_type": "display_data"
    },
    {
     "name": "stdout",
     "output_type": "stream",
     "text": [
      "\n"
     ]
    }
   ],
   "source": [
    "simulate(sim_cpu, x0, y0, z0, vx0, vy0, vz0, \n",
    "         simulation_steps=100, time_step=0.1)"
   ]
  },
  {
   "cell_type": "markdown",
   "metadata": {},
   "source": [
    "## gpu"
   ]
  },
  {
   "cell_type": "code",
   "execution_count": null,
   "metadata": {},
   "outputs": [],
   "source": [
    "x0, y0, z0, vx0, vy0, vz0, x0 = \\\n",
    "x_batch_init, y_batch_init, z_batch_init, vx_batch_init, vy_batch_init, vz_batch_init, x_batch_init"
   ]
  },
  {
   "cell_type": "code",
   "execution_count": null,
   "metadata": {},
   "outputs": [],
   "source": [
    "from src.python_package.space_junk_simulator import space_simulator\n",
    "sim_gpu = space_simulator(gpu = True)"
   ]
  },
  {
   "cell_type": "code",
   "execution_count": null,
   "metadata": {},
   "outputs": [],
   "source": [
    "%%time\n",
    "x_res, y_res, z_res, vx_res, vy_res, vz_res = \\\n",
    "sim_gpu.run(x0, y0, z0, vx0, vy0, vz0, x0.size, vzsteps= int(1), timestep = float(0.1))"
   ]
  },
  {
   "cell_type": "code",
   "execution_count": null,
   "metadata": {},
   "outputs": [],
   "source": [
    "simulation_time "
   ]
  },
  {
   "cell_type": "code",
   "execution_count": null,
   "metadata": {},
   "outputs": [],
   "source": [
    "simulate(sim_gpu, x0, y0, z0, vx0, vy0, vz0, \n",
    "        simulation_steps=36600, time_step=0.1)"
   ]
  },
  {
   "cell_type": "code",
   "execution_count": null,
   "metadata": {},
   "outputs": [],
   "source": []
  },
  {
   "cell_type": "code",
   "execution_count": null,
   "metadata": {
    "colab": {},
    "colab_type": "code",
    "id": "CucitCbv6IJ8"
   },
   "outputs": [],
   "source": [
    "import ctypes\n",
    "so_gpu_path = \"/home/ipharitonov/space_junk_simulator/src/python_package/python_package_gpu.so\"\n",
    "solver_gpu = ctypes.CDLL(so_gpu_path)"
   ]
  },
  {
   "cell_type": "code",
   "execution_count": null,
   "metadata": {},
   "outputs": [],
   "source": [
    "!nvcc -c space_junk_simulator/src/gpu/gpu_solver.cu -o space_junk_simulator/src/gpu/gpu_solver.o -Xcompiler -fPIC"
   ]
  },
  {
   "cell_type": "code",
   "execution_count": null,
   "metadata": {},
   "outputs": [],
   "source": [
    "solver_gpu.solve_cpu"
   ]
  },
  {
   "cell_type": "code",
   "execution_count": null,
   "metadata": {},
   "outputs": [],
   "source": []
  },
  {
   "cell_type": "code",
   "execution_count": null,
   "metadata": {},
   "outputs": [],
   "source": []
  },
  {
   "cell_type": "code",
   "execution_count": null,
   "metadata": {},
   "outputs": [],
   "source": []
  },
  {
   "cell_type": "markdown",
   "metadata": {},
   "source": [
    "# Тест напрямую"
   ]
  },
  {
   "cell_type": "code",
   "execution_count": null,
   "metadata": {},
   "outputs": [],
   "source": [
    "import os\n",
    "import matplotlib.pyplot as plt\n",
    "import subprocess\n",
    "import json"
   ]
  },
  {
   "cell_type": "code",
   "execution_count": null,
   "metadata": {},
   "outputs": [],
   "source": [
    "#run binary\n",
    "FNULL = open(os.devnull, 'w')    #use this if you want to suppress output to stdout from the subprocess\n",
    "args = \"../bin/spacejunk_debug_cpu.exe ../source/cfg.txt output.txt\"\n",
    "subprocess.call(args, stdout=FNULL, stderr=FNULL, shell=False)"
   ]
  },
  {
   "cell_type": "code",
   "execution_count": null,
   "metadata": {},
   "outputs": [],
   "source": []
  },
  {
   "cell_type": "code",
   "execution_count": null,
   "metadata": {},
   "outputs": [],
   "source": [
    "#set cfg.txt\n",
    "cfg = {\n",
    "    \"objects\" : [\n",
    "        {\n",
    "            \"x\" : 0.0, \n",
    "            \"y\" : 7645200.0,\n",
    "            \"z\" : 0.0,\n",
    "            \"vx\" : 7220.0,\n",
    "            \"vy\" : 0.0,\n",
    "            \"vz\" : 0.0,\n",
    "            \"size\" : 1.0\n",
    "        }\n",
    "    ],\n",
    "    \"time\" : 0.0,\n",
    "    \"dt\" : 1.0,\n",
    "    \"maxSteps\" : 1000.0,\n",
    "    \"steps\" : 1000,\n",
    "    \"logObjects\" : (0)\n",
    "}\n",
    "with open(\"cfg.txt\", \"w\") as f:\n",
    "    f.write(json.dumps(cfg))"
   ]
  },
  {
   "cell_type": "code",
   "execution_count": null,
   "metadata": {},
   "outputs": [],
   "source": [
    "!ls"
   ]
  },
  {
   "cell_type": "code",
   "execution_count": null,
   "metadata": {},
   "outputs": [],
   "source": [
    "args = \" cfg.txt output_2.txt\"\n",
    "subprocess.call(args, stdout=FNULL, stderr=FNULL, shell=False)"
   ]
  },
  {
   "cell_type": "code",
   "execution_count": null,
   "metadata": {},
   "outputs": [],
   "source": [
    "with open(\"output_2.txt\", \"r\") as res:\n",
    "    l = res.read()\n",
    "    print(l)"
   ]
  },
  {
   "cell_type": "code",
   "execution_count": null,
   "metadata": {},
   "outputs": [],
   "source": []
  },
  {
   "cell_type": "code",
   "execution_count": null,
   "metadata": {},
   "outputs": [],
   "source": []
  },
  {
   "cell_type": "code",
   "execution_count": null,
   "metadata": {},
   "outputs": [],
   "source": []
  },
  {
   "cell_type": "code",
   "execution_count": null,
   "metadata": {},
   "outputs": [],
   "source": []
  },
  {
   "cell_type": "code",
   "execution_count": null,
   "metadata": {},
   "outputs": [],
   "source": []
  },
  {
   "cell_type": "code",
   "execution_count": null,
   "metadata": {},
   "outputs": [],
   "source": []
  },
  {
   "cell_type": "code",
   "execution_count": null,
   "metadata": {},
   "outputs": [],
   "source": []
  }
 ],
 "metadata": {
  "accelerator": "GPU",
  "colab": {
   "collapsed_sections": [
    "MbNqY5kWV7tq",
    "eoeAvLfuV7t6",
    "F9ZSo-ZhV7uF",
    "7FYvtzI9V7ud",
    "ne4Yh2ktV9vs",
    "kkHA6hMGfrDF"
   ],
   "name": "1 - Debug processing.ipynb",
   "provenance": [],
   "toc_visible": true,
   "version": "0.3.2"
  },
  "kernelspec": {
   "display_name": "Python 3",
   "language": "python",
   "name": "python3"
  },
  "language_info": {
   "codemirror_mode": {
    "name": "ipython",
    "version": 3
   },
   "file_extension": ".py",
   "mimetype": "text/x-python",
   "name": "python",
   "nbconvert_exporter": "python",
   "pygments_lexer": "ipython3",
   "version": "3.6.8"
  }
 },
 "nbformat": 4,
 "nbformat_minor": 2
}
